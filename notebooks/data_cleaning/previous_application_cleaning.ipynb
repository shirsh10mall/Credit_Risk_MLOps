{
 "cells": [
  {
   "cell_type": "code",
   "execution_count": 1,
   "id": "3e0c2192",
   "metadata": {},
   "outputs": [
    {
     "name": "stdout",
     "output_type": "stream",
     "text": [
      "Current directory for notebook:  /Users/shirshmall/Personal_Drive/Credit_Risk_MLOps_Project\n"
     ]
    }
   ],
   "source": [
    "from dotenv import load_dotenv\n",
    "import os\n",
    "from pathlib import Path\n",
    "\n",
    "CURRENT_DIRECTORY_NOTEBOOK = None\n",
    "\n",
    "\n",
    "def intitate_notebook():\n",
    "    load_dotenv()\n",
    "    global CURRENT_DIRECTORY_NOTEBOOK\n",
    "    if CURRENT_DIRECTORY_NOTEBOOK is None:\n",
    "        os.chdir(os.getenv(\"PROJECT_BASE_PATH\"))\n",
    "        CURRENT_DIRECTORY_NOTEBOOK = Path(os.getcwd())\n",
    "        print(\"Current directory for notebook: \", CURRENT_DIRECTORY_NOTEBOOK)\n",
    "    else:\n",
    "        print(\n",
    "            \"Current directory for notebook is already set: \",\n",
    "            CURRENT_DIRECTORY_NOTEBOOK,\n",
    "        )\n",
    "\n",
    "\n",
    "intitate_notebook()"
   ]
  },
  {
   "cell_type": "code",
   "execution_count": null,
   "id": "bba3ca5a",
   "metadata": {},
   "outputs": [],
   "source": [
    "from pyspark.sql import SparkSession\n",
    "from pyspark.sql import functions as F\n",
    "from pyspark.sql.window import Window\n",
    "from pyspark.sql.functions import col\n",
    "from pyspark.sql.types import DoubleType"
   ]
  },
  {
   "cell_type": "code",
   "execution_count": 3,
   "id": "724d9fca",
   "metadata": {},
   "outputs": [
    {
     "name": "stderr",
     "output_type": "stream",
     "text": [
      "WARNING: Using incubator modules: jdk.incubator.vector\n",
      "25/07/26 23:53:41 WARN NativeCodeLoader: Unable to load native-hadoop library for your platform... using builtin-java classes where applicable\n",
      "Using Spark's default log4j profile: org/apache/spark/log4j2-defaults.properties\n",
      "Setting default log level to \"WARN\".\n",
      "To adjust logging level use sc.setLogLevel(newLevel). For SparkR, use setLogLevel(newLevel).\n",
      "25/07/26 23:53:42 WARN Utils: Service 'SparkUI' could not bind on port 4040. Attempting port 4041.\n"
     ]
    }
   ],
   "source": [
    "spark = (\n",
    "    SparkSession.builder.appName(\"PostgresETL\")\n",
    "    .master(\"local[1]\")  # Limit to 1 core\n",
    "    .config(\"spark.jars\", \"setup_files/postgresql-42.7.5.jar\")\n",
    "    .config(\"spark.driver.memory\", \"8g\")\n",
    "    .config(\"spark.executor.memory\", \"4g\")\n",
    "    .config(\"spark.sql.shuffle.partitions\", \"100\")\n",
    "    .config(\"spark.sql.debug.maxToStringFields\", 50)\n",
    "    .getOrCreate()\n",
    ")\n",
    "\n",
    "\n",
    "username = \"data_source_user\"\n",
    "password = \"data_source_user_password\"\n",
    "host = \"0.0.0.0\"  # \"172.17.0.1\"\n",
    "port = \"5435\"\n",
    "database = \"data_source_db\"\n",
    "\n",
    "\n",
    "jdbc_url = f\"jdbc:postgresql://{host}:{port}/{database}\"\n",
    "properties = {\"user\": username, \"password\": password, \"driver\": \"org.postgresql.Driver\"}"
   ]
  },
  {
   "cell_type": "code",
   "execution_count": 4,
   "id": "43f079a3",
   "metadata": {},
   "outputs": [],
   "source": [
    "prev_df = spark.read.option(\"failFast\", \"true\").jdbc(\n",
    "    url=jdbc_url, table=\"previous_application\", properties=properties\n",
    ")\n",
    "pos_df = spark.read.option(\"failFast\", \"true\").jdbc(\n",
    "    url=jdbc_url, table=\"pos_cash_balance\", properties=properties\n",
    ")\n",
    "cc_df = spark.read.option(\"failFast\", \"true\").jdbc(\n",
    "    url=jdbc_url, table=\"credit_card_balance\", properties=properties\n",
    ")\n",
    "inst_df = spark.read.option(\"failFast\", \"true\").jdbc(\n",
    "    url=jdbc_url, table=\"installments_payments\", properties=properties\n",
    ")"
   ]
  },
  {
   "cell_type": "code",
   "execution_count": 5,
   "id": "d710def3",
   "metadata": {},
   "outputs": [],
   "source": [
    "# pos_df.printSchema()\n",
    "# pos_df.show(5, truncate=False)"
   ]
  },
  {
   "cell_type": "code",
   "execution_count": 6,
   "id": "726cece6",
   "metadata": {},
   "outputs": [],
   "source": [
    "# for df in [prev_df, pos_df, cc_df, inst_df]:\n",
    "#     print(df.count())\n",
    "# for column_name in df.columns:\n",
    "#     null_count = df.filter(col(column_name).isNull()).count()\n",
    "#     if null_count > 0:\n",
    "#         print(f\"Column Name - {column_name}  |  Null Values Count: {null_count}\")\n",
    "#     unique_values_count = df.select(countDistinct(col(column_name))).collect()[0][0]\n",
    "#     if unique_values_count < 25:\n",
    "#         print(\n",
    "#             f\"Column Name - {column_name}  |  Unique Values: {[item[0] for item in df.select(column_name).distinct().collect()]}\"\n",
    "#         )"
   ]
  },
  {
   "cell_type": "code",
   "execution_count": 7,
   "id": "c240b97b",
   "metadata": {},
   "outputs": [],
   "source": [
    "# get_column_summary(df=pos_df, column_name=\"name_contract_status\")"
   ]
  },
  {
   "cell_type": "code",
   "execution_count": null,
   "id": "193e46a5",
   "metadata": {},
   "outputs": [],
   "source": [
    "# ===========================\n",
    "# PREVIOUS APPLICATION FEATURES\n",
    "# ===========================\n",
    "\n",
    "\n",
    "def create_prevapp_features(prev_df):\n",
    "    \"\"\"Create features from previous_application table\"\"\"\n",
    "\n",
    "    # Basic counts and aggregations\n",
    "    prevapp_basic = prev_df.groupBy(\"sk_id_curr\").agg(\n",
    "        # PrevApp_Count\n",
    "        F.count(\"*\").alias(\"prevapp_count\"),\n",
    "        # PrevApp_Approved_Count\n",
    "        F.sum(\n",
    "            F.when(F.col(\"name_contract_status\") == \"Approved\", 1).otherwise(0)\n",
    "        ).alias(\"prevapp_approved_count\"),\n",
    "        # PrevApp_Mean_Credit_Amount\n",
    "        F.mean(\"amt_credit\").alias(\"prevapp_mean_credit_amount\"),\n",
    "        # PrevApp_ApprovalRate\n",
    "        F.mean(\n",
    "            F.when(F.col(\"name_contract_status\") == \"Approved\", 1.0).otherwise(0.0)\n",
    "        ).alias(\"prevapp_approval_rate\"),\n",
    "        # PrevApp_LastAppRecency (max days_decision - closest to 0)\n",
    "        F.max(\"days_decision\").alias(\"prevapp_last_app_recency\"),\n",
    "        # For PrevApp_AvgAmtApprovedRatio - only for approved applications\n",
    "        F.mean(\n",
    "            F.when(\n",
    "                F.col(\"name_contract_status\") == \"Approved\",\n",
    "                F.col(\"amt_credit\")\n",
    "                / F.when(\n",
    "                    F.col(\"amt_application\") != 0, F.col(\"amt_application\")\n",
    "                ).otherwise(F.lit(-1.0)),\n",
    "            ).otherwise(-1.0)\n",
    "        ).alias(\"prevapp_avg_amt_approved_ratio\"),\n",
    "        # PrevApp_WeightedLoanTerm\n",
    "        F.sum(F.col(\"cnt_payment\") / (1 + F.abs(F.col(\"days_decision\")))).alias(\n",
    "            \"prevapp_weighted_loan_term_numerator\"\n",
    "        ),\n",
    "        F.sum(1 / (1 + F.abs(F.col(\"days_decision\")))).alias(\n",
    "            \"prevapp_weighted_loan_term_denominator\"\n",
    "        ),\n",
    "    )\n",
    "\n",
    "    # Calculate weighted loan term\n",
    "    prevapp_basic = prevapp_basic.withColumn(\n",
    "        \"prevapp_weighted_loan_term\",\n",
    "        F.when(\n",
    "            F.col(\"prevapp_weighted_loan_term_denominator\") != 0,\n",
    "            F.col(\"prevapp_weighted_loan_term_numerator\")\n",
    "            / F.col(\"prevapp_weighted_loan_term_denominator\"),\n",
    "        ).otherwise(-1.0),\n",
    "    ).drop(\n",
    "        \"prevapp_weighted_loan_term_numerator\", \"prevapp_weighted_loan_term_denominator\"\n",
    "    )\n",
    "\n",
    "    # PrevApp_MeanApplicationGap\n",
    "    window_gap = Window.partitionBy(\"sk_id_curr\").orderBy(\"days_decision\")\n",
    "    prev_with_lag = prev_df.withColumn(\n",
    "        \"prev_days_decision\", F.lag(\"days_decision\").over(window_gap)\n",
    "    )\n",
    "\n",
    "    app_gaps = (\n",
    "        prev_with_lag.filter(F.col(\"prev_days_decision\").isNotNull())\n",
    "        .groupBy(\"sk_id_curr\")\n",
    "        .agg(\n",
    "            F.mean(F.abs(F.col(\"days_decision\") - F.col(\"prev_days_decision\"))).alias(\n",
    "                \"prevapp_mean_application_gap\"\n",
    "            )\n",
    "        )\n",
    "    )\n",
    "\n",
    "    # PrevApp_Streak_Refused\n",
    "    window_streak = Window.partitionBy(\"sk_id_curr\").orderBy(\n",
    "        F.col(\"days_decision\").desc()\n",
    "    )\n",
    "\n",
    "    prev_with_row = prev_df.withColumn(\"row_num\", F.row_number().over(window_streak))\n",
    "\n",
    "    refused_streak = (\n",
    "        prev_with_row.withColumn(\n",
    "            \"is_refused\",\n",
    "            F.when(F.col(\"name_contract_status\") == \"Refused\", 1).otherwise(0),\n",
    "        )\n",
    "        .withColumn(\n",
    "            \"cumsum_not_refused\", F.sum(1 - F.col(\"is_refused\")).over(window_streak)\n",
    "        )\n",
    "        .filter(F.col(\"cumsum_not_refused\") == 0)\n",
    "        .groupBy(\"sk_id_curr\")\n",
    "        .agg(F.count(\"*\").alias(\"prevapp_streak_refused\"))\n",
    "    )\n",
    "\n",
    "    # PrevApp_ProductSwitchRate\n",
    "    window_switch = Window.partitionBy(\"sk_id_curr\").orderBy(\"days_decision\")\n",
    "    prev_with_switch = prev_df.withColumn(\n",
    "        \"prev_product\", F.lag(\"name_product_type\").over(window_switch)\n",
    "    )\n",
    "\n",
    "    product_switches = (\n",
    "        prev_with_switch.filter(F.col(\"prev_product\").isNotNull())\n",
    "        .groupBy(\"sk_id_curr\")\n",
    "        .agg(\n",
    "            F.mean(\n",
    "                F.when(\n",
    "                    F.col(\"name_product_type\") != F.col(\"prev_product\"), 1.0\n",
    "                ).otherwise(0.0)\n",
    "            ).alias(\"prevapp_product_switch_rate\")\n",
    "        )\n",
    "    )\n",
    "\n",
    "    # Combine all features\n",
    "    result = prevapp_basic\n",
    "    result = result.join(app_gaps, \"sk_id_curr\", \"left\")\n",
    "    result = result.join(refused_streak, \"sk_id_curr\", \"left\")\n",
    "    result = result.join(product_switches, \"sk_id_curr\", \"left\")\n",
    "\n",
    "    # Fill 0 for refused streak if no refused applications\n",
    "    result = result.fillna(0, subset=[\"prevapp_streak_refused\"])\n",
    "\n",
    "    return result\n",
    "\n",
    "\n",
    "# ===========================\n",
    "# POS CASH BALANCE FEATURES\n",
    "# ===========================\n",
    "\n",
    "\n",
    "def create_pos_features(pos_df):\n",
    "    \"\"\"Create features from pos_cash_balance table\"\"\"\n",
    "\n",
    "    # Basic aggregations\n",
    "    pos_basic = pos_df.groupBy(\"sk_id_curr\").agg(\n",
    "        # POS_Active_Count - count unique SK_ID_PREV where last status is Active\n",
    "        F.countDistinct(\"sk_id_prev\").alias(\"pos_total_loans\"),\n",
    "        # POS_Mean_Months_Balance\n",
    "        F.mean(\"months_balance\").alias(\"pos_mean_months_balance\"),\n",
    "        # POS_Avg_DPD\n",
    "        F.mean(\"sk_dpd\").alias(\"pos_avg_dpd\"),\n",
    "        # POS_DelinqTrend (will calculate separately)\n",
    "        F.collect_list(F.struct(\"months_balance\", \"sk_dpd\")).alias(\"dpd_history\"),\n",
    "        # POS_PaymentRatio_Avg\n",
    "        F.mean(\n",
    "            F.when(\n",
    "                (F.col(\"cnt_instalment_future\") != 0)\n",
    "                & F.col(\"cnt_instalment_future\").isNotNull(),\n",
    "                F.col(\"cnt_instalment\") / F.col(\"cnt_instalment_future\"),\n",
    "            ).otherwise(-1.0)\n",
    "        ).alias(\"pos_payment_ratio_avg\"),\n",
    "        # POS_LastDelinqRecency\n",
    "        F.min(\n",
    "            F.when(F.col(\"sk_dpd\") > 0, F.col(\"months_balance\")).otherwise(-1.0)\n",
    "        ).alias(\"pos_last_delinq_recency\"),\n",
    "        # For volatility calculation\n",
    "        F.stddev(\n",
    "            F.when(\n",
    "                (F.col(\"cnt_instalment\") != 0) & F.col(\"cnt_instalment\").isNotNull(),\n",
    "                (F.col(\"cnt_instalment\") - F.col(\"cnt_instalment_future\"))\n",
    "                / F.col(\"cnt_instalment\"),\n",
    "            ).otherwise(-1.0)\n",
    "        ).alias(\"pos_utilization_volatility\"),\n",
    "    )\n",
    "\n",
    "    # Calculate delinquency trend using UDF\n",
    "    @F.udf(returnType=DoubleType())\n",
    "    def calculate_dpd_trend(dpd_history):\n",
    "        if not dpd_history or len(dpd_history) < 2:\n",
    "            return None\n",
    "\n",
    "        # Extract months and dpd values\n",
    "        data = [\n",
    "            (row[\"months_balance\"], row[\"sk_dpd\"])\n",
    "            for row in dpd_history\n",
    "            if row[\"sk_dpd\"] is not None\n",
    "        ]\n",
    "\n",
    "        if len(data) < 2:\n",
    "            return None\n",
    "\n",
    "        # Simple linear regression\n",
    "        n = len(data)\n",
    "        sum_x = sum(d[0] for d in data)\n",
    "        sum_y = sum(d[1] for d in data)\n",
    "        sum_xy = sum(d[0] * d[1] for d in data)\n",
    "        sum_x2 = sum(d[0] * d[0] for d in data)\n",
    "\n",
    "        denominator = n * sum_x2 - sum_x * sum_x\n",
    "        if denominator == 0:\n",
    "            return None\n",
    "\n",
    "        slope = (n * sum_xy - sum_x * sum_y) / denominator\n",
    "        return float(slope)\n",
    "\n",
    "    pos_basic = pos_basic.withColumn(\n",
    "        \"pos_delinq_trend\", calculate_dpd_trend(\"dpd_history\")\n",
    "    ).drop(\"dpd_history\")\n",
    "\n",
    "    # POS_Active_Count - need to get last status per loan\n",
    "    window_last = Window.partitionBy(\"sk_id_curr\", \"sk_id_prev\").orderBy(\n",
    "        F.col(\"months_balance\").desc()\n",
    "    )\n",
    "    pos_last_status = pos_df.withColumn(\n",
    "        \"row_num\", F.row_number().over(window_last)\n",
    "    ).filter(F.col(\"row_num\") == 1)\n",
    "\n",
    "    active_counts = pos_last_status.groupBy(\"sk_id_curr\").agg(\n",
    "        F.sum(F.when(F.col(\"name_contract_status\") == \"Active\", 1).otherwise(0)).alias(\n",
    "            \"pos_active_count\"\n",
    "        )\n",
    "    )\n",
    "\n",
    "    # POS_DelinqStreak_Max\n",
    "    window_streak = Window.partitionBy(\"sk_id_curr\", \"sk_id_prev\").orderBy(\n",
    "        \"months_balance\"\n",
    "    )\n",
    "\n",
    "    pos_with_streak = pos_df.withColumn(\n",
    "        \"is_delinq\", F.when(F.col(\"sk_dpd\") > 0, 1).otherwise(0)\n",
    "    ).withColumn(\n",
    "        \"grp\",\n",
    "        F.sum(F.when(F.col(\"is_delinq\") == 0, 1).otherwise(0)).over(window_streak),\n",
    "    )\n",
    "\n",
    "    delinq_streaks = (\n",
    "        pos_with_streak.filter(F.col(\"is_delinq\") == 1)\n",
    "        .groupBy(\"sk_id_curr\", \"sk_id_prev\", \"grp\")\n",
    "        .agg(F.count(\"*\").alias(\"streak_length\"))\n",
    "        .groupBy(\"sk_id_curr\")\n",
    "        .agg(F.max(\"streak_length\").alias(\"pos_delinq_streak_max\"))\n",
    "    )\n",
    "\n",
    "    # POS_Seasonality_DelinqSpike\n",
    "    pos_seasonal = pos_df.withColumn(\n",
    "        \"quarter\",\n",
    "        F.when(F.col(\"months_balance\") % 12 >= -3, \"Q4\")\n",
    "        .when(F.col(\"months_balance\") % 12 >= -6, \"Q3\")\n",
    "        .when(F.col(\"months_balance\") % 12 >= -9, \"Q2\")\n",
    "        .otherwise(\"Q1\"),\n",
    "    )\n",
    "\n",
    "    seasonal_dpd = (\n",
    "        pos_seasonal.groupBy(\"sk_id_curr\", \"quarter\")\n",
    "        .agg(F.mean(\"sk_dpd\").alias(\"mean_dpd\"))\n",
    "        .groupBy(\"sk_id_curr\")\n",
    "        .pivot(\"quarter\")\n",
    "        .agg(F.first(\"mean_dpd\"))\n",
    "    )\n",
    "\n",
    "    seasonal_dpd = seasonal_dpd.withColumn(\n",
    "        \"pos_seasonality_delinq_spike\",\n",
    "        F.coalesce(F.col(\"Q4\"), F.lit(0)) - F.coalesce(F.col(\"Q1\"), F.lit(0)),\n",
    "    ).select(\"sk_id_curr\", \"pos_seasonality_delinq_spike\")\n",
    "\n",
    "    # Combine all features\n",
    "    result = pos_basic\n",
    "    result = result.join(active_counts, \"sk_id_curr\", \"left\")\n",
    "    result = result.join(delinq_streaks, \"sk_id_curr\", \"left\")\n",
    "    result = result.join(seasonal_dpd, \"sk_id_curr\", \"left\")\n",
    "\n",
    "    return result\n",
    "\n",
    "\n",
    "# ===========================\n",
    "# CREDIT CARD BALANCE FEATURES\n",
    "# ===========================\n",
    "\n",
    "\n",
    "def create_cc_features(cc_df):\n",
    "    \"\"\"Create features from credit_card_balance table\"\"\"\n",
    "\n",
    "    # Basic aggregations\n",
    "    cc_basic = cc_df.groupBy(\"sk_id_curr\").agg(\n",
    "        # CC_Num_Cards\n",
    "        F.countDistinct(\"sk_id_prev\").alias(\"cc_num_cards\"),\n",
    "        # CC_Avg_Balance\n",
    "        F.mean(\"amt_balance\").alias(\"cc_avg_balance\"),\n",
    "        # CC_Utilization_Mean/Max\n",
    "        F.mean(\n",
    "            F.when(\n",
    "                (F.col(\"amt_credit_limit_actual\") > 0)\n",
    "                & F.col(\"amt_credit_limit_actual\").isNotNull(),\n",
    "                F.col(\"amt_balance\") / F.col(\"amt_credit_limit_actual\"),\n",
    "            ).otherwise(-1.0)\n",
    "        ).alias(\"cc_utilization_mean\"),\n",
    "        F.max(\n",
    "            F.when(\n",
    "                (F.col(\"amt_credit_limit_actual\") > 0)\n",
    "                & F.col(\"amt_credit_limit_actual\").isNotNull(),\n",
    "                F.col(\"amt_balance\") / F.col(\"amt_credit_limit_actual\"),\n",
    "            ).otherwise(-1.0)\n",
    "        ).alias(\"cc_utilization_max\"),\n",
    "        # CC_PaymentCoverageRatio\n",
    "        F.mean(\n",
    "            F.when(\n",
    "                (F.col(\"amt_inst_min_regularity\") > 0)\n",
    "                & F.col(\"amt_inst_min_regularity\").isNotNull(),\n",
    "                F.col(\"amt_payment_total_current\") / F.col(\"amt_inst_min_regularity\"),\n",
    "            ).otherwise(-1.0)\n",
    "        ).alias(\"cc_payment_coverage_ratio\"),\n",
    "        # CC_LatestCycleOverLimitFlag\n",
    "        F.max(\n",
    "            F.when(\n",
    "                F.col(\"amt_balance\") > F.col(\"amt_credit_limit_actual\"), 1\n",
    "            ).otherwise(0)\n",
    "        ).alias(\"cc_latest_cycle_over_limit_flag\"),\n",
    "        # CC_Volatility_Payment\n",
    "        F.stddev(\"amt_payment_total_current\").alias(\"cc_volatility_payment\"),\n",
    "        # For trend calculation\n",
    "        F.collect_list(F.struct(\"months_balance\", \"amt_balance\")).alias(\n",
    "            \"balance_history\"\n",
    "        ),\n",
    "    )\n",
    "\n",
    "    # Calculate drawing trend\n",
    "    @F.udf(returnType=DoubleType())\n",
    "    def calculate_balance_trend(balance_history):\n",
    "        if not balance_history or len(balance_history) < 2:\n",
    "            return None\n",
    "\n",
    "        # Extract months and balance values\n",
    "        data = [\n",
    "            (row[\"months_balance\"], row[\"amt_balance\"])\n",
    "            for row in balance_history\n",
    "            if row[\"amt_balance\"] is not None and row[\"months_balance\"] is not None\n",
    "        ]\n",
    "\n",
    "        if len(data) < 2:\n",
    "            return None\n",
    "\n",
    "        # Simple linear regression\n",
    "        n = len(data)\n",
    "        sum_x = sum(d[0] for d in data)\n",
    "        sum_y = sum(d[1] for d in data)\n",
    "        sum_xy = sum(d[0] * d[1] for d in data)\n",
    "        sum_x2 = sum(d[0] * d[0] for d in data)\n",
    "\n",
    "        denominator = n * sum_x2 - sum_x * sum_x\n",
    "        if denominator == 0:\n",
    "            return None\n",
    "\n",
    "        slope = (n * sum_xy - sum_x * sum_y) / denominator\n",
    "        return float(slope)\n",
    "\n",
    "    cc_basic = cc_basic.withColumn(\n",
    "        \"cc_drawing_trend\", calculate_balance_trend(\"balance_history\")\n",
    "    ).drop(\"balance_history\")\n",
    "\n",
    "    # CC_DPD_Counts - sum all CNT_DRAWINGS_ATM_* columns\n",
    "    cc_dpd = cc_df.groupBy(\"sk_id_curr\").agg(\n",
    "        F.sum(\"cnt_drawings_atm_current\").alias(\"cc_dpd_atm_sum\"),\n",
    "        F.sum(\"cnt_drawings_other_current\").alias(\"cc_dpd_other_sum\"),\n",
    "        F.sum(\"cnt_drawings_pos_current\").alias(\"cc_dpd_pos_sum\"),\n",
    "    )\n",
    "\n",
    "    # CC_RecentHighUtilFlag - check last 3 months\n",
    "    window_recent = Window.partitionBy(\"sk_id_curr\", \"sk_id_prev\").orderBy(\n",
    "        F.col(\"months_balance\").desc()\n",
    "    )\n",
    "\n",
    "    cc_recent = cc_df.withColumn(\"row_num\", F.row_number().over(window_recent)).filter(\n",
    "        F.col(\"row_num\") <= 3\n",
    "    )\n",
    "\n",
    "    recent_high_util = cc_recent.groupBy(\"sk_id_curr\").agg(\n",
    "        F.max(\n",
    "            F.when(\n",
    "                (F.col(\"amt_credit_limit_actual\") > 0)\n",
    "                & F.col(\"amt_credit_limit_actual\").isNotNull(),\n",
    "                F.when(\n",
    "                    F.col(\"amt_balance\") / F.col(\"amt_credit_limit_actual\") > 0.8, 1\n",
    "                ).otherwise(0),\n",
    "            ).otherwise(0)\n",
    "        ).alias(\"cc_recent_high_util_flag\")\n",
    "    )\n",
    "\n",
    "    # Combine all features\n",
    "    result = cc_basic\n",
    "    result = result.join(cc_dpd, \"sk_id_curr\", \"left\")\n",
    "    result = result.join(recent_high_util, \"sk_id_curr\", \"left\")\n",
    "\n",
    "    return result\n",
    "\n",
    "\n",
    "# ===========================\n",
    "# INSTALLMENTS PAYMENTS FEATURES\n",
    "# ===========================\n",
    "\n",
    "\n",
    "def create_inst_features(inst_df):\n",
    "    \"\"\"Create features from installments_payments table\"\"\"\n",
    "\n",
    "    # Calculate delay for each installment\n",
    "    inst_with_delay = inst_df.withColumn(\n",
    "        \"delay\",\n",
    "        F.when(\n",
    "            F.col(\"days_entry_payment\").isNotNull()\n",
    "            & F.col(\"days_instalment\").isNotNull(),\n",
    "            F.col(\"days_entry_payment\") - F.col(\"days_instalment\"),\n",
    "        ).otherwise(-1.0),\n",
    "    )\n",
    "\n",
    "    # Basic aggregations\n",
    "    inst_basic = inst_with_delay.groupBy(\"sk_id_curr\").agg(\n",
    "        # Inst_Mean_Delay\n",
    "        F.mean(\"delay\").alias(\"inst_mean_delay\"),\n",
    "        # Inst_Delay_Mean/Max\n",
    "        F.mean(\"delay\").alias(\"inst_delay_mean\"),\n",
    "        F.max(\"delay\").alias(\"inst_delay_max\"),\n",
    "        # Inst_LatePayment_Count\n",
    "        F.sum(F.when(F.col(\"delay\") > 0, 1).otherwise(0)).alias(\n",
    "            \"inst_latepayment_count\"\n",
    "        ),\n",
    "        # Inst_EarlyPay_Ratio\n",
    "        F.mean(F.when(F.col(\"delay\") < 0, 1.0).otherwise(0.0)).alias(\n",
    "            \"inst_earlypay_ratio\"\n",
    "        ),\n",
    "        # Inst_Overpayment_Rate\n",
    "        F.mean(\n",
    "            F.when(\n",
    "                (F.col(\"amt_payment\") > F.col(\"amt_instalment\"))\n",
    "                & F.col(\"amt_payment\").isNotNull()\n",
    "                & F.col(\"amt_instalment\").isNotNull(),\n",
    "                1.0,\n",
    "            ).otherwise(0.0)\n",
    "        ).alias(\"inst_overpayment_rate\"),\n",
    "        # Inst_PaidCoverage\n",
    "        F.mean(\n",
    "            F.when(\n",
    "                (F.col(\"amt_instalment\") > 0) & F.col(\"amt_instalment\").isNotNull(),\n",
    "                F.col(\"amt_payment\") / F.col(\"amt_instalment\"),\n",
    "            ).otherwise(-1.0)\n",
    "        ).alias(\"inst_paid_coverage\"),\n",
    "        # For weighted delay calculation\n",
    "        F.sum(\n",
    "            F.when(F.col(\"delay\") > 0, F.col(\"delay\")).otherwise(0)\n",
    "            / (1 + F.abs(F.col(\"days_instalment\")))\n",
    "        ).alias(\"inst_weighted_delay_numerator\"),\n",
    "        F.sum(1 / (1 + F.abs(F.col(\"days_instalment\")))).alias(\n",
    "            \"inst_weighted_delay_denominator\"\n",
    "        ),\n",
    "        # Total count for calculations\n",
    "        F.count(\"*\").alias(\"total_installments\"),\n",
    "    )\n",
    "\n",
    "    # Calculate weighted delay\n",
    "    inst_basic = inst_basic.withColumn(\n",
    "        \"inst_weighted_delay\",\n",
    "        F.when(\n",
    "            F.col(\"inst_weighted_delay_denominator\") > 0,\n",
    "            F.col(\"inst_weighted_delay_numerator\")\n",
    "            / F.col(\"inst_weighted_delay_denominator\"),\n",
    "        ).otherwise(-1.0),\n",
    "    ).drop(\"inst_weighted_delay_numerator\", \"inst_weighted_delay_denominator\")\n",
    "\n",
    "    # Inst_LateStreak_Max\n",
    "    window_streak = Window.partitionBy(\"sk_id_curr\", \"sk_id_prev\").orderBy(\n",
    "        \"days_instalment\"\n",
    "    )\n",
    "\n",
    "    inst_with_streak = inst_with_delay.withColumn(\n",
    "        \"is_late\", F.when(F.col(\"delay\") > 0, 1).otherwise(0)\n",
    "    ).withColumn(\n",
    "        \"grp\", F.sum(F.when(F.col(\"is_late\") == 0, 1).otherwise(0)).over(window_streak)\n",
    "    )\n",
    "\n",
    "    late_streaks = (\n",
    "        inst_with_streak.filter(F.col(\"is_late\") == 1)\n",
    "        .groupBy(\"sk_id_curr\", \"sk_id_prev\", \"grp\")\n",
    "        .agg(F.count(\"*\").alias(\"streak_length\"))\n",
    "        .groupBy(\"sk_id_curr\")\n",
    "        .agg(F.max(\"streak_length\").alias(\"inst_late_streak_max\"))\n",
    "    )\n",
    "\n",
    "    # Inst_Seasonal_Effect\n",
    "    inst_seasonal = inst_with_delay.withColumn(\n",
    "        \"month\", F.month(F.expr(\"date_add('2018-01-01', days_instalment)\"))\n",
    "    ).withColumn(\n",
    "        \"quarter\",\n",
    "        F.when(F.col(\"month\").isin(10, 11, 12), \"Q4\")\n",
    "        .when(F.col(\"month\").isin(7, 8, 9), \"Q3\")\n",
    "        .when(F.col(\"month\").isin(4, 5, 6), \"Q2\")\n",
    "        .otherwise(\"Q1\"),\n",
    "    )\n",
    "\n",
    "    seasonal_delay = (\n",
    "        inst_seasonal.groupBy(\"sk_id_curr\", \"quarter\")\n",
    "        .agg(F.mean(\"delay\").alias(\"mean_delay\"))\n",
    "        .groupBy(\"sk_id_curr\")\n",
    "        .pivot(\"quarter\")\n",
    "        .agg(F.first(\"mean_delay\"))\n",
    "    )\n",
    "\n",
    "    seasonal_delay = seasonal_delay.withColumn(\n",
    "        \"inst_seasonal_effect\",\n",
    "        F.coalesce(F.col(\"Q4\"), F.lit(0)) - F.coalesce(F.col(\"Q2\"), F.lit(0)),\n",
    "    ).select(\"sk_id_curr\", \"inst_seasonal_effect\")\n",
    "\n",
    "    # Combine all features\n",
    "    result = inst_basic\n",
    "    result = result.join(late_streaks, \"sk_id_curr\", \"left\")\n",
    "    result = result.join(seasonal_delay, \"sk_id_curr\", \"left\")\n",
    "\n",
    "    return result\n",
    "\n",
    "\n",
    "# ===========================\n",
    "# CROSS-TABLE INTERACTION FEATURES\n",
    "# ===========================\n",
    "\n",
    "\n",
    "def create_cross_features(prev_df, pos_df, cc_df, inst_df):\n",
    "    \"\"\"Create cross-table interaction features\"\"\"\n",
    "\n",
    "    # A. previous_application ↔ POS_CASH_balance\n",
    "\n",
    "    # Get unique SK_ID_PREV from each table\n",
    "    prev_ids = prev_df.select(\"sk_id_curr\", \"sk_id_prev\").distinct()\n",
    "    pos_ids = pos_df.select(\"sk_id_curr\", \"sk_id_prev\").distinct()\n",
    "    cc_ids = cc_df.select(\"sk_id_curr\", \"sk_id_prev\").distinct()\n",
    "    # inst_ids = inst_df.select(\"sk_id_curr\", \"sk_id_prev\").distinct()\n",
    "\n",
    "    # PrevApp_POS_ConversionRate\n",
    "    pos_conversion = (\n",
    "        prev_ids.join(pos_ids, [\"sk_id_curr\", \"sk_id_prev\"], \"left\")\n",
    "        .groupBy(\"sk_id_curr\")\n",
    "        .agg(\n",
    "            F.sum(F.when(pos_ids[\"sk_id_prev\"].isNotNull(), 1).otherwise(0)).alias(\n",
    "                \"pos_converted\"\n",
    "            ),\n",
    "            F.count(\"*\").alias(\"total_prev_apps\"),\n",
    "        )\n",
    "        .withColumn(\n",
    "            \"prevapp_pos_conversion_rate\",\n",
    "            F.col(\"pos_converted\") / F.col(\"total_prev_apps\"),\n",
    "        )\n",
    "        .select(\"sk_id_curr\", \"prevapp_pos_conversion_rate\")\n",
    "    )\n",
    "\n",
    "    # PrevApp_CC_ConversionRate\n",
    "    cc_conversion = (\n",
    "        prev_ids.join(cc_ids, [\"sk_id_curr\", \"sk_id_prev\"], \"left\")\n",
    "        .groupBy(\"sk_id_curr\")\n",
    "        .agg(\n",
    "            F.sum(F.when(cc_ids[\"sk_id_prev\"].isNotNull(), 1).otherwise(0)).alias(\n",
    "                \"cc_converted\"\n",
    "            ),\n",
    "            F.count(\"*\").alias(\"total_prev_apps\"),\n",
    "        )\n",
    "        .withColumn(\n",
    "            \"prevapp_cc_conversion_rate\",\n",
    "            F.col(\"cc_converted\") / F.col(\"total_prev_apps\"),\n",
    "        )\n",
    "        .select(\"sk_id_curr\", \"prevapp_cc_conversion_rate\")\n",
    "    )\n",
    "\n",
    "    # PrevApp_POS_DPD_Mean\n",
    "    prev_pos_join = prev_df.select(\"sk_id_curr\", \"sk_id_prev\").join(\n",
    "        pos_df.select(\"sk_id_prev\", \"sk_dpd\"), \"sk_id_prev\"\n",
    "    )\n",
    "\n",
    "    pos_dpd_mean = prev_pos_join.groupBy(\"sk_id_curr\").agg(\n",
    "        F.mean(\"sk_dpd\").alias(\"prevapp_pos_dpd_mean\")\n",
    "    )\n",
    "\n",
    "    # PrevApp_to_POS_LagDays_Mean\n",
    "    prev_decision = prev_df.select(\"sk_id_curr\", \"sk_id_prev\", \"days_decision\")\n",
    "    pos_months = pos_df.groupBy(\"sk_id_curr\", \"sk_id_prev\").agg(\n",
    "        F.min(\"months_balance\").alias(\"min_months_balance\")\n",
    "    )\n",
    "\n",
    "    lag_days = (\n",
    "        prev_decision.join(pos_months, [\"sk_id_curr\", \"sk_id_prev\"])\n",
    "        .withColumn(\n",
    "            \"lag_days\", -F.col(\"min_months_balance\") * 30 - F.col(\"days_decision\")\n",
    "        )\n",
    "        .groupBy(\"sk_id_curr\")\n",
    "        .agg(F.mean(\"lag_days\").alias(\"prevapp_to_pos_lagdays_mean\"))\n",
    "    )\n",
    "\n",
    "    # PrevApp_CC_Utilization_Mean\n",
    "    prev_cc_join = prev_df.select(\"sk_id_curr\", \"sk_id_prev\").join(\n",
    "        cc_df.select(\"sk_id_prev\", \"amt_balance\", \"amt_credit_limit_actual\"),\n",
    "        \"sk_id_prev\",\n",
    "    )\n",
    "\n",
    "    cc_util_mean = prev_cc_join.groupBy(\"sk_id_curr\").agg(\n",
    "        F.mean(\n",
    "            F.when(\n",
    "                (F.col(\"amt_credit_limit_actual\") > 0)\n",
    "                & F.col(\"amt_credit_limit_actual\").isNotNull(),\n",
    "                F.col(\"amt_balance\") / F.col(\"amt_credit_limit_actual\"),\n",
    "            ).otherwise(-1.0)\n",
    "        ).alias(\"prevapp_cc_utilization_mean\")\n",
    "    )\n",
    "\n",
    "    # PrevApp_CC_PaymentCoverage_Mean\n",
    "    prev_cc_payment = prev_df.select(\"sk_id_curr\", \"sk_id_prev\").join(\n",
    "        cc_df.select(\n",
    "            \"sk_id_prev\", \"amt_payment_total_current\", \"amt_inst_min_regularity\"\n",
    "        ),\n",
    "        \"sk_id_prev\",\n",
    "    )\n",
    "\n",
    "    cc_payment_mean = prev_cc_payment.groupBy(\"sk_id_curr\").agg(\n",
    "        F.mean(\n",
    "            F.when(\n",
    "                (F.col(\"amt_inst_min_regularity\") > 0)\n",
    "                & F.col(\"amt_inst_min_regularity\").isNotNull(),\n",
    "                F.col(\"amt_payment_total_current\") / F.col(\"amt_inst_min_regularity\"),\n",
    "            ).otherwise(-1.0)\n",
    "        ).alias(\"prevapp_cc_payment_coverage_mean\")\n",
    "    )\n",
    "\n",
    "    # PrevApp_Inst features (for approved applications only)\n",
    "    approved_prev = prev_df.filter(F.col(\"name_contract_status\") == \"Approved\").select(\n",
    "        \"sk_id_curr\", \"sk_id_prev\"\n",
    "    )\n",
    "\n",
    "    inst_with_delay = inst_df.withColumn(\n",
    "        \"delay\",\n",
    "        F.when(\n",
    "            F.col(\"days_entry_payment\").isNotNull()\n",
    "            & F.col(\"days_instalment\").isNotNull(),\n",
    "            F.col(\"days_entry_payment\") - F.col(\"days_instalment\"),\n",
    "        ).otherwise(-1.0),\n",
    "    )\n",
    "\n",
    "    prev_inst_join = approved_prev.join(\n",
    "        inst_with_delay.select(\"sk_id_prev\", \"delay\"), \"sk_id_prev\"\n",
    "    )\n",
    "\n",
    "    # PrevApp_Inst_Delay_Avg\n",
    "    inst_delay_avg = prev_inst_join.groupBy(\"sk_id_curr\").agg(\n",
    "        F.mean(\"delay\").alias(\"prevapp_inst_delay_avg\")\n",
    "    )\n",
    "\n",
    "    # PrevApp_Inst_EarlyPay_Rate\n",
    "    inst_earlypay = prev_inst_join.groupBy(\"sk_id_curr\").agg(\n",
    "        F.mean(F.when(F.col(\"delay\") < 0, 1.0).otherwise(0.0)).alias(\n",
    "            \"prevapp_inst_earlypay_rate\"\n",
    "        )\n",
    "    )\n",
    "\n",
    "    # PrevApp_Inst_LateStreak_Max\n",
    "    window_inst_streak = Window.partitionBy(\n",
    "        approved_prev[\"sk_id_curr\"], \"sk_id_prev\"\n",
    "    ).orderBy(\"days_instalment\")\n",
    "\n",
    "    inst_streak_calc = (\n",
    "        approved_prev.join(inst_df, \"sk_id_prev\")\n",
    "        .withColumn(\n",
    "            \"delay\",\n",
    "            F.when(\n",
    "                F.col(\"days_entry_payment\").isNotNull()\n",
    "                & F.col(\"days_instalment\").isNotNull(),\n",
    "                F.col(\"days_entry_payment\") - F.col(\"days_instalment\"),\n",
    "            ).otherwise(-1.0),\n",
    "        )\n",
    "        .withColumn(\"is_late\", F.when(F.col(\"delay\") > 0, 1).otherwise(0))\n",
    "        .withColumn(\n",
    "            \"grp\",\n",
    "            F.sum(F.when(F.col(\"is_late\") == 0, 1).otherwise(0)).over(\n",
    "                window_inst_streak\n",
    "            ),\n",
    "        )\n",
    "    )\n",
    "\n",
    "    inst_late_streak = (\n",
    "        inst_streak_calc.filter(F.col(\"is_late\") == 1)\n",
    "        .groupBy(approved_prev[\"sk_id_curr\"], \"sk_id_prev\", \"grp\")\n",
    "        .agg(F.count(\"*\").alias(\"streak_length\"))\n",
    "        .groupBy(approved_prev[\"sk_id_curr\"])\n",
    "        .agg(F.max(\"streak_length\").alias(\"prevapp_inst_late_streak_max\"))\n",
    "    )\n",
    "\n",
    "    # Combine all cross features\n",
    "    result = pos_conversion\n",
    "    result = result.join(cc_conversion, \"sk_id_curr\", \"left\")\n",
    "    result = result.join(pos_dpd_mean, \"sk_id_curr\", \"left\")\n",
    "    result = result.join(lag_days, \"sk_id_curr\", \"left\")\n",
    "    result = result.join(cc_util_mean, \"sk_id_curr\", \"left\")\n",
    "    result = result.join(cc_payment_mean, \"sk_id_curr\", \"left\")\n",
    "    result = result.join(inst_delay_avg, \"sk_id_curr\", \"left\")\n",
    "    result = result.join(inst_earlypay, \"sk_id_curr\", \"left\")\n",
    "    result = result.join(inst_late_streak, \"sk_id_curr\", \"left\")\n",
    "\n",
    "    return result\n",
    "\n",
    "\n",
    "# ===========================\n",
    "# MAIN FEATURE ENGINEERING FUNCTION\n",
    "# ===========================\n",
    "\n",
    "\n",
    "def create_all_features(prev_df, pos_df, cc_df, inst_df):\n",
    "    \"\"\"\n",
    "    Main function to create all features from all tables.\n",
    "    Returns a single DataFrame with sk_id_curr and all features.\n",
    "    \"\"\"\n",
    "\n",
    "    # Create features from each table\n",
    "    print(\"Creating previous application features...\")\n",
    "    prevapp_features = create_prevapp_features(prev_df)\n",
    "    prevapp_features.show(5)\n",
    "\n",
    "    print(\"Creating POS cash balance features...\")\n",
    "    pos_features = create_pos_features(pos_df)\n",
    "    pos_features.show(5)\n",
    "\n",
    "    print(\"Creating credit card balance features...\")\n",
    "    cc_features = create_cc_features(cc_df)\n",
    "    cc_features.show(5)\n",
    "\n",
    "    print(\"Creating installments payments features...\")\n",
    "    inst_features = create_inst_features(inst_df)\n",
    "    inst_features.show(5)\n",
    "\n",
    "    print(\"Creating cross-table interaction features...\")\n",
    "    cross_features = create_cross_features(prev_df, pos_df, cc_df, inst_df)\n",
    "    cross_features.show(5)\n",
    "\n",
    "    # Get all unique SK_ID_CURR values\n",
    "    all_ids = prev_df.select(\"sk_id_curr\").distinct()\n",
    "    all_ids = all_ids.union(pos_df.select(\"sk_id_curr\").distinct())\n",
    "    all_ids = all_ids.union(cc_df.select(\"sk_id_curr\").distinct())\n",
    "    all_ids = all_ids.union(inst_df.select(\"sk_id_curr\").distinct())\n",
    "    all_ids = all_ids.distinct()\n",
    "\n",
    "    # Join all features\n",
    "    print(\"Joining all features...\")\n",
    "    result = all_ids\n",
    "    result = result.join(prevapp_features, \"sk_id_curr\", \"left\")\n",
    "    result = result.join(pos_features, \"sk_id_curr\", \"left\")\n",
    "    result = result.join(cc_features, \"sk_id_curr\", \"left\")\n",
    "    result = result.join(inst_features, \"sk_id_curr\", \"left\")\n",
    "    result = result.join(cross_features, \"sk_id_curr\", \"left\")\n",
    "\n",
    "    return result"
   ]
  },
  {
   "cell_type": "code",
   "execution_count": 9,
   "id": "39114cb2",
   "metadata": {},
   "outputs": [
    {
     "name": "stdout",
     "output_type": "stream",
     "text": [
      "Creating previous application features...\n"
     ]
    },
    {
     "name": "stderr",
     "output_type": "stream",
     "text": [
      "                                                                                \r"
     ]
    },
    {
     "name": "stdout",
     "output_type": "stream",
     "text": [
      "+----------+-------------+----------------------+--------------------------+---------------------+------------------------+------------------------------+--------------------------+----------------------------+----------------------+---------------------------+\n",
      "|sk_id_curr|prevapp_count|prevapp_approved_count|prevapp_mean_credit_amount|prevapp_approval_rate|prevapp_last_app_recency|prevapp_avg_amt_approved_ratio|prevapp_weighted_loan_term|prevapp_mean_application_gap|prevapp_streak_refused|prevapp_product_switch_rate|\n",
      "+----------+-------------+----------------------+--------------------------+---------------------+------------------------+------------------------------+--------------------------+----------------------------+----------------------+---------------------------+\n",
      "|    100360|            3|                     2|                  101100.0|   0.6666666666666666|                    -101|           0.34400000000000003|         11.92056074766355|                       565.5|                     0|                        1.0|\n",
      "|    100565|            1|                     1|                   45616.5|                  1.0|                    -168|                           1.0|                       6.0|                        NULL|                     0|                       NULL|\n",
      "|    100705|            2|                     2|                  125311.5|                  1.0|                    -477|             0.959935379644588|        1.2315619967793883|                      2149.0|                     0|                        1.0|\n",
      "|    100847|            3|                     3|                   47454.0|                  1.0|                   -1860|            0.9559416138476129|         8.264234091578473|                       344.0|                     0|                        0.0|\n",
      "|    100852|            1|                     1|                  108954.0|                  1.0|                    -569|            1.1056212612448058|                      12.0|                        NULL|                     0|                       NULL|\n",
      "+----------+-------------+----------------------+--------------------------+---------------------+------------------------+------------------------------+--------------------------+----------------------------+----------------------+---------------------------+\n",
      "only showing top 5 rows\n",
      "Creating POS cash balance features...\n"
     ]
    },
    {
     "name": "stderr",
     "output_type": "stream",
     "text": [
      "                                                                                \r"
     ]
    },
    {
     "name": "stdout",
     "output_type": "stream",
     "text": [
      "+----------+---------------+-----------------------+-----------+---------------------+-----------------------+--------------------------+----------------+----------------+---------------------+----------------------------+\n",
      "|sk_id_curr|pos_total_loans|pos_mean_months_balance|pos_avg_dpd|pos_payment_ratio_avg|pos_last_delinq_recency|pos_utilization_volatility|pos_delinq_trend|pos_active_count|pos_delinq_streak_max|pos_seasonality_delinq_spike|\n",
      "+----------+---------------+-----------------------+-----------+---------------------+-----------------------+--------------------------+----------------+----------------+---------------------+----------------------------+\n",
      "|    100002|              1|                  -10.0|        0.0|    1.885420856109693|                   -1.0|       0.23447143077964075|             0.0|               1|                 NULL|                         0.0|\n",
      "|    100003|              3|    -43.785714285714285|        0.0|   2.0991805813234388|                   -1.0|        0.3259065725976024|             0.0|               1|                 NULL|                         0.0|\n",
      "|    100004|              1|                  -25.5|        0.0|   0.8333333333333333|                   -1.0|       0.42695628191498325|             0.0|               0|                 NULL|                         0.0|\n",
      "|    100006|              3|     -9.619047619047619|        0.0|   1.0172747887033602|                   -1.0|         0.471649980073893|             0.0|               1|                 NULL|                         0.0|\n",
      "|    100007|              5|     -33.63636363636363|        0.0|   2.6561325283094392|                   -1.0|       0.30363203601384475|             0.0|               2|                 NULL|                         0.0|\n",
      "+----------+---------------+-----------------------+-----------+---------------------+-----------------------+--------------------------+----------------+----------------+---------------------+----------------------------+\n",
      "only showing top 5 rows\n",
      "Creating credit card balance features...\n"
     ]
    },
    {
     "name": "stderr",
     "output_type": "stream",
     "text": [
      "                                                                                \r"
     ]
    },
    {
     "name": "stdout",
     "output_type": "stream",
     "text": [
      "+----------+------------+------------------+-------------------+------------------+-------------------------+-------------------------------+---------------------+------------------+--------------+----------------+--------------+------------------------+\n",
      "|sk_id_curr|cc_num_cards|    cc_avg_balance|cc_utilization_mean|cc_utilization_max|cc_payment_coverage_ratio|cc_latest_cycle_over_limit_flag|cc_volatility_payment|  cc_drawing_trend|cc_dpd_atm_sum|cc_dpd_other_sum|cc_dpd_pos_sum|cc_recent_high_util_flag|\n",
      "+----------+------------+------------------+-------------------+------------------+-------------------------+-------------------------------+---------------------+------------------+--------------+----------------+--------------+------------------------+\n",
      "|    100006|           1|               0.0|                0.0|               0.0|                     -1.0|                              0|                  0.0|               0.0|          NULL|            NULL|          NULL|                       0|\n",
      "|    100011|           1|54482.111148648655|0.30267839527027024|              1.05|     -0.05182432432432...|                              1|   7473.8726869393195|-2855.095064716772|             4|               0|             0|                       0|\n",
      "|    100021|           1|               0.0|                0.0|               0.0|                     -1.0|                              0|                  0.0|               0.0|          NULL|            NULL|          NULL|                       0|\n",
      "|    100023|           1|               0.0|                0.0|               0.0|                     -1.0|                              0|                  0.0|               0.0|          NULL|            NULL|          NULL|                       0|\n",
      "|    100036|           1|               0.0|                0.0|               0.0|                     -1.0|                              0|                  0.0|               0.0|          NULL|            NULL|          NULL|                       0|\n",
      "+----------+------------+------------------+-------------------+------------------+-------------------------+-------------------------------+---------------------+------------------+--------------+----------------+--------------+------------------------+\n",
      "only showing top 5 rows\n",
      "Creating installments payments features...\n"
     ]
    },
    {
     "name": "stderr",
     "output_type": "stream",
     "text": [
      "                                                                                \r"
     ]
    },
    {
     "name": "stdout",
     "output_type": "stream",
     "text": [
      "+----------+-------------------+-------------------+--------------+----------------------+-------------------+---------------------+------------------+------------------+-------------------+--------------------+--------------------+\n",
      "|sk_id_curr|    inst_mean_delay|    inst_delay_mean|inst_delay_max|inst_latepayment_count|inst_earlypay_ratio|inst_overpayment_rate|inst_paid_coverage|total_installments|inst_weighted_delay|inst_late_streak_max|inst_seasonal_effect|\n",
      "+----------+-------------------+-------------------+--------------+----------------------+-------------------+---------------------+------------------+------------------+-------------------+--------------------+--------------------+\n",
      "|    100360|-22.692307692307693|-22.692307692307693|         -11.0|                     0|                1.0|                  0.0|               1.0|                13|                0.0|                NULL|   4.333333333333332|\n",
      "|    100565|              -15.8|              -15.8|         -12.0|                     0|                1.0|                  0.0|               1.0|                 5|                0.0|                NULL|               -18.0|\n",
      "|    100705|               -5.5|               -5.5|           0.0|                     0|0.47368421052631576|                  0.0|0.9736842105263158|                38|                0.0|                NULL|  2.1333333333333333|\n",
      "|    100847|             -16.16|             -16.16|           3.0|                     1|               0.92|                  0.0|              0.96|                25|0.09502505832892173|                   1|                -9.5|\n",
      "|    100852|              -8.25|              -8.25|          -3.0|                     0|                1.0|                  0.0|               1.0|                12|                0.0|                NULL|  -5.666666666666666|\n",
      "+----------+-------------------+-------------------+--------------+----------------------+-------------------+---------------------+------------------+------------------+-------------------+--------------------+--------------------+\n",
      "only showing top 5 rows\n",
      "Creating cross-table interaction features...\n"
     ]
    },
    {
     "name": "stderr",
     "output_type": "stream",
     "text": [
      "                                                                                \r"
     ]
    },
    {
     "name": "stdout",
     "output_type": "stream",
     "text": [
      "+----------+---------------------------+--------------------------+--------------------+---------------------------+---------------------------+--------------------------------+----------------------+--------------------------+----------------------------+\n",
      "|sk_id_curr|prevapp_pos_conversion_rate|prevapp_cc_conversion_rate|prevapp_pos_dpd_mean|prevapp_to_pos_lagdays_mean|prevapp_cc_utilization_mean|prevapp_cc_payment_coverage_mean|prevapp_inst_delay_avg|prevapp_inst_earlypay_rate|prevapp_inst_late_streak_max|\n",
      "+----------+---------------------------+--------------------------+--------------------+---------------------------+---------------------------+--------------------------------+----------------------+--------------------------+----------------------------+\n",
      "|    100360|         0.6666666666666666|                       0.0|                 0.0|                     1341.5|                       NULL|                            NULL|   -22.692307692307693|                       1.0|                        NULL|\n",
      "|    100565|                        1.0|                       0.0|                 0.0|                      318.0|                       NULL|                            NULL|                 -15.8|                       1.0|                        NULL|\n",
      "|    100705|                        0.5|                       0.5|                 0.0|                     5206.0|         0.5550359083333334|               5.850577084344027|                  -5.5|       0.47368421052631576|                        NULL|\n",
      "|    100847|                        1.0|                       0.0|                 0.0|          4480.666666666667|                       NULL|                            NULL|                -16.16|                      0.92|                           1|\n",
      "|    100852|                        1.0|                       0.0|                 0.0|                     1139.0|                       NULL|                            NULL|                 -8.25|                       1.0|                        NULL|\n",
      "+----------+---------------------------+--------------------------+--------------------+---------------------------+---------------------------+--------------------------------+----------------------+--------------------------+----------------------------+\n",
      "only showing top 5 rows\n",
      "Joining all features...\n"
     ]
    }
   ],
   "source": [
    "# Create all features\n",
    "all_features_df = create_all_features(prev_df, pos_df, cc_df, inst_df)"
   ]
  },
  {
   "cell_type": "code",
   "execution_count": 10,
   "id": "e07bd609",
   "metadata": {},
   "outputs": [
    {
     "name": "stderr",
     "output_type": "stream",
     "text": [
      "25/07/26 23:56:14 WARN SparkStringUtils: Truncated the string representation of a plan since it was too large. This behavior can be adjusted by setting 'spark.sql.debug.maxToStringFields'.\n",
      "25/07/26 23:58:57 WARN DAGScheduler: Broadcasting large task binary with size 1085.2 KiB\n",
      "[Stage 285:>                                                        (0 + 1) / 1]\r"
     ]
    },
    {
     "name": "stdout",
     "output_type": "stream",
     "text": [
      "+----------+-------------+----------------------+--------------------------+---------------------+------------------------+------------------------------+--------------------------+----------------------------+----------------------+---------------------------+---------------+-----------------------+-----------+---------------------+-----------------------+--------------------------+----------------+----------------+---------------------+----------------------------+------------+------------------+-------------------+------------------+-------------------------+-------------------------------+---------------------+----------------+--------------+----------------+--------------+------------------------+-------------------+-------------------+--------------+----------------------+-------------------+---------------------+------------------+------------------+-------------------+--------------------+--------------------+---------------------------+--------------------------+--------------------+---------------------------+---------------------------+--------------------------------+----------------------+--------------------------+----------------------------+\n",
      "|sk_id_curr|prevapp_count|prevapp_approved_count|prevapp_mean_credit_amount|prevapp_approval_rate|prevapp_last_app_recency|prevapp_avg_amt_approved_ratio|prevapp_weighted_loan_term|prevapp_mean_application_gap|prevapp_streak_refused|prevapp_product_switch_rate|pos_total_loans|pos_mean_months_balance|pos_avg_dpd|pos_payment_ratio_avg|pos_last_delinq_recency|pos_utilization_volatility|pos_delinq_trend|pos_active_count|pos_delinq_streak_max|pos_seasonality_delinq_spike|cc_num_cards|    cc_avg_balance|cc_utilization_mean|cc_utilization_max|cc_payment_coverage_ratio|cc_latest_cycle_over_limit_flag|cc_volatility_payment|cc_drawing_trend|cc_dpd_atm_sum|cc_dpd_other_sum|cc_dpd_pos_sum|cc_recent_high_util_flag|    inst_mean_delay|    inst_delay_mean|inst_delay_max|inst_latepayment_count|inst_earlypay_ratio|inst_overpayment_rate|inst_paid_coverage|total_installments|inst_weighted_delay|inst_late_streak_max|inst_seasonal_effect|prevapp_pos_conversion_rate|prevapp_cc_conversion_rate|prevapp_pos_dpd_mean|prevapp_to_pos_lagdays_mean|prevapp_cc_utilization_mean|prevapp_cc_payment_coverage_mean|prevapp_inst_delay_avg|prevapp_inst_earlypay_rate|prevapp_inst_late_streak_max|\n",
      "+----------+-------------+----------------------+--------------------------+---------------------+------------------------+------------------------------+--------------------------+----------------------------+----------------------+---------------------------+---------------+-----------------------+-----------+---------------------+-----------------------+--------------------------+----------------+----------------+---------------------+----------------------------+------------+------------------+-------------------+------------------+-------------------------+-------------------------------+---------------------+----------------+--------------+----------------+--------------+------------------------+-------------------+-------------------+--------------+----------------------+-------------------+---------------------+------------------+------------------+-------------------+--------------------+--------------------+---------------------------+--------------------------+--------------------+---------------------------+---------------------------+--------------------------------+----------------------+--------------------------+----------------------------+\n",
      "|    100360|            3|                     2|                  101100.0|   0.6666666666666666|                    -101|           0.34400000000000003|         11.92056074766355|                       565.5|                     0|                        1.0|              2|                 -27.25|        0.0|   2.0979329396448962|                   -1.0|        0.3471694404327235|             0.0|               1|                 NULL|                         0.0|        NULL|              NULL|               NULL|              NULL|                     NULL|                           NULL|                 NULL|            NULL|          NULL|            NULL|          NULL|                    NULL|-22.692307692307693|-22.692307692307693|         -11.0|                     0|                1.0|                  0.0|               1.0|                13|                0.0|                NULL|   4.333333333333332|         0.6666666666666666|                       0.0|                 0.0|                     1341.5|                       NULL|                            NULL|   -22.692307692307693|                       1.0|                        NULL|\n",
      "|    100565|            1|                     1|                   45616.5|                  1.0|                    -168|                           1.0|                       6.0|                        NULL|                     0|                       NULL|              1|                   -3.0|        0.0|   1.7399999999999998|                   -1.0|       0.26352313834736496|             0.0|               1|                 NULL|                         0.0|        NULL|              NULL|               NULL|              NULL|                     NULL|                           NULL|                 NULL|            NULL|          NULL|            NULL|          NULL|                    NULL|              -15.8|              -15.8|         -12.0|                     0|                1.0|                  0.0|               1.0|                 5|                0.0|                NULL|               -18.0|                        1.0|                       0.0|                 0.0|                      318.0|                       NULL|                            NULL|                 -15.8|                       1.0|                        NULL|\n",
      "|    100705|            2|                     2|                  125311.5|                  1.0|                    -477|             0.959935379644588|        1.2315619967793883|                      2149.0|                     0|                        1.0|              1|                  -82.0|        0.0|   2.3047619047619046|                   -1.0|        0.3423265984407288|             0.0|               0|                 NULL|                         0.0|           1|134550.15187499998| 0.5550359083333334|         1.0076368|        5.850577084344027|                              1|   54056.152992504525|475.575485294126|            20|               0|             1|                       1|               -5.5|               -5.5|           0.0|                     0|0.47368421052631576|                  0.0|0.9736842105263158|                38|                0.0|                NULL|  2.1333333333333333|                        0.5|                       0.5|                 0.0|                     5206.0|         0.5550359083333334|               5.850577084344027|                  -5.5|       0.47368421052631576|                        NULL|\n",
      "|    100847|            3|                     3|                   47454.0|                  1.0|                   -1860|            0.9559416138476129|         8.264234091578473|                       344.0|                     0|                        0.0|              3|     -67.14814814814815|        0.0|    2.342445620223398|                   -1.0|       0.34301121724616407|             0.0|               1|                 NULL|                         0.0|        NULL|              NULL|               NULL|              NULL|                     NULL|                           NULL|                 NULL|            NULL|          NULL|            NULL|          NULL|                    NULL|             -16.16|             -16.16|           3.0|                     1|               0.92|                  0.0|              0.96|                25|0.09502505832892173|                   1|                -9.5|                        1.0|                       0.0|                 0.0|          4480.666666666667|                       NULL|                            NULL|                -16.16|                      0.92|                           1|\n",
      "|    100852|            1|                     1|                  108954.0|                  1.0|                    -569|            1.1056212612448058|                      12.0|                        NULL|                     0|                       NULL|              1|                  -13.0|        0.0|   2.7875790875790876|                   -1.0|       0.32453670682077557|             0.0|               0|                 NULL|                         0.0|        NULL|              NULL|               NULL|              NULL|                     NULL|                           NULL|                 NULL|            NULL|          NULL|            NULL|          NULL|                    NULL|              -8.25|              -8.25|          -3.0|                     0|                1.0|                  0.0|               1.0|                12|                0.0|                NULL|  -5.666666666666666|                        1.0|                       0.0|                 0.0|                     1139.0|                       NULL|                            NULL|                 -8.25|                       1.0|                        NULL|\n",
      "+----------+-------------+----------------------+--------------------------+---------------------+------------------------+------------------------------+--------------------------+----------------------------+----------------------+---------------------------+---------------+-----------------------+-----------+---------------------+-----------------------+--------------------------+----------------+----------------+---------------------+----------------------------+------------+------------------+-------------------+------------------+-------------------------+-------------------------------+---------------------+----------------+--------------+----------------+--------------+------------------------+-------------------+-------------------+--------------+----------------------+-------------------+---------------------+------------------+------------------+-------------------+--------------------+--------------------+---------------------------+--------------------------+--------------------+---------------------------+---------------------------+--------------------------------+----------------------+--------------------------+----------------------------+\n",
      "only showing top 5 rows\n"
     ]
    },
    {
     "name": "stderr",
     "output_type": "stream",
     "text": [
      "                                                                                \r"
     ]
    }
   ],
   "source": [
    "all_features_df.show(5)"
   ]
  },
  {
   "cell_type": "code",
   "execution_count": 11,
   "id": "43dcf65e",
   "metadata": {},
   "outputs": [
    {
     "name": "stderr",
     "output_type": "stream",
     "text": [
      "                                                                                \r"
     ]
    },
    {
     "data": {
      "text/plain": [
       "291057"
      ]
     },
     "execution_count": 11,
     "metadata": {},
     "output_type": "execute_result"
    }
   ],
   "source": [
    "row_count = all_features_df.count()\n",
    "row_count"
   ]
  },
  {
   "cell_type": "code",
   "execution_count": 12,
   "id": "7bbace13",
   "metadata": {},
   "outputs": [
    {
     "name": "stderr",
     "output_type": "stream",
     "text": [
      "                                                                                \r"
     ]
    },
    {
     "name": "stdout",
     "output_type": "stream",
     "text": [
      "Column Name - prevapp_weighted_loan_term  |  Null Values Count: 0.14258375507203055 %\n"
     ]
    },
    {
     "name": "stderr",
     "output_type": "stream",
     "text": [
      "                                                                                \r"
     ]
    },
    {
     "name": "stdout",
     "output_type": "stream",
     "text": [
      "Column Name - prevapp_mean_application_gap  |  Null Values Count: 18.04904194023851 %\n"
     ]
    },
    {
     "name": "stderr",
     "output_type": "stream",
     "text": [
      "                                                                                \r"
     ]
    },
    {
     "name": "stdout",
     "output_type": "stream",
     "text": [
      "Column Name - prevapp_product_switch_rate  |  Null Values Count: 18.04904194023851 %\n"
     ]
    },
    {
     "name": "stderr",
     "output_type": "stream",
     "text": [
      "                                                                                \r"
     ]
    },
    {
     "name": "stdout",
     "output_type": "stream",
     "text": [
      "Column Name - pos_total_loans  |  Null Values Count: 1.4052230319147108 %\n"
     ]
    },
    {
     "name": "stderr",
     "output_type": "stream",
     "text": [
      "                                                                                \r"
     ]
    },
    {
     "name": "stdout",
     "output_type": "stream",
     "text": [
      "Column Name - pos_mean_months_balance  |  Null Values Count: 1.4052230319147108 %\n"
     ]
    },
    {
     "name": "stderr",
     "output_type": "stream",
     "text": [
      "                                                                                \r"
     ]
    },
    {
     "name": "stdout",
     "output_type": "stream",
     "text": [
      "Column Name - pos_avg_dpd  |  Null Values Count: 1.4052230319147108 %\n"
     ]
    },
    {
     "name": "stderr",
     "output_type": "stream",
     "text": [
      "                                                                                \r"
     ]
    },
    {
     "name": "stdout",
     "output_type": "stream",
     "text": [
      "Column Name - pos_payment_ratio_avg  |  Null Values Count: 1.4052230319147108 %\n"
     ]
    },
    {
     "name": "stderr",
     "output_type": "stream",
     "text": [
      "                                                                                \r"
     ]
    },
    {
     "name": "stdout",
     "output_type": "stream",
     "text": [
      "Column Name - pos_last_delinq_recency  |  Null Values Count: 1.4052230319147108 %\n"
     ]
    },
    {
     "name": "stderr",
     "output_type": "stream",
     "text": [
      "                                                                                \r"
     ]
    },
    {
     "name": "stdout",
     "output_type": "stream",
     "text": [
      "Column Name - pos_utilization_volatility  |  Null Values Count: 1.4976447912264608 %\n"
     ]
    },
    {
     "name": "stderr",
     "output_type": "stream",
     "text": [
      "                                                                                \r"
     ]
    },
    {
     "name": "stdout",
     "output_type": "stream",
     "text": [
      "Column Name - pos_delinq_trend  |  Null Values Count: 1.4983319418533139 %\n"
     ]
    },
    {
     "name": "stderr",
     "output_type": "stream",
     "text": [
      "                                                                                \r"
     ]
    },
    {
     "name": "stdout",
     "output_type": "stream",
     "text": [
      "Column Name - pos_active_count  |  Null Values Count: 1.4052230319147108 %\n"
     ]
    },
    {
     "name": "stderr",
     "output_type": "stream",
     "text": [
      "                                                                                \r"
     ]
    },
    {
     "name": "stdout",
     "output_type": "stream",
     "text": [
      "Column Name - pos_delinq_streak_max  |  Null Values Count: 82.32614230202331 %\n"
     ]
    },
    {
     "name": "stderr",
     "output_type": "stream",
     "text": [
      "                                                                                \r"
     ]
    },
    {
     "name": "stdout",
     "output_type": "stream",
     "text": [
      "Column Name - pos_seasonality_delinq_spike  |  Null Values Count: 1.4052230319147108 %\n"
     ]
    },
    {
     "name": "stderr",
     "output_type": "stream",
     "text": [
      "                                                                                \r"
     ]
    },
    {
     "name": "stdout",
     "output_type": "stream",
     "text": [
      "Column Name - cc_num_cards  |  Null Values Count: 73.22380152341293 %\n"
     ]
    },
    {
     "name": "stderr",
     "output_type": "stream",
     "text": [
      "                                                                                \r"
     ]
    },
    {
     "name": "stdout",
     "output_type": "stream",
     "text": [
      "Column Name - cc_avg_balance  |  Null Values Count: 73.22380152341293 %\n"
     ]
    },
    {
     "name": "stderr",
     "output_type": "stream",
     "text": [
      "                                                                                \r"
     ]
    },
    {
     "name": "stdout",
     "output_type": "stream",
     "text": [
      "Column Name - cc_utilization_mean  |  Null Values Count: 73.22380152341293 %\n"
     ]
    },
    {
     "name": "stderr",
     "output_type": "stream",
     "text": [
      "                                                                                \r"
     ]
    },
    {
     "name": "stdout",
     "output_type": "stream",
     "text": [
      "Column Name - cc_utilization_max  |  Null Values Count: 73.22380152341293 %\n"
     ]
    },
    {
     "name": "stderr",
     "output_type": "stream",
     "text": [
      "                                                                                \r"
     ]
    },
    {
     "name": "stdout",
     "output_type": "stream",
     "text": [
      "Column Name - cc_payment_coverage_ratio  |  Null Values Count: 73.22380152341293 %\n"
     ]
    },
    {
     "name": "stderr",
     "output_type": "stream",
     "text": [
      "                                                                                \r"
     ]
    },
    {
     "name": "stdout",
     "output_type": "stream",
     "text": [
      "Column Name - cc_latest_cycle_over_limit_flag  |  Null Values Count: 73.22380152341293 %\n"
     ]
    },
    {
     "name": "stderr",
     "output_type": "stream",
     "text": [
      "                                                                                \r"
     ]
    },
    {
     "name": "stdout",
     "output_type": "stream",
     "text": [
      "Column Name - cc_volatility_payment  |  Null Values Count: 73.44128469681196 %\n"
     ]
    },
    {
     "name": "stderr",
     "output_type": "stream",
     "text": [
      "                                                                                \r"
     ]
    },
    {
     "name": "stdout",
     "output_type": "stream",
     "text": [
      "Column Name - cc_drawing_trend  |  Null Values Count: 73.44128469681196 %\n"
     ]
    },
    {
     "name": "stderr",
     "output_type": "stream",
     "text": [
      "                                                                                \r"
     ]
    },
    {
     "name": "stdout",
     "output_type": "stream",
     "text": [
      "Column Name - cc_dpd_atm_sum  |  Null Values Count: 81.81455866033114 %\n"
     ]
    },
    {
     "name": "stderr",
     "output_type": "stream",
     "text": [
      "                                                                                \r"
     ]
    },
    {
     "name": "stdout",
     "output_type": "stream",
     "text": [
      "Column Name - cc_dpd_other_sum  |  Null Values Count: 81.81455866033114 %\n"
     ]
    },
    {
     "name": "stderr",
     "output_type": "stream",
     "text": [
      "                                                                                \r"
     ]
    },
    {
     "name": "stdout",
     "output_type": "stream",
     "text": [
      "Column Name - cc_dpd_pos_sum  |  Null Values Count: 81.81455866033114 %\n"
     ]
    },
    {
     "name": "stderr",
     "output_type": "stream",
     "text": [
      "                                                                                \r"
     ]
    },
    {
     "name": "stdout",
     "output_type": "stream",
     "text": [
      "Column Name - cc_recent_high_util_flag  |  Null Values Count: 73.22380152341293 %\n"
     ]
    },
    {
     "name": "stderr",
     "output_type": "stream",
     "text": [
      "                                                                                \r"
     ]
    },
    {
     "name": "stdout",
     "output_type": "stream",
     "text": [
      "Column Name - inst_mean_delay  |  Null Values Count: 0.567242842467283 %\n"
     ]
    },
    {
     "name": "stderr",
     "output_type": "stream",
     "text": [
      "                                                                                \r"
     ]
    },
    {
     "name": "stdout",
     "output_type": "stream",
     "text": [
      "Column Name - inst_delay_mean  |  Null Values Count: 0.567242842467283 %\n"
     ]
    },
    {
     "name": "stderr",
     "output_type": "stream",
     "text": [
      "                                                                                \r"
     ]
    },
    {
     "name": "stdout",
     "output_type": "stream",
     "text": [
      "Column Name - inst_delay_max  |  Null Values Count: 0.567242842467283 %\n"
     ]
    },
    {
     "name": "stderr",
     "output_type": "stream",
     "text": [
      "                                                                                \r"
     ]
    },
    {
     "name": "stdout",
     "output_type": "stream",
     "text": [
      "Column Name - inst_latepayment_count  |  Null Values Count: 0.567242842467283 %\n"
     ]
    },
    {
     "name": "stderr",
     "output_type": "stream",
     "text": [
      "                                                                                \r"
     ]
    },
    {
     "name": "stdout",
     "output_type": "stream",
     "text": [
      "Column Name - inst_earlypay_ratio  |  Null Values Count: 0.567242842467283 %\n"
     ]
    },
    {
     "name": "stderr",
     "output_type": "stream",
     "text": [
      "                                                                                \r"
     ]
    },
    {
     "name": "stdout",
     "output_type": "stream",
     "text": [
      "Column Name - inst_overpayment_rate  |  Null Values Count: 0.567242842467283 %\n"
     ]
    },
    {
     "name": "stderr",
     "output_type": "stream",
     "text": [
      "                                                                                \r"
     ]
    },
    {
     "name": "stdout",
     "output_type": "stream",
     "text": [
      "Column Name - inst_paid_coverage  |  Null Values Count: 0.5699914449746957 %\n"
     ]
    },
    {
     "name": "stderr",
     "output_type": "stream",
     "text": [
      "                                                                                \r"
     ]
    },
    {
     "name": "stdout",
     "output_type": "stream",
     "text": [
      "Column Name - total_installments  |  Null Values Count: 0.567242842467283 %\n"
     ]
    },
    {
     "name": "stderr",
     "output_type": "stream",
     "text": [
      "                                                                                \r"
     ]
    },
    {
     "name": "stdout",
     "output_type": "stream",
     "text": [
      "Column Name - inst_weighted_delay  |  Null Values Count: 0.567242842467283 %\n"
     ]
    },
    {
     "name": "stderr",
     "output_type": "stream",
     "text": [
      "                                                                                \r"
     ]
    },
    {
     "name": "stdout",
     "output_type": "stream",
     "text": [
      "Column Name - inst_late_streak_max  |  Null Values Count: 48.405638758043956 %\n"
     ]
    },
    {
     "name": "stderr",
     "output_type": "stream",
     "text": [
      "                                                                                \r"
     ]
    },
    {
     "name": "stdout",
     "output_type": "stream",
     "text": [
      "Column Name - inst_seasonal_effect  |  Null Values Count: 0.567242842467283 %\n"
     ]
    },
    {
     "name": "stderr",
     "output_type": "stream",
     "text": [
      "                                                                                \r"
     ]
    },
    {
     "name": "stdout",
     "output_type": "stream",
     "text": [
      "Column Name - prevapp_pos_dpd_mean  |  Null Values Count: 1.4052230319147108 %\n"
     ]
    },
    {
     "name": "stderr",
     "output_type": "stream",
     "text": [
      "                                                                                \r"
     ]
    },
    {
     "name": "stdout",
     "output_type": "stream",
     "text": [
      "Column Name - prevapp_to_pos_lagdays_mean  |  Null Values Count: 1.4052230319147108 %\n"
     ]
    },
    {
     "name": "stderr",
     "output_type": "stream",
     "text": [
      "                                                                                \r"
     ]
    },
    {
     "name": "stdout",
     "output_type": "stream",
     "text": [
      "Column Name - prevapp_cc_utilization_mean  |  Null Values Count: 73.22380152341293 %\n"
     ]
    },
    {
     "name": "stderr",
     "output_type": "stream",
     "text": [
      "                                                                                \r"
     ]
    },
    {
     "name": "stdout",
     "output_type": "stream",
     "text": [
      "Column Name - prevapp_cc_payment_coverage_mean  |  Null Values Count: 73.22380152341293 %\n"
     ]
    },
    {
     "name": "stderr",
     "output_type": "stream",
     "text": [
      "                                                                                \r"
     ]
    },
    {
     "name": "stdout",
     "output_type": "stream",
     "text": [
      "Column Name - prevapp_inst_delay_avg  |  Null Values Count: 0.567242842467283 %\n"
     ]
    },
    {
     "name": "stderr",
     "output_type": "stream",
     "text": [
      "                                                                                \r"
     ]
    },
    {
     "name": "stdout",
     "output_type": "stream",
     "text": [
      "Column Name - prevapp_inst_earlypay_rate  |  Null Values Count: 0.567242842467283 %\n"
     ]
    },
    {
     "name": "stderr",
     "output_type": "stream",
     "text": [
      "                                                                                \r"
     ]
    },
    {
     "name": "stdout",
     "output_type": "stream",
     "text": [
      "Column Name - prevapp_inst_late_streak_max  |  Null Values Count: 48.405638758043956 %\n"
     ]
    }
   ],
   "source": [
    "for column_name in all_features_df.columns:\n",
    "    null_count = all_features_df.filter(col(column_name).isNull()).count()\n",
    "    if null_count > 0:\n",
    "        print(\n",
    "            f\"Column Name - {column_name}  |  Null Values Count: {(null_count / row_count) * 100} %\"\n",
    "        )"
   ]
  },
  {
   "cell_type": "code",
   "execution_count": null,
   "id": "98689d6a",
   "metadata": {},
   "outputs": [],
   "source": []
  },
  {
   "cell_type": "markdown",
   "id": "06e39361",
   "metadata": {},
   "source": [
    "***"
   ]
  },
  {
   "cell_type": "code",
   "execution_count": 13,
   "id": "60662947",
   "metadata": {},
   "outputs": [],
   "source": [
    "# final_features_df.to_parquet(\n",
    "#     path=\"notebooks/training_initial_model/initial_processed_data/previous_applications.parquet\",\n",
    "#     index=False,\n",
    "# )"
   ]
  },
  {
   "cell_type": "code",
   "execution_count": null,
   "id": "3c0a0de4",
   "metadata": {},
   "outputs": [],
   "source": [
    "target_db = \"processed_data_staging\"\n",
    "target_url = f\"jdbc:postgresql://{host}:{port}/{target_db}\"\n",
    "\n",
    "target_properties = {\n",
    "    \"user\": username,\n",
    "    \"password\": password,\n",
    "    \"driver\": \"org.postgresql.Driver\",\n",
    "}\n",
    "\n",
    "all_features_df.write.jdbc(\n",
    "    url=target_url,\n",
    "    table=\"previous_applications\",\n",
    "    mode=\"overwrite\",\n",
    "    properties=target_properties,\n",
    ")"
   ]
  },
  {
   "cell_type": "code",
   "execution_count": null,
   "id": "8bad4d28",
   "metadata": {},
   "outputs": [],
   "source": []
  },
  {
   "cell_type": "markdown",
   "id": "87bb4bab",
   "metadata": {},
   "source": [
    "***"
   ]
  },
  {
   "cell_type": "code",
   "execution_count": null,
   "id": "d121d87a",
   "metadata": {},
   "outputs": [],
   "source": []
  }
 ],
 "metadata": {
  "kernelspec": {
   "display_name": "Credit_Risk_MLOps_Project",
   "language": "python",
   "name": "python3"
  },
  "language_info": {
   "codemirror_mode": {
    "name": "ipython",
    "version": 3
   },
   "file_extension": ".py",
   "mimetype": "text/x-python",
   "name": "python",
   "nbconvert_exporter": "python",
   "pygments_lexer": "ipython3",
   "version": "3.13.5"
  }
 },
 "nbformat": 4,
 "nbformat_minor": 5
}
