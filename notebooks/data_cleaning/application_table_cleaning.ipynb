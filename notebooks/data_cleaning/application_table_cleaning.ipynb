{
 "cells": [
  {
   "cell_type": "code",
   "execution_count": null,
   "id": "5124850f",
   "metadata": {},
   "outputs": [],
   "source": [
    "from dotenv import load_dotenv\n",
    "import os\n",
    "from pathlib import Path\n",
    "\n",
    "CURRENT_DIRECTORY_NOTEBOOK = None\n",
    "\n",
    "\n",
    "def intitate_notebook():\n",
    "    load_dotenv()\n",
    "    global CURRENT_DIRECTORY_NOTEBOOK\n",
    "    if CURRENT_DIRECTORY_NOTEBOOK is None:\n",
    "        os.chdir(os.getenv(\"PROJECT_BASE_PATH\"))\n",
    "        CURRENT_DIRECTORY_NOTEBOOK = Path(os.getcwd())\n",
    "        print(\"Current directory for notebook: \", CURRENT_DIRECTORY_NOTEBOOK)\n",
    "    else:\n",
    "        print(\n",
    "            \"Current directory for notebook is already set: \",\n",
    "            CURRENT_DIRECTORY_NOTEBOOK,\n",
    "        )\n",
    "\n",
    "\n",
    "intitate_notebook()"
   ]
  },
  {
   "cell_type": "code",
   "execution_count": null,
   "id": "8a296f89",
   "metadata": {},
   "outputs": [],
   "source": [
    "import numpy as np\n",
    "from pyspark.sql import SparkSession\n",
    "from pyspark.ml.feature import StringIndexer\n",
    "from src.data.explore_column_info import get_column_summary\n",
    "from pyspark.sql.functions import expr, when, col, sum\n",
    "from pyspark.sql import functions as F\n",
    "from pyspark.ml.regression import LinearRegression\n",
    "from pyspark.ml.feature import VectorAssembler\n",
    "from pyspark.sql import DataFrame"
   ]
  },
  {
   "cell_type": "code",
   "execution_count": null,
   "id": "a86ea528",
   "metadata": {},
   "outputs": [],
   "source": [
    "from src.data.cleaning import assign_category_labels, assign_grouped_category_labels"
   ]
  },
  {
   "cell_type": "code",
   "execution_count": null,
   "id": "5e05eb47",
   "metadata": {},
   "outputs": [],
   "source": [
    "spark = (\n",
    "    SparkSession.builder.appName(\"PostgresETL\")\n",
    "    .config(\"spark.jars\", \"setup_files/postgresql-42.7.5.jar\")\n",
    "    .getOrCreate()\n",
    ")"
   ]
  },
  {
   "cell_type": "code",
   "execution_count": null,
   "id": "8c329ba0",
   "metadata": {},
   "outputs": [],
   "source": [
    "username = \"data_source_user\"\n",
    "password = \"data_source_user_password\"\n",
    "host = \"172.17.0.1\"\n",
    "port = \"5435\"\n",
    "database = \"data_source_db\"\n",
    "\n",
    "\n",
    "jdbc_url = f\"jdbc:postgresql://{host}:{port}/{database}\"\n",
    "properties = {\"user\": username, \"password\": password, \"driver\": \"org.postgresql.Driver\"}"
   ]
  },
  {
   "cell_type": "code",
   "execution_count": null,
   "id": "c48d954c",
   "metadata": {},
   "outputs": [],
   "source": [
    "df = spark.read.option(\"failFast\", \"true\").jdbc(\n",
    "    url=jdbc_url, table=\"application_train\", properties=properties\n",
    ")\n",
    "df"
   ]
  },
  {
   "cell_type": "code",
   "execution_count": null,
   "id": "afb2ec15",
   "metadata": {},
   "outputs": [],
   "source": [
    "def count_nulls(df):\n",
    "    null_counts = (\n",
    "        df.select(\n",
    "            [sum(when(col(c).isNull(), 1).otherwise(0)).alias(c) for c in df.columns]\n",
    "        )\n",
    "        .collect()[0]\n",
    "        .asDict()\n",
    "    )\n",
    "\n",
    "    print(\"Null values count per column:\")\n",
    "    for col_name, null_count in null_counts.items():\n",
    "        print(f\" - {col_name}: {null_count}\")"
   ]
  },
  {
   "cell_type": "code",
   "execution_count": null,
   "id": "1387e36b",
   "metadata": {},
   "outputs": [],
   "source": [
    "from functools import reduce\n",
    "\n",
    "\n",
    "def add_credit_features(df: DataFrame) -> DataFrame:\n",
    "    \"\"\"\n",
    "    Takes a PySpark DataFrame with one row per SK_ID_CURR and returns the same DataFrame\n",
    "    with additional credit-risk features (from both previous feature lists). Handles nulls\n",
    "    and edge cases (zero denominators) by returning NULL where division by zero or missing\n",
    "    would occur.\n",
    "    \"\"\"\n",
    "    # Basic ratios and normalized variables\n",
    "    df = (\n",
    "        df.withColumn(\n",
    "            \"DEBT_INCOME_RATIO\",\n",
    "            F.when(\n",
    "                (F.col(\"AMT_INCOME_TOTAL\").isNotNull())\n",
    "                & (F.col(\"AMT_INCOME_TOTAL\") > 0),\n",
    "                F.col(\"AMT_CREDIT\") / F.col(\"AMT_INCOME_TOTAL\"),\n",
    "            ).otherwise(F.lit(None)),\n",
    "        )\n",
    "        .withColumn(\n",
    "            \"ANNUITY_INCOME_RATIO\",\n",
    "            F.when(\n",
    "                (F.col(\"AMT_INCOME_TOTAL\").isNotNull())\n",
    "                & (F.col(\"AMT_INCOME_TOTAL\") > 0),\n",
    "                F.col(\"AMT_ANNUITY\") / F.col(\"AMT_INCOME_TOTAL\"),\n",
    "            ).otherwise(F.lit(None)),\n",
    "        )\n",
    "        .withColumn(\n",
    "            \"CREDIT_GOODS_RATIO\",\n",
    "            F.when(\n",
    "                (F.col(\"AMT_GOODS_PRICE\").isNotNull()) & (F.col(\"AMT_GOODS_PRICE\") > 0),\n",
    "                F.col(\"AMT_CREDIT\") / F.col(\"AMT_GOODS_PRICE\"),\n",
    "            ).otherwise(F.lit(None)),\n",
    "        )\n",
    "        .withColumn(\n",
    "            \"INCOME_PER_FAMILY_MEMBER\",\n",
    "            F.when(\n",
    "                (F.col(\"CNT_FAM_MEMBERS\").isNotNull()) & (F.col(\"CNT_FAM_MEMBERS\") > 0),\n",
    "                F.col(\"AMT_INCOME_TOTAL\") / F.col(\"CNT_FAM_MEMBERS\"),\n",
    "            ).otherwise(F.lit(None)),\n",
    "        )\n",
    "        .withColumn(\n",
    "            \"CHILDREN_RATIO\",\n",
    "            F.when(\n",
    "                (F.col(\"CNT_FAM_MEMBERS\").isNotNull()) & (F.col(\"CNT_FAM_MEMBERS\") > 0),\n",
    "                F.col(\"CNT_CHILDREN\") / F.col(\"CNT_FAM_MEMBERS\"),\n",
    "            ).otherwise(F.lit(None)),\n",
    "        )\n",
    "    )\n",
    "\n",
    "    # Contactability & documentation\n",
    "    df = (\n",
    "        df.withColumn(\n",
    "            \"PHONE_AVAILABILITY\",\n",
    "            (\n",
    "                F.coalesce(F.col(\"FLAG_MOBIL\"), F.lit(0)).cast(\"int\")\n",
    "                + F.coalesce(F.col(\"FLAG_EMP_PHONE\"), F.lit(0)).cast(\"int\")\n",
    "                + F.coalesce(F.col(\"FLAG_PHONE\"), F.lit(0)).cast(\"int\")\n",
    "            ),\n",
    "        )\n",
    "        .withColumn(\n",
    "            \"MOBILE_REACHABLE\",\n",
    "            F.coalesce(F.col(\"FLAG_CONT_MOBILE\"), F.lit(0)).cast(\"int\"),\n",
    "        )\n",
    "        .withColumn(\n",
    "            \"DOCS_PROVIDED\",\n",
    "            reduce(\n",
    "                lambda acc, c: acc + F.coalesce(F.col(c), F.lit(0)).cast(\"int\"),\n",
    "                [\n",
    "                    \"flag_document_2\",\n",
    "                    \"flag_document_3\",\n",
    "                    \"flag_document_4\",\n",
    "                    \"flag_document_5\",\n",
    "                    \"flag_document_6\",\n",
    "                    \"flag_document_7\",\n",
    "                    \"flag_document_8\",\n",
    "                    \"flag_document_9\",\n",
    "                    \"flag_document_10\",\n",
    "                    \"flag_document_11\",\n",
    "                    \"flag_document_12\",\n",
    "                    \"flag_document_13\",\n",
    "                    \"flag_document_14\",\n",
    "                    \"flag_document_15\",\n",
    "                    \"flag_document_16\",\n",
    "                    \"flag_document_17\",\n",
    "                    \"flag_document_18\",\n",
    "                    \"flag_document_19\",\n",
    "                    \"flag_document_20\",\n",
    "                    \"flag_document_21\",\n",
    "                ],\n",
    "                F.lit(0),\n",
    "            ),\n",
    "        )\n",
    "    )\n",
    "\n",
    "    # Credit Bureau inquiries\n",
    "    df = df.withColumn(\n",
    "        \"BUREAU_INQUIRIES_TOTAL\",\n",
    "        (\n",
    "            F.coalesce(F.col(\"AMT_REQ_CREDIT_BUREAU_HOUR\"), F.lit(0)).cast(\"int\")\n",
    "            + F.coalesce(F.col(\"AMT_REQ_CREDIT_BUREAU_DAY\"), F.lit(0)).cast(\"int\")\n",
    "            + F.coalesce(F.col(\"AMT_REQ_CREDIT_BUREAU_WEEK\"), F.lit(0)).cast(\"int\")\n",
    "            + F.coalesce(F.col(\"AMT_REQ_CREDIT_BUREAU_MON\"), F.lit(0)).cast(\"int\")\n",
    "            + F.coalesce(F.col(\"AMT_REQ_CREDIT_BUREAU_QRT\"), F.lit(0)).cast(\"int\")\n",
    "            + F.coalesce(F.col(\"AMT_REQ_CREDIT_BUREAU_YEAR\"), F.lit(0)).cast(\"int\")\n",
    "        ),\n",
    "    ).withColumn(\n",
    "        \"BUREAU_INQUIRIES_1M\",\n",
    "        F.coalesce(F.col(\"AMT_REQ_CREDIT_BUREAU_MON\"), F.lit(0)).cast(\"int\"),\n",
    "    )\n",
    "\n",
    "    # Address mismatch\n",
    "    df = df.withColumn(\n",
    "        \"ADDRESS_MISMATCH_COUNT\",\n",
    "        (\n",
    "            F.coalesce(F.col(\"REG_REGION_NOT_LIVE_REGION\"), F.lit(0)).cast(\"int\")\n",
    "            + F.coalesce(F.col(\"REG_REGION_NOT_WORK_REGION\"), F.lit(0)).cast(\"int\")\n",
    "            + F.coalesce(F.col(\"LIVE_REGION_NOT_WORK_REGION\"), F.lit(0)).cast(\"int\")\n",
    "            + F.coalesce(F.col(\"REG_CITY_NOT_LIVE_CITY\"), F.lit(0)).cast(\"int\")\n",
    "            + F.coalesce(F.col(\"REG_CITY_NOT_WORK_CITY\"), F.lit(0)).cast(\"int\")\n",
    "            + F.coalesce(F.col(\"LIVE_CITY_NOT_WORK_CITY\"), F.lit(0)).cast(\"int\")\n",
    "        ),\n",
    "    )\n",
    "\n",
    "    # Region rating difference\n",
    "    df = df.withColumn(\n",
    "        \"REGION_RATING_DIFF\",\n",
    "        F.when(\n",
    "            (F.col(\"REGION_RATING_CLIENT_W_CITY\").isNotNull())\n",
    "            & (F.col(\"REGION_RATING_CLIENT\").isNotNull()),\n",
    "            F.col(\"REGION_RATING_CLIENT_W_CITY\") - F.col(\"REGION_RATING_CLIENT\"),\n",
    "        ).otherwise(F.lit(None)),\n",
    "    )\n",
    "\n",
    "    # Ownership & external scores\n",
    "    df = (\n",
    "        df.withColumn(\n",
    "            \"OWNERSHIP_SCORE\",\n",
    "            (\n",
    "                F.coalesce(F.col(\"FLAG_OWN_CAR\"), F.lit(0)).cast(\"int\")\n",
    "                + F.coalesce(F.col(\"FLAG_OWN_REALTY\"), F.lit(0)).cast(\"int\")\n",
    "            ),\n",
    "        )\n",
    "        .withColumn(\n",
    "            \"EXT_SOURCE_MEAN\",\n",
    "            F.when(\n",
    "                (F.col(\"EXT_SOURCE_1\").isNotNull())\n",
    "                & (F.col(\"EXT_SOURCE_2\").isNotNull())\n",
    "                & (F.col(\"EXT_SOURCE_3\").isNotNull()),\n",
    "                (F.col(\"EXT_SOURCE_1\") + F.col(\"EXT_SOURCE_2\") + F.col(\"EXT_SOURCE_3\"))\n",
    "                / F.lit(3.0),\n",
    "            ).otherwise(F.lit(None)),\n",
    "        )\n",
    "        .withColumn(\n",
    "            \"EXT_SOURCE_MIN\",\n",
    "            F.least(\n",
    "                F.col(\"EXT_SOURCE_1\"), F.col(\"EXT_SOURCE_2\"), F.col(\"EXT_SOURCE_3\")\n",
    "            ),\n",
    "        )\n",
    "    )\n",
    "\n",
    "    # Social default rates\n",
    "    df = df.withColumn(\n",
    "        \"SOCIAL_DEFAULT_RATE_30\",\n",
    "        F.when(\n",
    "            (F.col(\"OBS_30_CNT_SOCIAL_CIRCLE\").isNotNull())\n",
    "            & (F.col(\"OBS_30_CNT_SOCIAL_CIRCLE\") > 0),\n",
    "            F.col(\"DEF_30_CNT_SOCIAL_CIRCLE\") / F.col(\"OBS_30_CNT_SOCIAL_CIRCLE\"),\n",
    "        ).otherwise(F.lit(0.0)),\n",
    "    ).withColumn(\n",
    "        \"SOCIAL_DEFAULT_RATE_60\",\n",
    "        F.when(\n",
    "            (F.col(\"OBS_60_CNT_SOCIAL_CIRCLE\").isNotNull())\n",
    "            & (F.col(\"OBS_60_CNT_SOCIAL_CIRCLE\") > 0),\n",
    "            F.col(\"DEF_60_CNT_SOCIAL_CIRCLE\") / F.col(\"OBS_60_CNT_SOCIAL_CIRCLE\"),\n",
    "        ).otherwise(F.lit(0.0)),\n",
    "    )\n",
    "\n",
    "    # Employment-to-age and car-related ratios\n",
    "    df = df.withColumn(\n",
    "        \"EMPLOYMENT_AGE_RATIO\",\n",
    "        F.when(\n",
    "            (F.col(\"DAYS_EMPLOYED\").isNotNull())\n",
    "            & (F.col(\"DAYS_BIRTH\").isNotNull())\n",
    "            & (F.col(\"DAYS_BIRTH\") < 0)\n",
    "            & (F.col(\"DAYS_EMPLOYED\") < 0),\n",
    "            (-F.col(\"DAYS_EMPLOYED\")) / (-F.col(\"DAYS_BIRTH\")),\n",
    "        ).otherwise(F.lit(None)),\n",
    "    ).withColumn(\n",
    "        \"CAR_AGE_EFFECTIVE\",\n",
    "        F.when(F.col(\"FLAG_OWN_CAR\") == 1, F.col(\"OWN_CAR_AGE\")).otherwise(F.lit(0)),\n",
    "    )\n",
    "\n",
    "    # Precompute common subexpressions: EXT_MEAN, DTI, AGE_YRS, EMP_YRS, BUREAU_TOTAL\n",
    "    df = (\n",
    "        df.withColumn(\n",
    "            \"EXT_MEAN_TMP\",\n",
    "            F.when(\n",
    "                (F.col(\"EXT_SOURCE_1\").isNotNull())\n",
    "                & (F.col(\"EXT_SOURCE_2\").isNotNull())\n",
    "                & (F.col(\"EXT_SOURCE_3\").isNotNull()),\n",
    "                (F.col(\"EXT_SOURCE_1\") + F.col(\"EXT_SOURCE_2\") + F.col(\"EXT_SOURCE_3\"))\n",
    "                / F.lit(3.0),\n",
    "            ).otherwise(F.lit(None)),\n",
    "        )\n",
    "        .withColumn(\n",
    "            \"DTI_TMP\",\n",
    "            F.when(\n",
    "                (F.col(\"AMT_INCOME_TOTAL\").isNotNull())\n",
    "                & (F.col(\"AMT_INCOME_TOTAL\") > 0),\n",
    "                F.col(\"AMT_CREDIT\") / F.col(\"AMT_INCOME_TOTAL\"),\n",
    "            ).otherwise(F.lit(None)),\n",
    "        )\n",
    "        .withColumn(\n",
    "            \"AGE_YRS_TMP\",\n",
    "            F.when(\n",
    "                F.col(\"DAYS_BIRTH\").isNotNull(), -F.col(\"DAYS_BIRTH\") / F.lit(365.2425)\n",
    "            ).otherwise(F.lit(None)),\n",
    "        )\n",
    "        .withColumn(\n",
    "            \"EMP_YRS_TMP\",\n",
    "            F.when(\n",
    "                F.col(\"DAYS_EMPLOYED\").isNotNull() & (F.col(\"DAYS_EMPLOYED\") < 0),\n",
    "                -F.col(\"DAYS_EMPLOYED\") / F.lit(365.2425),\n",
    "            ).otherwise(F.lit(None)),\n",
    "        )\n",
    "    )\n",
    "\n",
    "    # Income-Annuity Buffer Ratio\n",
    "    df = df.withColumn(\n",
    "        \"INCOME_ANNUITY_BUFFER\",\n",
    "        F.when(\n",
    "            (F.col(\"AMT_ANNUITY\").isNotNull()) & (F.col(\"AMT_ANNUITY\") > 0),\n",
    "            (F.col(\"AMT_INCOME_TOTAL\") - F.col(\"AMT_ANNUITY\")) / F.col(\"AMT_ANNUITY\"),\n",
    "        ).otherwise(F.lit(None)),\n",
    "    )\n",
    "\n",
    "    # Risk‐Adjusted External Score\n",
    "    df = df.withColumn(\n",
    "        \"RISK_ADJ_EXT\",\n",
    "        F.when(\n",
    "            (F.col(\"EXT_MEAN_TMP\").isNotNull())\n",
    "            & (F.col(\"DTI_TMP\").isNotNull())\n",
    "            & (F.col(\"DTI_TMP\") > 0),\n",
    "            F.col(\"EXT_MEAN_TMP\") / F.col(\"DTI_TMP\"),\n",
    "        ).otherwise(F.lit(None)),\n",
    "    )\n",
    "\n",
    "    # External Score Variability (standard deviation)\n",
    "    df = df.withColumn(\n",
    "        \"EXT_STD\",\n",
    "        F.when(\n",
    "            (F.col(\"EXT_SOURCE_1\").isNotNull())\n",
    "            & (F.col(\"EXT_SOURCE_2\").isNotNull())\n",
    "            & (F.col(\"EXT_SOURCE_3\").isNotNull()),\n",
    "            F.sqrt(\n",
    "                (\n",
    "                    (F.col(\"EXT_SOURCE_1\") - F.col(\"EXT_MEAN_TMP\")) ** 2\n",
    "                    + (F.col(\"EXT_SOURCE_2\") - F.col(\"EXT_MEAN_TMP\")) ** 2\n",
    "                    + (F.col(\"EXT_SOURCE_3\") - F.col(\"EXT_MEAN_TMP\")) ** 2\n",
    "                )\n",
    "                / F.lit(3.0)\n",
    "            ),\n",
    "        ).otherwise(F.lit(None)),\n",
    "    )\n",
    "\n",
    "    # Housing Mobility Score\n",
    "    df = df.withColumn(\n",
    "        \"HOUSING_MOBILITY\",\n",
    "        2\n",
    "        * (\n",
    "            F.coalesce(F.col(\"REG_REGION_NOT_LIVE_REGION\"), F.lit(0)).cast(\"int\")\n",
    "            + F.coalesce(F.col(\"REG_REGION_NOT_WORK_REGION\"), F.lit(0)).cast(\"int\")\n",
    "            + F.coalesce(F.col(\"LIVE_REGION_NOT_WORK_REGION\"), F.lit(0)).cast(\"int\")\n",
    "        )\n",
    "        + 1\n",
    "        * (\n",
    "            F.coalesce(F.col(\"REG_CITY_NOT_LIVE_CITY\"), F.lit(0)).cast(\"int\")\n",
    "            + F.coalesce(F.col(\"REG_CITY_NOT_WORK_CITY\"), F.lit(0)).cast(\"int\")\n",
    "            + F.coalesce(F.col(\"LIVE_CITY_NOT_WORK_CITY\"), F.lit(0)).cast(\"int\")\n",
    "        ),\n",
    "    )\n",
    "\n",
    "    # Employment-Age Gap\n",
    "    df = df.withColumn(\n",
    "        \"EMPLOYMENT_AGE_GAP\",\n",
    "        F.when(\n",
    "            (F.col(\"EMP_YRS_TMP\").isNotNull())\n",
    "            & (F.col(\"AGE_YRS_TMP\").isNotNull())\n",
    "            & (F.col(\"AGE_YRS_TMP\") > 0),\n",
    "            F.lit(1.0) - (F.col(\"EMP_YRS_TMP\") / F.col(\"AGE_YRS_TMP\")),\n",
    "        ).otherwise(F.lit(None)),\n",
    "    )\n",
    "\n",
    "    # Clean up any intermediate TMP columns\n",
    "    df = df.drop(\n",
    "        \"EXT_MEAN_TMP\",\n",
    "        \"DTI_TMP\",\n",
    "        \"AGE_YRS_TMP\",\n",
    "        \"EMP_YRS_TMP\",\n",
    "    )\n",
    "\n",
    "    return df"
   ]
  },
  {
   "cell_type": "code",
   "execution_count": null,
   "id": "a310c5dd",
   "metadata": {},
   "outputs": [],
   "source": [
    "df = add_credit_features(df)"
   ]
  },
  {
   "cell_type": "code",
   "execution_count": null,
   "id": "4836c677",
   "metadata": {},
   "outputs": [],
   "source": [
    "df = df.toDF(*[col.lower() for col in df.columns])"
   ]
  },
  {
   "cell_type": "code",
   "execution_count": null,
   "id": "118a1e48",
   "metadata": {},
   "outputs": [],
   "source": [
    "df.show(5)"
   ]
  },
  {
   "cell_type": "markdown",
   "id": "dbb6b2b1",
   "metadata": {},
   "source": [
    "***"
   ]
  },
  {
   "cell_type": "code",
   "execution_count": null,
   "id": "99b6036b",
   "metadata": {},
   "outputs": [],
   "source": [
    "# for col in df.columns:\n",
    "#     get_column_summary(df=df, column_name=col)\n",
    "#     print(\"\\n\\n\")"
   ]
  },
  {
   "cell_type": "code",
   "execution_count": null,
   "id": "7a92f237",
   "metadata": {},
   "outputs": [],
   "source": [
    "col_index = 0\n",
    "get_column_summary(df=df, column_name=df.columns[col_index])"
   ]
  },
  {
   "cell_type": "code",
   "execution_count": null,
   "id": "fa079d6b",
   "metadata": {},
   "outputs": [],
   "source": [
    "col_index = 1\n",
    "get_column_summary(df=df, column_name=df.columns[col_index])"
   ]
  },
  {
   "cell_type": "code",
   "execution_count": null,
   "id": "8bf0365b",
   "metadata": {},
   "outputs": [],
   "source": [
    "col_index = 2\n",
    "get_column_summary(df=df, column_name=df.columns[col_index])"
   ]
  },
  {
   "cell_type": "code",
   "execution_count": null,
   "id": "ffba9882",
   "metadata": {},
   "outputs": [],
   "source": [
    "col_index = 3\n",
    "get_column_summary(df=df, column_name=df.columns[col_index])"
   ]
  },
  {
   "cell_type": "code",
   "execution_count": null,
   "id": "80995d26",
   "metadata": {},
   "outputs": [],
   "source": [
    "# from pyspark.ml.feature import StringIndexer\n",
    "\n",
    "# indexer = StringIndexer(\n",
    "#     inputCol=\"name_contract_type\", outputCol=\"name_contract_type_string_indexed\"\n",
    "# )\n",
    "# model = indexer.fit(df)\n",
    "# df = model.transform(df)\n",
    "\n",
    "# from pyspark.sql import Row\n",
    "\n",
    "# temp_df = spark.createDataFrame(\n",
    "#     [Row(name_contract_type=item) for item in model.labels]\n",
    "# )\n",
    "# temp_df.show()\n",
    "# yo_indexer = StringIndexer(\n",
    "#     inputCol=\"name_contract_type\", outputCol=\"name_contract_type_Index\"\n",
    "# )\n",
    "\n",
    "# yo_model = yo_indexer.fit(temp_df)\n",
    "# yo_model.labels == model.labels"
   ]
  },
  {
   "cell_type": "code",
   "execution_count": null,
   "id": "7236aae5",
   "metadata": {},
   "outputs": [],
   "source": [
    "col_index = 4\n",
    "get_column_summary(df=df, column_name=df.columns[col_index])"
   ]
  },
  {
   "cell_type": "code",
   "execution_count": null,
   "id": "50c1a050",
   "metadata": {},
   "outputs": [],
   "source": [
    "col_index = 5\n",
    "get_column_summary(df=df, column_name=df.columns[col_index])"
   ]
  },
  {
   "cell_type": "code",
   "execution_count": null,
   "id": "e4301e0b",
   "metadata": {},
   "outputs": [],
   "source": [
    "col_index = 6\n",
    "get_column_summary(df=df, column_name=df.columns[col_index])"
   ]
  },
  {
   "cell_type": "code",
   "execution_count": null,
   "id": "5a64b10f",
   "metadata": {},
   "outputs": [],
   "source": [
    "for col_name in [\n",
    "    \"name_contract_type\",\n",
    "    \"code_gender\",\n",
    "    \"flag_own_car\",\n",
    "    \"flag_own_realty\",\n",
    "]:\n",
    "    indexer = StringIndexer(\n",
    "        inputCol=col_name,\n",
    "        outputCol=col_name + \"_string_indexed\",\n",
    "        stringOrderType=\"alphabetAsc\",\n",
    "    )\n",
    "    model = indexer.fit(df)\n",
    "    df = model.transform(df)"
   ]
  },
  {
   "cell_type": "code",
   "execution_count": null,
   "id": "ebdc0e50",
   "metadata": {},
   "outputs": [],
   "source": [
    "col_index = 7\n",
    "get_column_summary(df=df, column_name=df.columns[col_index])"
   ]
  },
  {
   "cell_type": "code",
   "execution_count": null,
   "id": "163395b9",
   "metadata": {},
   "outputs": [],
   "source": [
    "col_index = 8\n",
    "get_column_summary(df=df, column_name=df.columns[col_index])"
   ]
  },
  {
   "cell_type": "code",
   "execution_count": null,
   "id": "72bfc4dd",
   "metadata": {},
   "outputs": [],
   "source": [
    "col_index = 9\n",
    "get_column_summary(df=df, column_name=df.columns[col_index])"
   ]
  },
  {
   "cell_type": "code",
   "execution_count": null,
   "id": "98451b7f",
   "metadata": {},
   "outputs": [],
   "source": [
    "col_index = 10\n",
    "get_column_summary(df=df, column_name=df.columns[col_index])"
   ]
  },
  {
   "cell_type": "code",
   "execution_count": null,
   "id": "04462f77",
   "metadata": {},
   "outputs": [],
   "source": [
    "assembler = VectorAssembler(\n",
    "    inputCols=[\"amt_credit\"], outputCol=\"amt_annuity_lr_features\"\n",
    ")\n",
    "\n",
    "df_assembled = assembler.transform(df.filter(col(\"amt_annuity\").isNotNull()))\n",
    "\n",
    "lr = LinearRegression(\n",
    "    featuresCol=\"amt_annuity_lr_features\",\n",
    "    labelCol=\"amt_annuity\",\n",
    "    regParam=0.3,\n",
    "    elasticNetParam=0.8,\n",
    ")\n",
    "\n",
    "lrModel = lr.fit(df_assembled)\n",
    "\n",
    "print(\"Coefficients: %s\" % str(lrModel.coefficients))\n",
    "print(\"Intercept: %s\" % str(lrModel.intercept))\n",
    "print(\"RMSE: %f\" % lrModel.summary.rootMeanSquaredError)\n",
    "print(\"R2 Score: %f\" % lrModel.summary.r2)"
   ]
  },
  {
   "cell_type": "code",
   "execution_count": null,
   "id": "6a659a58",
   "metadata": {},
   "outputs": [],
   "source": [
    "coefficient = lrModel.coefficients[0]\n",
    "intercept = lrModel.intercept\n",
    "expr_string = f\"({coefficient} * amt_credit) + {intercept}\"\n",
    "\n",
    "df = df.withColumn(\n",
    "    \"amt_annuity\",\n",
    "    when(col(\"amt_annuity\").isNull(), expr(expr_string)).otherwise(col(\"amt_annuity\")),\n",
    ")"
   ]
  },
  {
   "cell_type": "code",
   "execution_count": null,
   "id": "cd0339a8",
   "metadata": {},
   "outputs": [],
   "source": [
    "col_index = 11\n",
    "get_column_summary(df=df, column_name=df.columns[col_index])"
   ]
  },
  {
   "cell_type": "code",
   "execution_count": null,
   "id": "62cb4f0b",
   "metadata": {},
   "outputs": [],
   "source": [
    "assembler = VectorAssembler(\n",
    "    inputCols=[\"amt_credit\"], outputCol=\"amt_goods_price_lr_features\"\n",
    ")\n",
    "\n",
    "df_assembled = assembler.transform(df.filter(col(\"amt_goods_price\").isNotNull()))\n",
    "\n",
    "lr = LinearRegression(\n",
    "    featuresCol=\"amt_goods_price_lr_features\",\n",
    "    labelCol=\"amt_goods_price\",\n",
    "    regParam=0.3,\n",
    "    elasticNetParam=0.8,\n",
    ")\n",
    "\n",
    "lrModel = lr.fit(df_assembled)\n",
    "\n",
    "print(\"Coefficients: %s\" % str(lrModel.coefficients))\n",
    "print(\"Intercept: %s\" % str(lrModel.intercept))\n",
    "print(\"RMSE: %f\" % lrModel.summary.rootMeanSquaredError)\n",
    "print(\"R2 Score: %f\" % lrModel.summary.r2)"
   ]
  },
  {
   "cell_type": "code",
   "execution_count": null,
   "id": "23d84b71",
   "metadata": {},
   "outputs": [],
   "source": [
    "coefficient = lrModel.coefficients[0]\n",
    "intercept = lrModel.intercept\n",
    "expr_string = f\"({coefficient} * amt_credit) + {intercept}\"\n",
    "\n",
    "df = df.withColumn(\n",
    "    \"amt_goods_price\",\n",
    "    when(col(\"amt_goods_price\").isNull(), expr(expr_string)).otherwise(\n",
    "        col(\"amt_goods_price\")\n",
    "    ),\n",
    ")"
   ]
  },
  {
   "cell_type": "code",
   "execution_count": null,
   "id": "471da54d",
   "metadata": {},
   "outputs": [],
   "source": [
    "col_index = 12\n",
    "get_column_summary(df=df, column_name=df.columns[col_index])"
   ]
  },
  {
   "cell_type": "code",
   "execution_count": null,
   "id": "47a8bced",
   "metadata": {},
   "outputs": [],
   "source": [
    "df = assign_category_labels(\n",
    "    df=df,\n",
    "    category_column=\"name_type_suite\",\n",
    "    categories=[\n",
    "        \"Unaccompanied\",\n",
    "        \"Other_B\",\n",
    "        \"Other_A\",\n",
    "        \"Group of people\",\n",
    "        \"Children\",\n",
    "        \"Spouse, partner\",\n",
    "        \"Family\",\n",
    "    ],\n",
    ")"
   ]
  },
  {
   "cell_type": "code",
   "execution_count": null,
   "id": "d3e434b1",
   "metadata": {},
   "outputs": [],
   "source": [
    "col_index = 13\n",
    "get_column_summary(df=df, column_name=df.columns[col_index])"
   ]
  },
  {
   "cell_type": "code",
   "execution_count": null,
   "id": "aea36a6d",
   "metadata": {},
   "outputs": [],
   "source": [
    "categories_mapping_dict = {\n",
    "    \"Working\": [\"Working\"],\n",
    "    \"Commercial associate\": [\"Commercial associate\", \"Businessman\"],\n",
    "    \"Pensioner\": [\"Pensioner\"],\n",
    "    \"State servant\": [\"State servant\"],\n",
    "    \"Not Earning\": [\"Unemployed\", \"Student\", \"Maternity leave\"],\n",
    "}\n",
    "\n",
    "df = assign_grouped_category_labels(\n",
    "    df=df,\n",
    "    category_column=df.columns[col_index],\n",
    "    categories_mapping=categories_mapping_dict,\n",
    ")"
   ]
  },
  {
   "cell_type": "code",
   "execution_count": null,
   "id": "cd384c40",
   "metadata": {},
   "outputs": [],
   "source": [
    "col_index = 14\n",
    "get_column_summary(df=df, column_name=df.columns[col_index])"
   ]
  },
  {
   "cell_type": "code",
   "execution_count": null,
   "id": "cb7ad5f3",
   "metadata": {},
   "outputs": [],
   "source": [
    "col_index = 15\n",
    "get_column_summary(df=df, column_name=df.columns[col_index])"
   ]
  },
  {
   "cell_type": "code",
   "execution_count": null,
   "id": "c62e1346",
   "metadata": {},
   "outputs": [],
   "source": [
    "col_index = 16\n",
    "get_column_summary(df=df, column_name=df.columns[col_index])"
   ]
  },
  {
   "cell_type": "code",
   "execution_count": null,
   "id": "c61d0824",
   "metadata": {},
   "outputs": [],
   "source": [
    "for col_name in [\"name_education_type\", \"name_family_status\", \"name_housing_type\"]:\n",
    "    indexer = StringIndexer(\n",
    "        inputCol=col_name,\n",
    "        outputCol=col_name + \"_string_indexed\",\n",
    "        stringOrderType=\"alphabetAsc\",\n",
    "    )\n",
    "    model = indexer.fit(df)\n",
    "    df = model.transform(df)"
   ]
  },
  {
   "cell_type": "code",
   "execution_count": null,
   "id": "50c8a272",
   "metadata": {},
   "outputs": [],
   "source": [
    "col_index = 17\n",
    "get_column_summary(df=df, column_name=df.columns[col_index])"
   ]
  },
  {
   "cell_type": "code",
   "execution_count": null,
   "id": "44e7c984",
   "metadata": {},
   "outputs": [],
   "source": [
    "col_index = 18\n",
    "get_column_summary(df=df, column_name=df.columns[col_index])"
   ]
  },
  {
   "cell_type": "code",
   "execution_count": null,
   "id": "b69f5d1b",
   "metadata": {},
   "outputs": [],
   "source": [
    "col_index = 19\n",
    "get_column_summary(df=df, column_name=df.columns[col_index])"
   ]
  },
  {
   "cell_type": "code",
   "execution_count": null,
   "id": "fb602687",
   "metadata": {},
   "outputs": [],
   "source": [
    "col_index = 20\n",
    "get_column_summary(df=df, column_name=df.columns[col_index])"
   ]
  },
  {
   "cell_type": "code",
   "execution_count": null,
   "id": "f83dad10",
   "metadata": {},
   "outputs": [],
   "source": [
    "col_index = 21\n",
    "get_column_summary(df=df, column_name=df.columns[col_index])"
   ]
  },
  {
   "cell_type": "code",
   "execution_count": null,
   "id": "981c49dc",
   "metadata": {},
   "outputs": [],
   "source": [
    "col_index = 21\n",
    "get_column_summary(df=df, column_name=df.columns[col_index])"
   ]
  },
  {
   "cell_type": "code",
   "execution_count": null,
   "id": "885cddd0",
   "metadata": {},
   "outputs": [],
   "source": [
    "col_index = 22\n",
    "get_column_summary(df=df, column_name=df.columns[col_index])"
   ]
  },
  {
   "cell_type": "code",
   "execution_count": null,
   "id": "ff733047",
   "metadata": {},
   "outputs": [],
   "source": [
    "df = df.fillna({\"own_car_age\": -1})"
   ]
  },
  {
   "cell_type": "code",
   "execution_count": null,
   "id": "0d2d3b72",
   "metadata": {},
   "outputs": [],
   "source": [
    "col_index = 23\n",
    "get_column_summary(df=df, column_name=df.columns[col_index])"
   ]
  },
  {
   "cell_type": "code",
   "execution_count": null,
   "id": "c3dee1b3",
   "metadata": {},
   "outputs": [],
   "source": [
    "col_index = 24\n",
    "get_column_summary(df=df, column_name=df.columns[col_index])"
   ]
  },
  {
   "cell_type": "code",
   "execution_count": null,
   "id": "8e73ba3d",
   "metadata": {},
   "outputs": [],
   "source": [
    "col_index = 25\n",
    "get_column_summary(df=df, column_name=df.columns[col_index])"
   ]
  },
  {
   "cell_type": "code",
   "execution_count": null,
   "id": "e65c55e4",
   "metadata": {},
   "outputs": [],
   "source": [
    "col_index = 26\n",
    "get_column_summary(df=df, column_name=df.columns[col_index])"
   ]
  },
  {
   "cell_type": "code",
   "execution_count": null,
   "id": "df901287",
   "metadata": {},
   "outputs": [],
   "source": [
    "col_index = 27\n",
    "get_column_summary(df=df, column_name=df.columns[col_index])"
   ]
  },
  {
   "cell_type": "code",
   "execution_count": null,
   "id": "d0610257",
   "metadata": {},
   "outputs": [],
   "source": [
    "col_index = 28\n",
    "get_column_summary(df=df, column_name=df.columns[col_index])"
   ]
  },
  {
   "cell_type": "code",
   "execution_count": null,
   "id": "c776cbf0",
   "metadata": {},
   "outputs": [],
   "source": [
    "col_index = 29\n",
    "get_column_summary(df=df, column_name=df.columns[col_index])"
   ]
  },
  {
   "cell_type": "code",
   "execution_count": null,
   "id": "6308e665",
   "metadata": {},
   "outputs": [],
   "source": [
    "df = assign_category_labels(\n",
    "    df=df,\n",
    "    category_column=\"occupation_type\",\n",
    "    categories=[\n",
    "        \"Managers\",\n",
    "        \"High skill tech staff\",\n",
    "        \"HR staff\",\n",
    "        \"Medicine staff\",\n",
    "        \"Realty agents\",\n",
    "        \"Sales staff\",\n",
    "        \"IT staff\",\n",
    "        \"Accountants\",\n",
    "        \"Private service staff\",\n",
    "        \"Core staff\",\n",
    "        \"Drivers\",\n",
    "        \"Cooking staff\",\n",
    "        \"Security staff\",\n",
    "        \"Waiters/barmen staff\",\n",
    "        \"Cleaning staff\",\n",
    "        \"Secretaries\",\n",
    "        \"Laborers\",\n",
    "        \"Low-skill Laborers\",\n",
    "    ],\n",
    ")"
   ]
  },
  {
   "cell_type": "code",
   "execution_count": null,
   "id": "b2586dcf",
   "metadata": {},
   "outputs": [],
   "source": [
    "col_index = 30\n",
    "get_column_summary(df=df, column_name=df.columns[col_index])"
   ]
  },
  {
   "cell_type": "code",
   "execution_count": null,
   "id": "e8302ea2",
   "metadata": {},
   "outputs": [],
   "source": [
    "average_cnt_fam_members = int(\n",
    "    np.floor(\n",
    "        df.select(\n",
    "            expr(\"avg(cnt_fam_members)\").alias(\"average_cnt_fam_members\")\n",
    "        ).collect()[0][\"average_cnt_fam_members\"]\n",
    "    )\n",
    ")\n",
    "\n",
    "df = df.fillna({\"cnt_fam_members\": average_cnt_fam_members})"
   ]
  },
  {
   "cell_type": "code",
   "execution_count": null,
   "id": "c5a9ec70",
   "metadata": {},
   "outputs": [],
   "source": [
    "col_index = 31\n",
    "get_column_summary(df=df, column_name=df.columns[col_index])"
   ]
  },
  {
   "cell_type": "code",
   "execution_count": null,
   "id": "f347349d",
   "metadata": {},
   "outputs": [],
   "source": [
    "col_index = 32\n",
    "get_column_summary(df=df, column_name=df.columns[col_index])"
   ]
  },
  {
   "cell_type": "code",
   "execution_count": null,
   "id": "313150ec",
   "metadata": {},
   "outputs": [],
   "source": [
    "col_index = 33\n",
    "get_column_summary(df=df, column_name=df.columns[col_index])"
   ]
  },
  {
   "cell_type": "code",
   "execution_count": null,
   "id": "4089a1b7",
   "metadata": {},
   "outputs": [],
   "source": [
    "df = assign_category_labels(\n",
    "    df=df,\n",
    "    category_column=\"weekday_appr_process_start\",\n",
    "    categories=[\n",
    "        \"MONDAY\",\n",
    "        \"TUESDAY\",\n",
    "        \"WEDNESDAY\",\n",
    "        \"THURSDAY\",\n",
    "        \"FRIDAY\",\n",
    "        \"SATURDAY\",\n",
    "        \"SUNDAY\",\n",
    "    ],\n",
    ")"
   ]
  },
  {
   "cell_type": "code",
   "execution_count": null,
   "id": "c7a48743",
   "metadata": {},
   "outputs": [],
   "source": [
    "col_index = 34\n",
    "get_column_summary(df=df, column_name=df.columns[col_index])"
   ]
  },
  {
   "cell_type": "code",
   "execution_count": null,
   "id": "375544a2",
   "metadata": {},
   "outputs": [],
   "source": [
    "col_index = 35\n",
    "get_column_summary(df=df, column_name=df.columns[col_index])"
   ]
  },
  {
   "cell_type": "code",
   "execution_count": null,
   "id": "c87e9165",
   "metadata": {},
   "outputs": [],
   "source": [
    "col_index = 36\n",
    "get_column_summary(df=df, column_name=df.columns[col_index])"
   ]
  },
  {
   "cell_type": "code",
   "execution_count": null,
   "id": "710399b4",
   "metadata": {},
   "outputs": [],
   "source": [
    "col_index = 37\n",
    "get_column_summary(df=df, column_name=df.columns[col_index])"
   ]
  },
  {
   "cell_type": "code",
   "execution_count": null,
   "id": "63fa4eed",
   "metadata": {},
   "outputs": [],
   "source": [
    "col_index = 38\n",
    "get_column_summary(df=df, column_name=df.columns[col_index])"
   ]
  },
  {
   "cell_type": "code",
   "execution_count": null,
   "id": "a86835fa",
   "metadata": {},
   "outputs": [],
   "source": [
    "col_index = 39\n",
    "get_column_summary(df=df, column_name=df.columns[col_index])"
   ]
  },
  {
   "cell_type": "code",
   "execution_count": null,
   "id": "37bbc4ed",
   "metadata": {},
   "outputs": [],
   "source": [
    "col_index = 40\n",
    "get_column_summary(df=df, column_name=df.columns[col_index])"
   ]
  },
  {
   "cell_type": "code",
   "execution_count": null,
   "id": "978a478a",
   "metadata": {},
   "outputs": [],
   "source": [
    "col_index = 41\n",
    "get_column_summary(df=df, column_name=df.columns[col_index])"
   ]
  },
  {
   "cell_type": "code",
   "execution_count": null,
   "id": "662a9e7b",
   "metadata": {},
   "outputs": [],
   "source": [
    "column_name = df.columns[col_index]\n",
    "unique_values_count = (\n",
    "    df.groupBy(column_name)\n",
    "    .agg(F.count(column_name).alias(\"count\"))\n",
    "    .orderBy(F.col(\"count\").desc())\n",
    ")\n",
    "\n",
    "df = assign_category_labels(\n",
    "    df=df,\n",
    "    category_column=\"organization_type\",\n",
    "    categories=[value[column_name] for value in unique_values_count.collect()],\n",
    ")"
   ]
  },
  {
   "cell_type": "code",
   "execution_count": null,
   "id": "dde19e7a",
   "metadata": {},
   "outputs": [],
   "source": [
    "col_index = 42\n",
    "get_column_summary(df=df, column_name=df.columns[col_index])"
   ]
  },
  {
   "cell_type": "code",
   "execution_count": null,
   "id": "dde19e7a",
   "metadata": {},
   "outputs": [],
   "source": [
    "col_index = 43\n",
    "get_column_summary(df=df, column_name=df.columns[col_index])"
   ]
  },
  {
   "cell_type": "code",
   "execution_count": null,
   "id": "6569b38a",
   "metadata": {},
   "outputs": [],
   "source": [
    "col_index = 44\n",
    "get_column_summary(df=df, column_name=df.columns[col_index])"
   ]
  },
  {
   "cell_type": "code",
   "execution_count": null,
   "id": "59e00826",
   "metadata": {},
   "outputs": [],
   "source": [
    "for column_name in [\"ext_source_1\", \"ext_source_2\", \"ext_source_3\"]:\n",
    "    df = df.fillna({column_name: -1})"
   ]
  },
  {
   "cell_type": "code",
   "execution_count": null,
   "id": "65a0d24b",
   "metadata": {},
   "outputs": [],
   "source": [
    "col_index = 45\n",
    "get_column_summary(df=df, column_name=df.columns[col_index])"
   ]
  },
  {
   "cell_type": "code",
   "execution_count": null,
   "id": "2578685d",
   "metadata": {},
   "outputs": [],
   "source": [
    "for column_name in [\n",
    "    \"apartments_avg\",\n",
    "    \"basementarea_avg\",\n",
    "    \"years_beginexpluatation_avg\",\n",
    "    \"years_build_avg\",\n",
    "    \"commonarea_avg\",\n",
    "    \"elevators_avg\",\n",
    "    \"entrances_avg\",\n",
    "    \"floorsmax_avg\",\n",
    "    \"floorsmin_avg\",\n",
    "    \"landarea_avg\",\n",
    "    \"livingapartments_avg\",\n",
    "    \"livingarea_avg\",\n",
    "    \"nonlivingapartments_avg\",\n",
    "    \"nonlivingarea_avg\",\n",
    "    \"apartments_mode\",\n",
    "    \"basementarea_mode\",\n",
    "    \"years_beginexpluatation_mode\",\n",
    "    \"years_build_mode\",\n",
    "    \"commonarea_mode\",\n",
    "    \"elevators_mode\",\n",
    "    \"entrances_mode\",\n",
    "    \"floorsmax_mode\",\n",
    "    \"floorsmin_mode\",\n",
    "    \"landarea_mode\",\n",
    "    \"livingapartments_mode\",\n",
    "    \"livingarea_mode\",\n",
    "    \"nonlivingapartments_mode\",\n",
    "    \"nonlivingarea_mode\",\n",
    "    \"apartments_medi\",\n",
    "    \"basementarea_medi\",\n",
    "    \"years_beginexpluatation_medi\",\n",
    "    \"years_build_medi\",\n",
    "    \"commonarea_medi\",\n",
    "    \"elevators_medi\",\n",
    "    \"entrances_medi\",\n",
    "    \"floorsmax_medi\",\n",
    "    \"floorsmin_medi\",\n",
    "    \"landarea_medi\",\n",
    "    \"livingapartments_medi\",\n",
    "    \"livingarea_medi\",\n",
    "    \"nonlivingapartments_medi\",\n",
    "    \"nonlivingarea_medi\",\n",
    "    \"fondkapremont_mode\",\n",
    "    \"housetype_mode\",\n",
    "    \"totalarea_mode\",\n",
    "    \"wallsmaterial_mode\",\n",
    "    \"emergencystate_mode\",\n",
    "]:\n",
    "    df = df.fillna({column_name: -1})"
   ]
  },
  {
   "cell_type": "code",
   "execution_count": null,
   "id": "06958c93",
   "metadata": {},
   "outputs": [],
   "source": [
    "col_index = 93\n",
    "get_column_summary(df=df, column_name=df.columns[col_index])"
   ]
  },
  {
   "cell_type": "code",
   "execution_count": null,
   "id": "f5ccb3e7",
   "metadata": {},
   "outputs": [],
   "source": [
    "col_index = 96\n",
    "get_column_summary(df=df, column_name=df.columns[col_index])"
   ]
  },
  {
   "cell_type": "code",
   "execution_count": null,
   "id": "a7d0686a",
   "metadata": {},
   "outputs": [],
   "source": [
    "for column_name in [\n",
    "    \"obs_30_cnt_social_circle\",\n",
    "    \"def_30_cnt_social_circle\",\n",
    "    \"obs_60_cnt_social_circle\",\n",
    "    \"def_60_cnt_social_circle\",\n",
    "    \"days_last_phone_change\",\n",
    "]:\n",
    "    df = df.fillna({column_name: -1})"
   ]
  },
  {
   "cell_type": "code",
   "execution_count": null,
   "id": "3463d03c",
   "metadata": {},
   "outputs": [],
   "source": [
    "col_index = 97\n",
    "get_column_summary(df=df, column_name=df.columns[col_index])"
   ]
  },
  {
   "cell_type": "code",
   "execution_count": null,
   "id": "96075bfa",
   "metadata": {},
   "outputs": [],
   "source": [
    "# for col_name in df.columns[97:117]:\n",
    "#     get_column_summary(df=df, column_name=col_name)\n",
    "\n",
    "# No processing required"
   ]
  },
  {
   "cell_type": "code",
   "execution_count": null,
   "id": "27bce6f7",
   "metadata": {},
   "outputs": [],
   "source": [
    "# for col_name in df.columns[117:123]:\n",
    "#     get_column_summary(df=df, column_name=col_name)"
   ]
  },
  {
   "cell_type": "code",
   "execution_count": null,
   "id": "cad207ec",
   "metadata": {},
   "outputs": [],
   "source": [
    "for col_name in [\n",
    "    \"amt_req_credit_bureau_hour\",\n",
    "    \"amt_req_credit_bureau_day\",\n",
    "    \"amt_req_credit_bureau_week\",\n",
    "    \"amt_req_credit_bureau_mon\",\n",
    "    \"amt_req_credit_bureau_qrt\",\n",
    "    \"amt_req_credit_bureau_year\",\n",
    "]:\n",
    "    df = df.fillna({column_name: -1})"
   ]
  },
  {
   "cell_type": "markdown",
   "id": "f1a333dc",
   "metadata": {},
   "source": [
    "***"
   ]
  },
  {
   "cell_type": "code",
   "execution_count": null,
   "id": "5fec6e3f",
   "metadata": {},
   "outputs": [],
   "source": [
    "df.show(5)"
   ]
  },
  {
   "cell_type": "code",
   "execution_count": null,
   "id": "16b73ee8",
   "metadata": {},
   "outputs": [],
   "source": [
    "count_nulls(df)"
   ]
  },
  {
   "cell_type": "markdown",
   "id": "0f0225a4",
   "metadata": {},
   "source": [
    "***"
   ]
  },
  {
   "cell_type": "code",
   "execution_count": null,
   "id": "b3896738",
   "metadata": {},
   "outputs": [],
   "source": [
    "# column_name = df.columns[col_index]\n",
    "# unique_values_count = (\n",
    "#     df.groupBy(column_name)\n",
    "#     .agg(F.count(column_name).alias(\"count\"))\n",
    "#     .orderBy(F.col(\"count\").desc())\n",
    "# )\n",
    "\n",
    "# {value[column_name]: value[\"count\"] for value in unique_values_count.collect()}"
   ]
  },
  {
   "cell_type": "code",
   "execution_count": null,
   "id": "af1c8ca0",
   "metadata": {},
   "outputs": [],
   "source": []
  },
  {
   "cell_type": "code",
   "execution_count": null,
   "id": "47b64112",
   "metadata": {},
   "outputs": [],
   "source": []
  },
  {
   "cell_type": "code",
   "execution_count": null,
   "id": "f6d7ed0e",
   "metadata": {},
   "outputs": [],
   "source": []
  },
  {
   "cell_type": "code",
   "execution_count": null,
   "id": "aad0cc27",
   "metadata": {},
   "outputs": [],
   "source": []
  },
  {
   "cell_type": "code",
   "execution_count": null,
   "id": "3069f499",
   "metadata": {},
   "outputs": [],
   "source": []
  },
  {
   "cell_type": "code",
   "execution_count": null,
   "id": "67bfe229",
   "metadata": {},
   "outputs": [],
   "source": []
  },
  {
   "cell_type": "code",
   "execution_count": null,
   "id": "d4353982",
   "metadata": {},
   "outputs": [],
   "source": []
  }
 ],
 "metadata": {
  "kernelspec": {
   "display_name": "Python 3",
   "language": "python",
   "name": "python3"
  },
  "language_info": {
   "codemirror_mode": {
    "name": "ipython",
    "version": 3
   },
   "file_extension": ".py",
   "mimetype": "text/x-python",
   "name": "python",
   "nbconvert_exporter": "python",
   "pygments_lexer": "ipython3",
   "version": "3.13.3"
  }
 },
 "nbformat": 4,
 "nbformat_minor": 5
}
