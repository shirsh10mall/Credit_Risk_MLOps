{
 "cells": [
  {
   "cell_type": "code",
   "execution_count": 1,
   "id": "5124850f",
   "metadata": {},
   "outputs": [
    {
     "name": "stdout",
     "output_type": "stream",
     "text": [
      "Current directory for notebook:  /Users/shirshmall/Personal_Drive/Credit_Risk_MLOps_Project\n"
     ]
    }
   ],
   "source": [
    "from dotenv import load_dotenv\n",
    "import os\n",
    "from pathlib import Path\n",
    "\n",
    "CURRENT_DIRECTORY_NOTEBOOK = None\n",
    "\n",
    "\n",
    "def intitate_notebook():\n",
    "    load_dotenv()\n",
    "    global CURRENT_DIRECTORY_NOTEBOOK\n",
    "    if CURRENT_DIRECTORY_NOTEBOOK is None:\n",
    "        os.chdir(os.getenv(\"PROJECT_BASE_PATH\"))\n",
    "        CURRENT_DIRECTORY_NOTEBOOK = Path(os.getcwd())\n",
    "        print(\"Current directory for notebook: \", CURRENT_DIRECTORY_NOTEBOOK)\n",
    "    else:\n",
    "        print(\n",
    "            \"Current directory for notebook is already set: \",\n",
    "            CURRENT_DIRECTORY_NOTEBOOK,\n",
    "        )\n",
    "\n",
    "\n",
    "intitate_notebook()"
   ]
  },
  {
   "cell_type": "code",
   "execution_count": 2,
   "id": "8a296f89",
   "metadata": {},
   "outputs": [],
   "source": [
    "import numpy as np\n",
    "from pyspark.sql import SparkSession\n",
    "from pyspark.ml.feature import StringIndexer\n",
    "from pyspark.sql.functions import expr, when, col\n",
    "from pyspark.ml import Pipeline\n",
    "from pyspark.sql.functions import lit\n",
    "from pyspark.sql import DataFrame\n",
    "from pyspark.sql import functions as F\n",
    "from pyspark.ml.regression import LinearRegression\n",
    "from pyspark.ml.feature import VectorAssembler\n",
    "from functools import reduce"
   ]
  },
  {
   "cell_type": "code",
   "execution_count": 3,
   "id": "a86ea528",
   "metadata": {},
   "outputs": [],
   "source": [
    "from src.data.cleaning import assign_category_labels, assign_grouped_category_labels"
   ]
  },
  {
   "cell_type": "code",
   "execution_count": 4,
   "id": "8c329ba0",
   "metadata": {},
   "outputs": [
    {
     "name": "stderr",
     "output_type": "stream",
     "text": [
      "WARNING: Using incubator modules: jdk.incubator.vector\n",
      "Using Spark's default log4j profile: org/apache/spark/log4j2-defaults.properties\n",
      "25/07/27 00:51:16 WARN Utils: Your hostname, Shirshs-MacBook-Air-2.local, resolves to a loopback address: 127.0.0.1; using 192.168.0.106 instead (on interface en0)\n",
      "25/07/27 00:51:16 WARN Utils: Set SPARK_LOCAL_IP if you need to bind to another address\n",
      "25/07/27 00:51:17 WARN NativeCodeLoader: Unable to load native-hadoop library for your platform... using builtin-java classes where applicable\n",
      "Using Spark's default log4j profile: org/apache/spark/log4j2-defaults.properties\n",
      "Setting default log level to \"WARN\".\n",
      "To adjust logging level use sc.setLogLevel(newLevel). For SparkR, use setLogLevel(newLevel).\n"
     ]
    }
   ],
   "source": [
    "username = \"data_source_user\"\n",
    "password = \"data_source_user_password\"\n",
    "host = \"0.0.0.0\"  # \"172.17.0.1\"\n",
    "port = \"5435\"\n",
    "database = \"data_source_db\"\n",
    "\n",
    "spark = (\n",
    "    SparkSession.builder.appName(\"PostgresETL\")\n",
    "    .config(\"spark.jars\", \"setup_files/postgresql-42.7.5.jar\")\n",
    "    .config(\"spark.driver.memory\", \"8g\")\n",
    "    .config(\"spark.executor.memory\", \"4g\")\n",
    "    .config(\"spark.sql.shuffle.partitions\", \"100\")\n",
    "    .getOrCreate()\n",
    ")\n",
    "\n",
    "jdbc_url = f\"jdbc:postgresql://{host}:{port}/{database}\"\n",
    "properties = {\"user\": username, \"password\": password, \"driver\": \"org.postgresql.Driver\"}"
   ]
  },
  {
   "cell_type": "code",
   "execution_count": 5,
   "id": "c48d954c",
   "metadata": {},
   "outputs": [
    {
     "data": {
      "text/plain": [
       "DataFrame[main_split_id: bigint, sk_id_curr: bigint, target: smallint, name_contract_type: string, code_gender: string, flag_own_car: string, flag_own_realty: string, cnt_children: smallint, amt_income_total: double, amt_credit: float, amt_annuity: float, amt_goods_price: float, name_type_suite: string, name_income_type: string, name_education_type: string, name_family_status: string, name_housing_type: string, region_population_relative: float, days_birth: smallint, days_employed: int, days_registration: float, days_id_publish: smallint, own_car_age: smallint, flag_mobil: smallint, flag_emp_phone: smallint, flag_work_phone: smallint, flag_cont_mobile: smallint, flag_phone: smallint, flag_email: smallint, occupation_type: string, cnt_fam_members: smallint, region_rating_client: smallint, region_rating_client_w_city: smallint, weekday_appr_process_start: string, hour_appr_process_start: smallint, reg_region_not_live_region: smallint, reg_region_not_work_region: smallint, live_region_not_work_region: smallint, reg_city_not_live_city: smallint, reg_city_not_work_city: smallint, live_city_not_work_city: smallint, organization_type: string, ext_source_1: float, ext_source_2: float, ext_source_3: float, apartments_avg: float, basementarea_avg: float, years_beginexpluatation_avg: float, years_build_avg: float, commonarea_avg: float, elevators_avg: float, entrances_avg: float, floorsmax_avg: float, floorsmin_avg: float, landarea_avg: float, livingapartments_avg: float, livingarea_avg: float, nonlivingapartments_avg: float, nonlivingarea_avg: float, apartments_mode: float, basementarea_mode: float, years_beginexpluatation_mode: float, years_build_mode: float, commonarea_mode: float, elevators_mode: float, entrances_mode: float, floorsmax_mode: float, floorsmin_mode: float, landarea_mode: float, livingapartments_mode: float, livingarea_mode: float, nonlivingapartments_mode: float, nonlivingarea_mode: float, apartments_medi: float, basementarea_medi: float, years_beginexpluatation_medi: float, years_build_medi: float, commonarea_medi: float, elevators_medi: float, entrances_medi: float, floorsmax_medi: float, floorsmin_medi: float, landarea_medi: float, livingapartments_medi: float, livingarea_medi: float, nonlivingapartments_medi: float, nonlivingarea_medi: float, fondkapremont_mode: string, housetype_mode: string, totalarea_mode: float, wallsmaterial_mode: string, emergencystate_mode: string, obs_30_cnt_social_circle: int, def_30_cnt_social_circle: smallint, obs_60_cnt_social_circle: int, def_60_cnt_social_circle: smallint, days_last_phone_change: smallint, flag_document_2: smallint, flag_document_3: smallint, flag_document_4: smallint, flag_document_5: smallint, flag_document_6: smallint, flag_document_7: smallint, flag_document_8: smallint, flag_document_9: smallint, flag_document_10: smallint, flag_document_11: smallint, flag_document_12: smallint, flag_document_13: smallint, flag_document_14: smallint, flag_document_15: smallint, flag_document_16: smallint, flag_document_17: smallint, flag_document_18: smallint, flag_document_19: smallint, flag_document_20: smallint, flag_document_21: smallint, amt_req_credit_bureau_hour: smallint, amt_req_credit_bureau_day: smallint, amt_req_credit_bureau_week: smallint, amt_req_credit_bureau_mon: smallint, amt_req_credit_bureau_qrt: int, amt_req_credit_bureau_year: smallint]"
      ]
     },
     "execution_count": 5,
     "metadata": {},
     "output_type": "execute_result"
    }
   ],
   "source": [
    "df = spark.read.option(\"failFast\", \"true\").jdbc(\n",
    "    url=jdbc_url, table=\"application_train\", properties=properties\n",
    ")\n",
    "df"
   ]
  },
  {
   "cell_type": "code",
   "execution_count": 6,
   "id": "231ae4c9",
   "metadata": {},
   "outputs": [
    {
     "name": "stderr",
     "output_type": "stream",
     "text": [
      "25/07/27 00:51:19 WARN SparkStringUtils: Truncated the string representation of a plan since it was too large. This behavior can be adjusted by setting 'spark.sql.debug.maxToStringFields'.\n",
      "[Stage 0:>                                                          (0 + 1) / 1]\r"
     ]
    },
    {
     "name": "stdout",
     "output_type": "stream",
     "text": [
      "+-------------+----------+------+------------------+-----------+------------+---------------+------------+----------------+----------+-----------+---------------+---------------+--------------------+--------------------+--------------------+-----------------+--------------------------+----------+-------------+-----------------+---------------+-----------+----------+--------------+---------------+----------------+----------+----------+---------------+---------------+--------------------+---------------------------+--------------------------+-----------------------+--------------------------+--------------------------+---------------------------+----------------------+----------------------+-----------------------+-----------------+------------+------------+------------+--------------+----------------+---------------------------+---------------+--------------+-------------+-------------+-------------+-------------+------------+--------------------+--------------+-----------------------+-----------------+---------------+-----------------+----------------------------+----------------+---------------+--------------+--------------+--------------+--------------+-------------+---------------------+---------------+------------------------+------------------+---------------+-----------------+----------------------------+----------------+---------------+--------------+--------------+--------------+--------------+-------------+---------------------+---------------+------------------------+------------------+--------------------+--------------+--------------+------------------+-------------------+------------------------+------------------------+------------------------+------------------------+----------------------+---------------+---------------+---------------+---------------+---------------+---------------+---------------+---------------+----------------+----------------+----------------+----------------+----------------+----------------+----------------+----------------+----------------+----------------+----------------+----------------+--------------------------+-------------------------+--------------------------+-------------------------+-------------------------+--------------------------+\n",
      "|main_split_id|sk_id_curr|target|name_contract_type|code_gender|flag_own_car|flag_own_realty|cnt_children|amt_income_total|amt_credit|amt_annuity|amt_goods_price|name_type_suite|    name_income_type| name_education_type|  name_family_status|name_housing_type|region_population_relative|days_birth|days_employed|days_registration|days_id_publish|own_car_age|flag_mobil|flag_emp_phone|flag_work_phone|flag_cont_mobile|flag_phone|flag_email|occupation_type|cnt_fam_members|region_rating_client|region_rating_client_w_city|weekday_appr_process_start|hour_appr_process_start|reg_region_not_live_region|reg_region_not_work_region|live_region_not_work_region|reg_city_not_live_city|reg_city_not_work_city|live_city_not_work_city|organization_type|ext_source_1|ext_source_2|ext_source_3|apartments_avg|basementarea_avg|years_beginexpluatation_avg|years_build_avg|commonarea_avg|elevators_avg|entrances_avg|floorsmax_avg|floorsmin_avg|landarea_avg|livingapartments_avg|livingarea_avg|nonlivingapartments_avg|nonlivingarea_avg|apartments_mode|basementarea_mode|years_beginexpluatation_mode|years_build_mode|commonarea_mode|elevators_mode|entrances_mode|floorsmax_mode|floorsmin_mode|landarea_mode|livingapartments_mode|livingarea_mode|nonlivingapartments_mode|nonlivingarea_mode|apartments_medi|basementarea_medi|years_beginexpluatation_medi|years_build_medi|commonarea_medi|elevators_medi|entrances_medi|floorsmax_medi|floorsmin_medi|landarea_medi|livingapartments_medi|livingarea_medi|nonlivingapartments_medi|nonlivingarea_medi|  fondkapremont_mode|housetype_mode|totalarea_mode|wallsmaterial_mode|emergencystate_mode|obs_30_cnt_social_circle|def_30_cnt_social_circle|obs_60_cnt_social_circle|def_60_cnt_social_circle|days_last_phone_change|flag_document_2|flag_document_3|flag_document_4|flag_document_5|flag_document_6|flag_document_7|flag_document_8|flag_document_9|flag_document_10|flag_document_11|flag_document_12|flag_document_13|flag_document_14|flag_document_15|flag_document_16|flag_document_17|flag_document_18|flag_document_19|flag_document_20|flag_document_21|amt_req_credit_bureau_hour|amt_req_credit_bureau_day|amt_req_credit_bureau_week|amt_req_credit_bureau_mon|amt_req_credit_bureau_qrt|amt_req_credit_bureau_year|\n",
      "+-------------+----------+------+------------------+-----------+------------+---------------+------------+----------------+----------+-----------+---------------+---------------+--------------------+--------------------+--------------------+-----------------+--------------------------+----------+-------------+-----------------+---------------+-----------+----------+--------------+---------------+----------------+----------+----------+---------------+---------------+--------------------+---------------------------+--------------------------+-----------------------+--------------------------+--------------------------+---------------------------+----------------------+----------------------+-----------------------+-----------------+------------+------------+------------+--------------+----------------+---------------------------+---------------+--------------+-------------+-------------+-------------+-------------+------------+--------------------+--------------+-----------------------+-----------------+---------------+-----------------+----------------------------+----------------+---------------+--------------+--------------+--------------+--------------+-------------+---------------------+---------------+------------------------+------------------+---------------+-----------------+----------------------------+----------------+---------------+--------------+--------------+--------------+--------------+-------------+---------------------+---------------+------------------------+------------------+--------------------+--------------+--------------+------------------+-------------------+------------------------+------------------------+------------------------+------------------------+----------------------+---------------+---------------+---------------+---------------+---------------+---------------+---------------+---------------+----------------+----------------+----------------+----------------+----------------+----------------+----------------+----------------+----------------+----------------+----------------+----------------+--------------------------+-------------------------+--------------------------+-------------------------+-------------------------+--------------------------+\n",
      "|           12|    456078|     0|        Cash loans|          F|           N|              Y|           0|        112500.0|  390960.0|    21339.0|       337500.0|  Unaccompanied|             Working|Secondary / secon...|Single / not married|House / apartment|                  0.035792|     -8573|         -322|          -1822.0|          -1196|       NULL|         1|             1|              1|               1|         0|         0|           NULL|              1|                   2|                          2|                    SUNDAY|                     10|                         0|                         0|                          0|                     0|                     0|                      0|    Self-employed|        NULL|  0.26947117|        NULL|          NULL|            NULL|                       NULL|           NULL|          NULL|         NULL|         NULL|         NULL|         NULL|        NULL|                NULL|          NULL|                   NULL|             NULL|           NULL|             NULL|                        NULL|            NULL|           NULL|          NULL|          NULL|          NULL|          NULL|         NULL|                 NULL|           NULL|                    NULL|              NULL|           NULL|             NULL|                        NULL|            NULL|           NULL|          NULL|          NULL|          NULL|          NULL|         NULL|                 NULL|           NULL|                    NULL|              NULL|                NULL|          NULL|          NULL|              NULL|               NULL|                       1|                       0|                       1|                       0|                     0|              0|              1|              0|              0|              0|              0|              0|              0|               0|               0|               0|               0|               0|               0|               0|               0|               0|               0|               0|               0|                      NULL|                     NULL|                      NULL|                     NULL|                     NULL|                      NULL|\n",
      "|           12|    456079|     0|        Cash loans|          F|           N|              N|           0|        148500.0|  157050.0|     6781.5|       112500.0|         Family|             Working|    Higher education|             Married|House / apartment|                  0.030755|    -21569|        -1091|          -9519.0|          -4776|       NULL|         1|             1|              0|               1|         0|         0|       Managers|              2|                   2|                          2|                 WEDNESDAY|                     15|                         0|                         0|                          0|                     0|                     0|                      0|           School|   0.5729892|  0.71241915|   0.5797274|          NULL|            NULL|                       NULL|           NULL|          NULL|         NULL|         NULL|         NULL|         NULL|        NULL|                NULL|          NULL|                   NULL|             NULL|           NULL|             NULL|                        NULL|            NULL|           NULL|          NULL|          NULL|          NULL|          NULL|         NULL|                 NULL|           NULL|                    NULL|              NULL|           NULL|             NULL|                        NULL|            NULL|           NULL|          NULL|          NULL|          NULL|          NULL|         NULL|                 NULL|           NULL|                    NULL|              NULL|                NULL|          NULL|          NULL|              NULL|               NULL|                       1|                       0|                       1|                       0|                  -242|              0|              1|              0|              0|              0|              0|              0|              0|               0|               0|               0|               0|               0|               0|               0|               0|               0|               0|               0|               0|                         0|                        0|                         0|                        0|                        0|                         6|\n",
      "|           12|    456080|     0|        Cash loans|          F|           N|              Y|           0|        121500.0|  448056.0|    17019.0|       315000.0|  Unaccompanied|             Working|Secondary / secon...|             Married|House / apartment|                  0.019689|    -18248|        -1084|          -8244.0|          -1765|       NULL|         1|             1|              0|               1|         0|         0|  Cooking staff|              2|                   2|                          2|                 WEDNESDAY|                     15|                         0|                         0|                          0|                     0|                     0|                      0|    Self-employed|        NULL|  0.75691754|  0.26786894|        0.0619|             0.0|                     0.9742|         0.6464|        0.0062|          0.0|       0.1034|       0.1667|       0.2083|      0.0426|              0.0504|        0.0498|                    0.0|              0.0|          0.063|              0.0|                      0.9742|          0.6602|         0.0063|           0.0|        0.1034|        0.1667|        0.2083|       0.0436|               0.0551|         0.0519|                     0.0|               0.0|         0.0625|              0.0|                      0.9742|          0.6511|         0.0063|           0.0|        0.1034|        0.1667|        0.2083|       0.0433|               0.0513|         0.0507|                     0.0|               0.0|    reg oper account|block of flats|        0.0426|      Stone, brick|                 No|                       1|                       0|                       1|                       0|                  -183|              0|              1|              0|              0|              0|              0|              0|              0|               0|               0|               0|               0|               0|               0|               0|               0|               0|               0|               0|               0|                         0|                        0|                         0|                        2|                        0|                         0|\n",
      "|           12|    456081|     0|        Cash loans|          M|           Y|              Y|           0|         72000.0|  547344.0|    19791.0|       472500.0|  Unaccompanied|             Working|Secondary / secon...|             Married|House / apartment|                    0.0228|    -15265|        -2507|          -7889.0|          -3945|         11|         1|             1|              1|               1|         1|         0|        Drivers|              2|                   2|                          2|                    FRIDAY|                     12|                         0|                         0|                          0|                     0|                     0|                      0|    Self-employed|  0.51145685|  0.60757226|   0.6058363|          NULL|            NULL|                       NULL|           NULL|          NULL|         NULL|         NULL|         NULL|         NULL|        NULL|                NULL|          NULL|                   NULL|             NULL|           NULL|             NULL|                        NULL|            NULL|           NULL|          NULL|          NULL|          NULL|          NULL|         NULL|                 NULL|           NULL|                    NULL|              NULL|           NULL|             NULL|                        NULL|            NULL|           NULL|          NULL|          NULL|          NULL|          NULL|         NULL|                 NULL|           NULL|                    NULL|              NULL|                NULL|          NULL|          NULL|              NULL|               NULL|                       0|                       0|                       0|                       0|                     0|              0|              0|              0|              0|              0|              0|              1|              0|               0|               0|               0|               0|               0|               0|               0|               0|               0|               0|               0|               0|                         0|                        0|                         0|                        0|                        0|                         1|\n",
      "|           12|    456082|     0|        Cash loans|          M|           Y|              N|           0|        157500.0| 1078200.0|    28570.5|       900000.0|  Unaccompanied|       State servant|    Higher education|Single / not married|House / apartment|                   0.00702|    -11180|        -1654|           -528.0|          -3770|         12|         1|             1|              0|               1|         1|         0|       Managers|              1|                   2|                          2|                  THURSDAY|                     13|                         0|                         0|                          0|                     0|                     0|                      0|          Housing|  0.25592065|  0.57069314|  0.21035023|        0.1021|          0.1078|                     0.9975|         0.9524|          NULL|         0.18|       0.1552|       0.3333|         NULL|      0.0158|              0.0908|        0.1193|                 0.0039|           0.0283|         0.0945|           0.0963|                       0.997|          0.9543|           NULL|        0.1611|        0.1379|        0.3333|          NULL|       0.0159|               0.0992|         0.1199|                  0.0039|               0.0|         0.1031|           0.1078|                      0.9975|           0.953|           NULL|          0.18|        0.1552|        0.3333|          NULL|       0.0161|               0.0923|         0.1215|                  0.0039|            0.0289|reg oper spec acc...|block of flats|        0.1083|             Panel|                 No|                       0|                       0|                       0|                       0|                    -5|              0|              1|              0|              0|              0|              0|              0|              0|               0|               0|               0|               0|               0|               0|               0|               0|               1|               0|               0|               0|                         0|                        0|                         0|                        0|                        0|                         0|\n",
      "|           12|    456083|     0|        Cash loans|          F|           Y|              Y|           2|        112500.0|  361462.5|    16051.5|       274500.0|  Unaccompanied|Commercial associate|Secondary / secon...|             Married|House / apartment|                  0.025164|    -15006|        -1105|          -1806.0|          -2465|          9|         1|             1|              0|               1|         0|         0| Security staff|              4|                   2|                          2|                 WEDNESDAY|                      9|                         0|                         0|                          0|                     0|                     1|                      1|       Government|   0.6531153|  0.41833735|  0.75839305|        0.0639|          0.0728|                      0.997|         0.9524|        0.2022|          0.0|       0.1552|       0.1667|       0.0417|       0.141|              0.0714|        0.0691|                    0.0|           0.0468|          0.041|           0.0626|                      0.9965|          0.9543|         0.2041|           0.0|        0.1034|        0.1667|        0.0417|       0.0678|               0.0781|         0.0518|                     0.0|               0.0|         0.0645|           0.0728|                       0.997|           0.953|         0.2035|           0.0|        0.1552|        0.1667|        0.0417|       0.1435|               0.0727|         0.0704|                     0.0|            0.0478|    reg oper account|block of flats|        0.0594|      Stone, brick|                 No|                       0|                       0|                       0|                       0|                 -1907|              0|              1|              0|              0|              0|              0|              0|              0|               0|               0|               0|               0|               0|               0|               0|               0|               0|               0|               0|               0|                         0|                        0|                         0|                        2|                        0|                         0|\n",
      "|           12|    456084|     0|        Cash loans|          F|           Y|              Y|           1|         99000.0|  675000.0|    21906.0|       675000.0|         Family|             Working|Secondary / secon...|           Separated|House / apartment|                  0.020246|    -14007|        -2021|          -2395.0|          -1177|         14|         1|             1|              0|               1|         0|         0| Security staff|              2|                   3|                          3|                    FRIDAY|                      9|                         0|                         0|                          0|                     0|                     0|                      0|         Security|   0.3830956|   0.6129293|   0.4758499|        0.3969|          0.1126|                     0.9851|          0.796|        0.0447|         0.08|        0.069|       0.3333|          0.0|      0.1426|              0.3228|        0.1522|                 0.0039|           0.0012|         0.4044|           0.1169|                      0.9851|           0.804|         0.0451|        0.0806|         0.069|        0.3333|           0.0|       0.1458|               0.3526|         0.1585|                  0.0039|            0.0013|         0.4008|           0.1126|                      0.9851|          0.7987|          0.045|          0.08|         0.069|        0.3333|           0.0|        0.145|               0.3284|         0.1549|                  0.0039|            0.0012|    reg oper account|block of flats|        0.1444|             Panel|                 No|                       1|                       0|                       1|                       0|                 -1789|              0|              1|              0|              0|              0|              0|              0|              0|               0|               0|               0|               0|               0|               0|               0|               0|               0|               0|               0|               0|                         0|                        0|                         0|                        0|                        0|                         0|\n",
      "|           12|    456085|     0|        Cash loans|          F|           Y|              Y|           0|        135000.0|  218016.0|    15993.0|       180000.0|  Unaccompanied|             Working|Secondary / secon...|             Married|House / apartment|                  0.010966|    -17115|         -329|          -7259.0|           -660|         11|         1|             1|              0|               1|         0|         0|    Sales staff|              2|                   2|                          2|                  THURSDAY|                      8|                         0|                         0|                          0|                     0|                     0|                      0|    Self-employed|        NULL|  0.22932747|        NULL|          NULL|            NULL|                       NULL|           NULL|          NULL|         NULL|         NULL|         NULL|         NULL|        NULL|                NULL|          NULL|                   NULL|             NULL|           NULL|             NULL|                        NULL|            NULL|           NULL|          NULL|          NULL|          NULL|          NULL|         NULL|                 NULL|           NULL|                    NULL|              NULL|           NULL|             NULL|                        NULL|            NULL|           NULL|          NULL|          NULL|          NULL|          NULL|         NULL|                 NULL|           NULL|                    NULL|              NULL|                NULL|          NULL|          NULL|              NULL|               NULL|                       1|                       0|                       1|                       0|                  -134|              0|              1|              0|              0|              0|              0|              0|              0|               0|               0|               0|               0|               0|               0|               0|               0|               0|               0|               0|               0|                      NULL|                     NULL|                      NULL|                     NULL|                     NULL|                      NULL|\n",
      "|           12|    456086|     0|        Cash loans|          F|           Y|              Y|           0|         92250.0|  253737.0|    16956.0|       229500.0|  Unaccompanied|           Pensioner|Secondary / secon...|             Married|House / apartment|                  0.028663|    -20822|       365243|          -4251.0|          -4263|         23|         1|             0|              0|               1|         1|         0|           NULL|              2|                   2|                          2|                 WEDNESDAY|                      9|                         0|                         0|                          0|                     0|                     0|                      0|              XNA|   0.7483473|  0.60920817|        NULL|          NULL|            NULL|                       NULL|           NULL|          NULL|         NULL|         NULL|         NULL|         NULL|        NULL|                NULL|          NULL|                   NULL|             NULL|           NULL|             NULL|                        NULL|            NULL|           NULL|          NULL|          NULL|          NULL|          NULL|         NULL|                 NULL|           NULL|                    NULL|              NULL|           NULL|             NULL|                        NULL|            NULL|           NULL|          NULL|          NULL|          NULL|          NULL|         NULL|                 NULL|           NULL|                    NULL|              NULL|                NULL|          NULL|          NULL|              NULL|               NULL|                       0|                       0|                       0|                       0|                     0|              0|              1|              0|              0|              0|              0|              0|              0|               0|               0|               0|               0|               0|               0|               0|               0|               0|               0|               0|               0|                      NULL|                     NULL|                      NULL|                     NULL|                     NULL|                      NULL|\n",
      "|           12|    456087|     0|        Cash loans|          F|           N|              Y|           0|        180000.0|  270000.0|    12717.0|       270000.0|  Unaccompanied|Commercial associate|Secondary / secon...|             Married|House / apartment|                  0.026392|    -11490|         -883|          -5623.0|           -805|       NULL|         1|             1|              0|               1|         0|         0|           NULL|              2|                   2|                          2|                    FRIDAY|                     16|                         0|                         0|                          0|                     0|                     0|                      0|            Other|        NULL|   0.7045155|  0.37064964|          NULL|            NULL|                       NULL|           NULL|          NULL|         NULL|         NULL|         NULL|         NULL|        NULL|                NULL|          NULL|                   NULL|             NULL|           NULL|             NULL|                        NULL|            NULL|           NULL|          NULL|          NULL|          NULL|          NULL|         NULL|                 NULL|           NULL|                    NULL|              NULL|           NULL|             NULL|                        NULL|            NULL|           NULL|          NULL|          NULL|          NULL|          NULL|         NULL|                 NULL|           NULL|                    NULL|              NULL|                NULL|          NULL|          NULL|              NULL|               NULL|                       1|                       1|                       1|                       1|                  -947|              0|              1|              0|              0|              0|              0|              0|              0|               0|               0|               0|               0|               0|               0|               0|               0|               0|               0|               0|               0|                         0|                        0|                         0|                        0|                        0|                         4|\n",
      "+-------------+----------+------+------------------+-----------+------------+---------------+------------+----------------+----------+-----------+---------------+---------------+--------------------+--------------------+--------------------+-----------------+--------------------------+----------+-------------+-----------------+---------------+-----------+----------+--------------+---------------+----------------+----------+----------+---------------+---------------+--------------------+---------------------------+--------------------------+-----------------------+--------------------------+--------------------------+---------------------------+----------------------+----------------------+-----------------------+-----------------+------------+------------+------------+--------------+----------------+---------------------------+---------------+--------------+-------------+-------------+-------------+-------------+------------+--------------------+--------------+-----------------------+-----------------+---------------+-----------------+----------------------------+----------------+---------------+--------------+--------------+--------------+--------------+-------------+---------------------+---------------+------------------------+------------------+---------------+-----------------+----------------------------+----------------+---------------+--------------+--------------+--------------+--------------+-------------+---------------------+---------------+------------------------+------------------+--------------------+--------------+--------------+------------------+-------------------+------------------------+------------------------+------------------------+------------------------+----------------------+---------------+---------------+---------------+---------------+---------------+---------------+---------------+---------------+----------------+----------------+----------------+----------------+----------------+----------------+----------------+----------------+----------------+----------------+----------------+----------------+--------------------------+-------------------------+--------------------------+-------------------------+-------------------------+--------------------------+\n",
      "only showing top 10 rows\n"
     ]
    },
    {
     "name": "stderr",
     "output_type": "stream",
     "text": [
      "                                                                                \r"
     ]
    }
   ],
   "source": [
    "df.show(10)"
   ]
  },
  {
   "cell_type": "code",
   "execution_count": null,
   "id": "afb2ec15",
   "metadata": {},
   "outputs": [],
   "source": []
  },
  {
   "cell_type": "code",
   "execution_count": 7,
   "id": "1387e36b",
   "metadata": {},
   "outputs": [],
   "source": [
    "def add_credit_features(df: DataFrame) -> DataFrame:\n",
    "    \"\"\"\n",
    "    Takes a PySpark DataFrame with one row per SK_ID_CURR and returns the same DataFrame\n",
    "    with additional credit-risk features (from both previous feature lists). Handles nulls\n",
    "    and edge cases (zero denominators) by returning NULL where division by zero or missing\n",
    "    would occur.\n",
    "    \"\"\"\n",
    "    # Basic ratios and normalized variables\n",
    "    df = (\n",
    "        df.withColumn(\n",
    "            \"DEBT_INCOME_RATIO\",\n",
    "            F.when(\n",
    "                (F.col(\"AMT_INCOME_TOTAL\").isNotNull())\n",
    "                & (F.col(\"AMT_INCOME_TOTAL\") > 0),\n",
    "                F.col(\"AMT_CREDIT\") / F.col(\"AMT_INCOME_TOTAL\"),\n",
    "            ).otherwise(F.lit(-1.0)),\n",
    "        )\n",
    "        .withColumn(\n",
    "            \"ANNUITY_INCOME_RATIO\",\n",
    "            F.when(\n",
    "                (F.col(\"AMT_INCOME_TOTAL\").isNotNull())\n",
    "                & (F.col(\"AMT_INCOME_TOTAL\") > 0),\n",
    "                F.col(\"AMT_ANNUITY\") / F.col(\"AMT_INCOME_TOTAL\"),\n",
    "            ).otherwise(F.lit(-1.0)),\n",
    "        )\n",
    "        .withColumn(\n",
    "            \"CREDIT_GOODS_RATIO\",\n",
    "            F.when(\n",
    "                (F.col(\"AMT_GOODS_PRICE\").isNotNull()) & (F.col(\"AMT_GOODS_PRICE\") > 0),\n",
    "                F.col(\"AMT_CREDIT\") / F.col(\"AMT_GOODS_PRICE\"),\n",
    "            ).otherwise(F.lit(-1.0)),\n",
    "        )\n",
    "        .withColumn(\n",
    "            \"INCOME_PER_FAMILY_MEMBER\",\n",
    "            F.when(\n",
    "                (F.col(\"CNT_FAM_MEMBERS\").isNotNull()) & (F.col(\"CNT_FAM_MEMBERS\") > 0),\n",
    "                F.col(\"AMT_INCOME_TOTAL\") / F.col(\"CNT_FAM_MEMBERS\"),\n",
    "            ).otherwise(F.lit(-1.0)),\n",
    "        )\n",
    "    )\n",
    "\n",
    "    # Contactability & documentation\n",
    "    df = (\n",
    "        df.withColumn(\n",
    "            \"PHONE_AVAILABILITY\",\n",
    "            (\n",
    "                F.coalesce(F.col(\"FLAG_MOBIL\"), F.lit(0)).cast(\"int\")\n",
    "                + F.coalesce(F.col(\"FLAG_EMP_PHONE\"), F.lit(0)).cast(\"int\")\n",
    "                + F.coalesce(F.col(\"FLAG_PHONE\"), F.lit(0)).cast(\"int\")\n",
    "            ),\n",
    "        )\n",
    "        .withColumn(\n",
    "            \"MOBILE_REACHABLE\",\n",
    "            F.coalesce(F.col(\"FLAG_CONT_MOBILE\"), F.lit(0)).cast(\"int\"),\n",
    "        )\n",
    "        .withColumn(\n",
    "            \"DOCS_PROVIDED\",\n",
    "            reduce(\n",
    "                lambda acc, c: acc + F.coalesce(F.col(c), F.lit(0)).cast(\"int\"),\n",
    "                [\n",
    "                    \"flag_document_2\",\n",
    "                    \"flag_document_3\",\n",
    "                    \"flag_document_4\",\n",
    "                    \"flag_document_5\",\n",
    "                    \"flag_document_6\",\n",
    "                    \"flag_document_7\",\n",
    "                    \"flag_document_8\",\n",
    "                    \"flag_document_9\",\n",
    "                    \"flag_document_10\",\n",
    "                    \"flag_document_11\",\n",
    "                    \"flag_document_12\",\n",
    "                    \"flag_document_13\",\n",
    "                    \"flag_document_14\",\n",
    "                    \"flag_document_15\",\n",
    "                    \"flag_document_16\",\n",
    "                    \"flag_document_17\",\n",
    "                    \"flag_document_18\",\n",
    "                    \"flag_document_19\",\n",
    "                    \"flag_document_20\",\n",
    "                    \"flag_document_21\",\n",
    "                ],\n",
    "                F.lit(0),\n",
    "            ),\n",
    "        )\n",
    "    )\n",
    "\n",
    "    # Address mismatch\n",
    "    df = df.withColumn(\n",
    "        \"ADDRESS_MISMATCH_COUNT\",\n",
    "        (\n",
    "            F.coalesce(F.col(\"REG_REGION_NOT_LIVE_REGION\"), F.lit(0)).cast(\"int\")\n",
    "            + F.coalesce(F.col(\"REG_REGION_NOT_WORK_REGION\"), F.lit(0)).cast(\"int\")\n",
    "            + F.coalesce(F.col(\"LIVE_REGION_NOT_WORK_REGION\"), F.lit(0)).cast(\"int\")\n",
    "            + F.coalesce(F.col(\"REG_CITY_NOT_LIVE_CITY\"), F.lit(0)).cast(\"int\")\n",
    "            + F.coalesce(F.col(\"REG_CITY_NOT_WORK_CITY\"), F.lit(0)).cast(\"int\")\n",
    "            + F.coalesce(F.col(\"LIVE_CITY_NOT_WORK_CITY\"), F.lit(0)).cast(\"int\")\n",
    "        ),\n",
    "    )\n",
    "\n",
    "    # Region rating difference\n",
    "    df = df.withColumn(\n",
    "        \"REGION_RATING_DIFF\",\n",
    "        F.when(\n",
    "            (F.col(\"REGION_RATING_CLIENT_W_CITY\").isNotNull())\n",
    "            & (F.col(\"REGION_RATING_CLIENT\").isNotNull()),\n",
    "            F.col(\"REGION_RATING_CLIENT_W_CITY\") - F.col(\"REGION_RATING_CLIENT\"),\n",
    "        ).otherwise(F.lit(-1.0)),\n",
    "    )\n",
    "\n",
    "    # Ownership & external scores\n",
    "    df = (\n",
    "        df.withColumn(\n",
    "            \"FLAG_OWN_CAR\",\n",
    "            F.when(F.col(\"FLAG_OWN_CAR\") == \"Y\", 1)\n",
    "            .when(F.col(\"FLAG_OWN_CAR\") == \"N\", 0)\n",
    "            .otherwise(-1.0),\n",
    "        )\n",
    "        .withColumn(\n",
    "            \"FLAG_OWN_REALTY\",\n",
    "            F.when(F.col(\"FLAG_OWN_REALTY\") == \"Y\", 1)\n",
    "            .when(F.col(\"FLAG_OWN_REALTY\") == \"N\", 0)\n",
    "            .otherwise(-1.0),\n",
    "        )\n",
    "        .withColumn(\n",
    "            \"EXT_SOURCE_COUNT\",\n",
    "            F.when(\n",
    "                F.col(\"EXT_SOURCE_1\").isNotNull()\n",
    "                | F.col(\"EXT_SOURCE_2\").isNotNull()\n",
    "                | F.col(\"EXT_SOURCE_3\").isNotNull(),\n",
    "                F.coalesce(F.col(\"EXT_SOURCE_1\"), F.lit(0))\n",
    "                + F.coalesce(F.col(\"EXT_SOURCE_2\"), F.lit(0))\n",
    "                + F.coalesce(F.col(\"EXT_SOURCE_3\"), F.lit(0)),\n",
    "            ).otherwise(F.lit(-1.0)),\n",
    "        )\n",
    "    )\n",
    "\n",
    "    # Social default rates\n",
    "    df = df.withColumn(\n",
    "        \"SOCIAL_DEFAULT_RATE_30\",\n",
    "        F.when(\n",
    "            (F.col(\"OBS_30_CNT_SOCIAL_CIRCLE\").isNotNull())\n",
    "            & (F.col(\"OBS_30_CNT_SOCIAL_CIRCLE\") > 0),\n",
    "            F.col(\"DEF_30_CNT_SOCIAL_CIRCLE\") / F.col(\"OBS_30_CNT_SOCIAL_CIRCLE\"),\n",
    "        ).otherwise(F.lit(-1.0)),\n",
    "    ).withColumn(\n",
    "        \"SOCIAL_DEFAULT_RATE_60\",\n",
    "        F.when(\n",
    "            (F.col(\"OBS_60_CNT_SOCIAL_CIRCLE\").isNotNull())\n",
    "            & (F.col(\"OBS_60_CNT_SOCIAL_CIRCLE\") > 0),\n",
    "            F.col(\"DEF_60_CNT_SOCIAL_CIRCLE\") / F.col(\"OBS_60_CNT_SOCIAL_CIRCLE\"),\n",
    "        ).otherwise(F.lit(-1.0)),\n",
    "    )\n",
    "\n",
    "    # Employment-to-age and car-related ratios\n",
    "    df = df.withColumn(\n",
    "        \"EMPLOYMENT_AGE_RATIO\",\n",
    "        F.when(\n",
    "            (F.col(\"DAYS_EMPLOYED\").isNotNull())\n",
    "            & (F.col(\"DAYS_BIRTH\").isNotNull())\n",
    "            & (F.col(\"DAYS_BIRTH\") < 0)\n",
    "            & (F.col(\"DAYS_EMPLOYED\") < 0),\n",
    "            (-F.col(\"DAYS_EMPLOYED\")) / (-F.col(\"DAYS_BIRTH\")),\n",
    "        ).otherwise(F.lit(-1.0)),\n",
    "    )\n",
    "\n",
    "    # Precompute common subexpressions: EXT_MEAN, DTI, AGE_YRS, EMP_YRS, BUREAU_TOTAL\n",
    "    df = df.withColumn(\n",
    "        \"AGE_YRS_TMP\",\n",
    "        F.when(\n",
    "            F.col(\"DAYS_BIRTH\").isNotNull(), -F.col(\"DAYS_BIRTH\") / F.lit(365.2425)\n",
    "        ).otherwise(F.lit(-1.0)),\n",
    "    ).withColumn(\n",
    "        \"EMP_YRS_TMP\",\n",
    "        F.when(\n",
    "            F.col(\"DAYS_EMPLOYED\").isNotNull() & (F.col(\"DAYS_EMPLOYED\") < 0),\n",
    "            -F.col(\"DAYS_EMPLOYED\") / F.lit(365.2425),\n",
    "        ).otherwise(F.lit(-1.0)),\n",
    "    )\n",
    "\n",
    "    # Income-Annuity Buffer Ratio\n",
    "    df = df.withColumn(\n",
    "        \"INCOME_ANNUITY_BUFFER\",\n",
    "        F.when(\n",
    "            (F.col(\"AMT_ANNUITY\").isNotNull()) & (F.col(\"AMT_ANNUITY\") > 0),\n",
    "            (F.col(\"AMT_INCOME_TOTAL\") - F.col(\"AMT_ANNUITY\")) / F.col(\"AMT_ANNUITY\"),\n",
    "        ).otherwise(F.lit(-1.0)),\n",
    "    )\n",
    "\n",
    "    # Employment-Age Gap\n",
    "    df = df.withColumn(\n",
    "        \"EMPLOYMENT_AGE_GAP\",\n",
    "        F.when(\n",
    "            (F.col(\"EMP_YRS_TMP\").isNotNull())\n",
    "            & (F.col(\"AGE_YRS_TMP\").isNotNull())\n",
    "            & (F.col(\"AGE_YRS_TMP\") > 0),\n",
    "            F.lit(1.0) - (F.col(\"EMP_YRS_TMP\") / F.col(\"AGE_YRS_TMP\")),\n",
    "        ).otherwise(F.lit(-1.0)),\n",
    "    )\n",
    "\n",
    "    # Clean up any intermediate TMP columns\n",
    "    df = df.drop(\n",
    "        \"AGE_YRS_TMP\",\n",
    "        \"EMP_YRS_TMP\",\n",
    "    )\n",
    "\n",
    "    return df"
   ]
  },
  {
   "cell_type": "code",
   "execution_count": 8,
   "id": "118a1e48",
   "metadata": {},
   "outputs": [
    {
     "name": "stderr",
     "output_type": "stream",
     "text": [
      "[Stage 1:>                                                          (0 + 1) / 1]\r"
     ]
    },
    {
     "name": "stdout",
     "output_type": "stream",
     "text": [
      "+-------------+----------+------+------------------+-----------+------------+---------------+------------+----------------+----------+-----------+---------------+---------------+----------------+--------------------+--------------------+-----------------+--------------------------+----------+-------------+-----------------+---------------+-----------+----------+--------------+---------------+----------------+----------+----------+---------------+---------------+--------------------+---------------------------+--------------------------+-----------------------+--------------------------+--------------------------+---------------------------+----------------------+----------------------+-----------------------+-----------------+------------+------------+------------+--------------+----------------+---------------------------+---------------+--------------+-------------+-------------+-------------+-------------+------------+--------------------+--------------+-----------------------+-----------------+---------------+-----------------+----------------------------+----------------+---------------+--------------+--------------+--------------+--------------+-------------+---------------------+---------------+------------------------+------------------+---------------+-----------------+----------------------------+----------------+---------------+--------------+--------------+--------------+--------------+-------------+---------------------+---------------+------------------------+------------------+--------------------+--------------+--------------+------------------+-------------------+------------------------+------------------------+------------------------+------------------------+----------------------+---------------+---------------+---------------+---------------+---------------+---------------+---------------+---------------+----------------+----------------+----------------+----------------+----------------+----------------+----------------+----------------+----------------+----------------+----------------+----------------+--------------------------+-------------------------+--------------------------+-------------------------+-------------------------+--------------------------+\n",
      "|main_split_id|sk_id_curr|target|name_contract_type|code_gender|flag_own_car|flag_own_realty|cnt_children|amt_income_total|amt_credit|amt_annuity|amt_goods_price|name_type_suite|name_income_type| name_education_type|  name_family_status|name_housing_type|region_population_relative|days_birth|days_employed|days_registration|days_id_publish|own_car_age|flag_mobil|flag_emp_phone|flag_work_phone|flag_cont_mobile|flag_phone|flag_email|occupation_type|cnt_fam_members|region_rating_client|region_rating_client_w_city|weekday_appr_process_start|hour_appr_process_start|reg_region_not_live_region|reg_region_not_work_region|live_region_not_work_region|reg_city_not_live_city|reg_city_not_work_city|live_city_not_work_city|organization_type|ext_source_1|ext_source_2|ext_source_3|apartments_avg|basementarea_avg|years_beginexpluatation_avg|years_build_avg|commonarea_avg|elevators_avg|entrances_avg|floorsmax_avg|floorsmin_avg|landarea_avg|livingapartments_avg|livingarea_avg|nonlivingapartments_avg|nonlivingarea_avg|apartments_mode|basementarea_mode|years_beginexpluatation_mode|years_build_mode|commonarea_mode|elevators_mode|entrances_mode|floorsmax_mode|floorsmin_mode|landarea_mode|livingapartments_mode|livingarea_mode|nonlivingapartments_mode|nonlivingarea_mode|apartments_medi|basementarea_medi|years_beginexpluatation_medi|years_build_medi|commonarea_medi|elevators_medi|entrances_medi|floorsmax_medi|floorsmin_medi|landarea_medi|livingapartments_medi|livingarea_medi|nonlivingapartments_medi|nonlivingarea_medi|  fondkapremont_mode|housetype_mode|totalarea_mode|wallsmaterial_mode|emergencystate_mode|obs_30_cnt_social_circle|def_30_cnt_social_circle|obs_60_cnt_social_circle|def_60_cnt_social_circle|days_last_phone_change|flag_document_2|flag_document_3|flag_document_4|flag_document_5|flag_document_6|flag_document_7|flag_document_8|flag_document_9|flag_document_10|flag_document_11|flag_document_12|flag_document_13|flag_document_14|flag_document_15|flag_document_16|flag_document_17|flag_document_18|flag_document_19|flag_document_20|flag_document_21|amt_req_credit_bureau_hour|amt_req_credit_bureau_day|amt_req_credit_bureau_week|amt_req_credit_bureau_mon|amt_req_credit_bureau_qrt|amt_req_credit_bureau_year|\n",
      "+-------------+----------+------+------------------+-----------+------------+---------------+------------+----------------+----------+-----------+---------------+---------------+----------------+--------------------+--------------------+-----------------+--------------------------+----------+-------------+-----------------+---------------+-----------+----------+--------------+---------------+----------------+----------+----------+---------------+---------------+--------------------+---------------------------+--------------------------+-----------------------+--------------------------+--------------------------+---------------------------+----------------------+----------------------+-----------------------+-----------------+------------+------------+------------+--------------+----------------+---------------------------+---------------+--------------+-------------+-------------+-------------+-------------+------------+--------------------+--------------+-----------------------+-----------------+---------------+-----------------+----------------------------+----------------+---------------+--------------+--------------+--------------+--------------+-------------+---------------------+---------------+------------------------+------------------+---------------+-----------------+----------------------------+----------------+---------------+--------------+--------------+--------------+--------------+-------------+---------------------+---------------+------------------------+------------------+--------------------+--------------+--------------+------------------+-------------------+------------------------+------------------------+------------------------+------------------------+----------------------+---------------+---------------+---------------+---------------+---------------+---------------+---------------+---------------+----------------+----------------+----------------+----------------+----------------+----------------+----------------+----------------+----------------+----------------+----------------+----------------+--------------------------+-------------------------+--------------------------+-------------------------+-------------------------+--------------------------+\n",
      "|           12|    456078|     0|        Cash loans|          F|           N|              Y|           0|        112500.0|  390960.0|    21339.0|       337500.0|  Unaccompanied|         Working|Secondary / secon...|Single / not married|House / apartment|                  0.035792|     -8573|         -322|          -1822.0|          -1196|       NULL|         1|             1|              1|               1|         0|         0|           NULL|              1|                   2|                          2|                    SUNDAY|                     10|                         0|                         0|                          0|                     0|                     0|                      0|    Self-employed|        NULL|  0.26947117|        NULL|          NULL|            NULL|                       NULL|           NULL|          NULL|         NULL|         NULL|         NULL|         NULL|        NULL|                NULL|          NULL|                   NULL|             NULL|           NULL|             NULL|                        NULL|            NULL|           NULL|          NULL|          NULL|          NULL|          NULL|         NULL|                 NULL|           NULL|                    NULL|              NULL|           NULL|             NULL|                        NULL|            NULL|           NULL|          NULL|          NULL|          NULL|          NULL|         NULL|                 NULL|           NULL|                    NULL|              NULL|                NULL|          NULL|          NULL|              NULL|               NULL|                       1|                       0|                       1|                       0|                     0|              0|              1|              0|              0|              0|              0|              0|              0|               0|               0|               0|               0|               0|               0|               0|               0|               0|               0|               0|               0|                      NULL|                     NULL|                      NULL|                     NULL|                     NULL|                      NULL|\n",
      "|           12|    456079|     0|        Cash loans|          F|           N|              N|           0|        148500.0|  157050.0|     6781.5|       112500.0|         Family|         Working|    Higher education|             Married|House / apartment|                  0.030755|    -21569|        -1091|          -9519.0|          -4776|       NULL|         1|             1|              0|               1|         0|         0|       Managers|              2|                   2|                          2|                 WEDNESDAY|                     15|                         0|                         0|                          0|                     0|                     0|                      0|           School|   0.5729892|  0.71241915|   0.5797274|          NULL|            NULL|                       NULL|           NULL|          NULL|         NULL|         NULL|         NULL|         NULL|        NULL|                NULL|          NULL|                   NULL|             NULL|           NULL|             NULL|                        NULL|            NULL|           NULL|          NULL|          NULL|          NULL|          NULL|         NULL|                 NULL|           NULL|                    NULL|              NULL|           NULL|             NULL|                        NULL|            NULL|           NULL|          NULL|          NULL|          NULL|          NULL|         NULL|                 NULL|           NULL|                    NULL|              NULL|                NULL|          NULL|          NULL|              NULL|               NULL|                       1|                       0|                       1|                       0|                  -242|              0|              1|              0|              0|              0|              0|              0|              0|               0|               0|               0|               0|               0|               0|               0|               0|               0|               0|               0|               0|                         0|                        0|                         0|                        0|                        0|                         6|\n",
      "|           12|    456080|     0|        Cash loans|          F|           N|              Y|           0|        121500.0|  448056.0|    17019.0|       315000.0|  Unaccompanied|         Working|Secondary / secon...|             Married|House / apartment|                  0.019689|    -18248|        -1084|          -8244.0|          -1765|       NULL|         1|             1|              0|               1|         0|         0|  Cooking staff|              2|                   2|                          2|                 WEDNESDAY|                     15|                         0|                         0|                          0|                     0|                     0|                      0|    Self-employed|        NULL|  0.75691754|  0.26786894|        0.0619|             0.0|                     0.9742|         0.6464|        0.0062|          0.0|       0.1034|       0.1667|       0.2083|      0.0426|              0.0504|        0.0498|                    0.0|              0.0|          0.063|              0.0|                      0.9742|          0.6602|         0.0063|           0.0|        0.1034|        0.1667|        0.2083|       0.0436|               0.0551|         0.0519|                     0.0|               0.0|         0.0625|              0.0|                      0.9742|          0.6511|         0.0063|           0.0|        0.1034|        0.1667|        0.2083|       0.0433|               0.0513|         0.0507|                     0.0|               0.0|    reg oper account|block of flats|        0.0426|      Stone, brick|                 No|                       1|                       0|                       1|                       0|                  -183|              0|              1|              0|              0|              0|              0|              0|              0|               0|               0|               0|               0|               0|               0|               0|               0|               0|               0|               0|               0|                         0|                        0|                         0|                        2|                        0|                         0|\n",
      "|           12|    456081|     0|        Cash loans|          M|           Y|              Y|           0|         72000.0|  547344.0|    19791.0|       472500.0|  Unaccompanied|         Working|Secondary / secon...|             Married|House / apartment|                    0.0228|    -15265|        -2507|          -7889.0|          -3945|         11|         1|             1|              1|               1|         1|         0|        Drivers|              2|                   2|                          2|                    FRIDAY|                     12|                         0|                         0|                          0|                     0|                     0|                      0|    Self-employed|  0.51145685|  0.60757226|   0.6058363|          NULL|            NULL|                       NULL|           NULL|          NULL|         NULL|         NULL|         NULL|         NULL|        NULL|                NULL|          NULL|                   NULL|             NULL|           NULL|             NULL|                        NULL|            NULL|           NULL|          NULL|          NULL|          NULL|          NULL|         NULL|                 NULL|           NULL|                    NULL|              NULL|           NULL|             NULL|                        NULL|            NULL|           NULL|          NULL|          NULL|          NULL|          NULL|         NULL|                 NULL|           NULL|                    NULL|              NULL|                NULL|          NULL|          NULL|              NULL|               NULL|                       0|                       0|                       0|                       0|                     0|              0|              0|              0|              0|              0|              0|              1|              0|               0|               0|               0|               0|               0|               0|               0|               0|               0|               0|               0|               0|                         0|                        0|                         0|                        0|                        0|                         1|\n",
      "|           12|    456082|     0|        Cash loans|          M|           Y|              N|           0|        157500.0| 1078200.0|    28570.5|       900000.0|  Unaccompanied|   State servant|    Higher education|Single / not married|House / apartment|                   0.00702|    -11180|        -1654|           -528.0|          -3770|         12|         1|             1|              0|               1|         1|         0|       Managers|              1|                   2|                          2|                  THURSDAY|                     13|                         0|                         0|                          0|                     0|                     0|                      0|          Housing|  0.25592065|  0.57069314|  0.21035023|        0.1021|          0.1078|                     0.9975|         0.9524|          NULL|         0.18|       0.1552|       0.3333|         NULL|      0.0158|              0.0908|        0.1193|                 0.0039|           0.0283|         0.0945|           0.0963|                       0.997|          0.9543|           NULL|        0.1611|        0.1379|        0.3333|          NULL|       0.0159|               0.0992|         0.1199|                  0.0039|               0.0|         0.1031|           0.1078|                      0.9975|           0.953|           NULL|          0.18|        0.1552|        0.3333|          NULL|       0.0161|               0.0923|         0.1215|                  0.0039|            0.0289|reg oper spec acc...|block of flats|        0.1083|             Panel|                 No|                       0|                       0|                       0|                       0|                    -5|              0|              1|              0|              0|              0|              0|              0|              0|               0|               0|               0|               0|               0|               0|               0|               0|               1|               0|               0|               0|                         0|                        0|                         0|                        0|                        0|                         0|\n",
      "+-------------+----------+------+------------------+-----------+------------+---------------+------------+----------------+----------+-----------+---------------+---------------+----------------+--------------------+--------------------+-----------------+--------------------------+----------+-------------+-----------------+---------------+-----------+----------+--------------+---------------+----------------+----------+----------+---------------+---------------+--------------------+---------------------------+--------------------------+-----------------------+--------------------------+--------------------------+---------------------------+----------------------+----------------------+-----------------------+-----------------+------------+------------+------------+--------------+----------------+---------------------------+---------------+--------------+-------------+-------------+-------------+-------------+------------+--------------------+--------------+-----------------------+-----------------+---------------+-----------------+----------------------------+----------------+---------------+--------------+--------------+--------------+--------------+-------------+---------------------+---------------+------------------------+------------------+---------------+-----------------+----------------------------+----------------+---------------+--------------+--------------+--------------+--------------+-------------+---------------------+---------------+------------------------+------------------+--------------------+--------------+--------------+------------------+-------------------+------------------------+------------------------+------------------------+------------------------+----------------------+---------------+---------------+---------------+---------------+---------------+---------------+---------------+---------------+----------------+----------------+----------------+----------------+----------------+----------------+----------------+----------------+----------------+----------------+----------------+----------------+--------------------------+-------------------------+--------------------------+-------------------------+-------------------------+--------------------------+\n",
      "only showing top 5 rows\n"
     ]
    },
    {
     "name": "stderr",
     "output_type": "stream",
     "text": [
      "                                                                                \r"
     ]
    }
   ],
   "source": [
    "df.show(5)"
   ]
  },
  {
   "cell_type": "code",
   "execution_count": 9,
   "id": "210a8476",
   "metadata": {},
   "outputs": [],
   "source": [
    "def impute_with_linear_regression(\n",
    "    df: DataFrame,\n",
    "    feature_col: str,\n",
    "    label_col: str,\n",
    "    reg_param=0.3,\n",
    "    elastic_net_param=0.8,\n",
    ") -> DataFrame:\n",
    "    \"\"\"\n",
    "    Imputes missing values in `label_col` using a linear regression model trained on `feature_col`.\n",
    "\n",
    "    Parameters:\n",
    "    - df: Input Spark DataFrame\n",
    "    - feature_col: The column used as a predictor (e.g., \"amt_credit\")\n",
    "    - label_col: The target column with missing values to impute (e.g., \"amt_annuity\")\n",
    "    - reg_param: Regularization parameter (default 0.3)\n",
    "    - elastic_net_param: Elastic Net mixing parameter (default 0.8)\n",
    "\n",
    "    Returns:\n",
    "    - DataFrame with imputed values in `label_col`\n",
    "    \"\"\"\n",
    "\n",
    "    # Filter rows with non-null label values\n",
    "    train_df = df.filter(col(label_col).isNotNull())\n",
    "\n",
    "    if train_df.count() == 0:\n",
    "        raise ValueError(f\"No non-null values in '{label_col}' to train the model.\")\n",
    "\n",
    "    # Assemble feature vector\n",
    "    assembler = VectorAssembler(inputCols=[feature_col], outputCol=\"features\")\n",
    "\n",
    "    # Set up linear regression model\n",
    "    lr = LinearRegression(\n",
    "        featuresCol=\"features\",\n",
    "        labelCol=label_col,\n",
    "        regParam=reg_param,\n",
    "        elasticNetParam=elastic_net_param,\n",
    "    )\n",
    "\n",
    "    # Build and train the pipeline\n",
    "    pipeline = Pipeline(stages=[assembler, lr])\n",
    "    model = pipeline.fit(train_df)\n",
    "\n",
    "    # Extract trained linear regression model\n",
    "    lr_model = model.stages[-1]\n",
    "    coefficient = float(lr_model.coefficients[0])\n",
    "    intercept = float(lr_model.intercept)\n",
    "\n",
    "    # Impute missing values\n",
    "    df = df.withColumn(\n",
    "        label_col,\n",
    "        when(\n",
    "            col(label_col).isNull(),\n",
    "            col(feature_col) * lit(coefficient) + lit(intercept),\n",
    "        ).otherwise(col(label_col)),\n",
    "    )\n",
    "    return df"
   ]
  },
  {
   "cell_type": "code",
   "execution_count": 10,
   "id": "95d48f07",
   "metadata": {},
   "outputs": [
    {
     "name": "stderr",
     "output_type": "stream",
     "text": [
      "25/07/27 00:51:26 WARN InstanceBuilder: Failed to load implementation from:dev.ludovic.netlib.blas.JNIBLAS\n",
      "                                                                                \r"
     ]
    }
   ],
   "source": [
    "df = impute_with_linear_regression(\n",
    "    df=df, feature_col=\"amt_credit\", label_col=\"amt_annuity\"\n",
    ")\n",
    "df = impute_with_linear_regression(\n",
    "    df=df, feature_col=\"amt_credit\", label_col=\"amt_goods_price\"\n",
    ")"
   ]
  },
  {
   "cell_type": "code",
   "execution_count": 11,
   "id": "6482f158",
   "metadata": {},
   "outputs": [],
   "source": [
    "average_cnt_fam_members = int(\n",
    "    np.floor(\n",
    "        df.select(\n",
    "            expr(\"avg(cnt_fam_members)\").alias(\"average_cnt_fam_members\")\n",
    "        ).collect()[0][\"average_cnt_fam_members\"]\n",
    "    )\n",
    ")\n",
    "\n",
    "df = df.fillna({\"cnt_fam_members\": average_cnt_fam_members})"
   ]
  },
  {
   "cell_type": "code",
   "execution_count": 12,
   "id": "7950576d",
   "metadata": {},
   "outputs": [],
   "source": [
    "# Create New Features\n",
    "df = add_credit_features(df)\n",
    "df = df.toDF(*[col.lower() for col in df.columns])"
   ]
  },
  {
   "cell_type": "markdown",
   "id": "dbb6b2b1",
   "metadata": {},
   "source": [
    "***"
   ]
  },
  {
   "cell_type": "code",
   "execution_count": 13,
   "id": "99b6036b",
   "metadata": {},
   "outputs": [],
   "source": [
    "# for col in df.columns:\n",
    "#     get_column_summary(df=df, column_name=col)\n",
    "#     print(\"\\n\\n\")"
   ]
  },
  {
   "cell_type": "code",
   "execution_count": 14,
   "id": "80995d26",
   "metadata": {},
   "outputs": [],
   "source": [
    "# from pyspark.ml.feature import StringIndexer\n",
    "\n",
    "# indexer = StringIndexer(\n",
    "#     inputCol=\"name_contract_type\", outputCol=\"name_contract_type_string_indexed\"\n",
    "# )\n",
    "# model = indexer.fit(df)\n",
    "# df = model.transform(df\n",
    "\n",
    "# from pyspark.sql import Row\n",
    "\n",
    "# temp_df = spark.createDataFrame(\n",
    "#     [Row(name_contract_type=item) for item in model.labels]\n",
    "# )\n",
    "# temp_df.show()\n",
    "# yo_indexer = StringIndexer(\n",
    "#     inputCol=\"name_contract_type\", outputCol=\"name_contract_type_Index\"\n",
    "# )\n",
    "\n",
    "# yo_model = yo_indexer.fit(temp_df)\n",
    "# yo_model.labels == model.labels"
   ]
  },
  {
   "cell_type": "code",
   "execution_count": 15,
   "id": "5a64b10f",
   "metadata": {},
   "outputs": [],
   "source": [
    "for col_name in [\n",
    "    \"name_contract_type\",\n",
    "    \"code_gender\",\n",
    "    \"flag_own_car\",\n",
    "    \"flag_own_realty\",\n",
    "]:\n",
    "    indexer = StringIndexer(\n",
    "        inputCol=col_name,\n",
    "        outputCol=col_name + \"_string_indexed\",\n",
    "        stringOrderType=\"alphabetAsc\",\n",
    "    )\n",
    "    model = indexer.fit(df)\n",
    "    df = model.transform(df)\n",
    "\n",
    "    df = df.drop(col_name)"
   ]
  },
  {
   "cell_type": "code",
   "execution_count": 16,
   "id": "47a8bced",
   "metadata": {},
   "outputs": [],
   "source": [
    "df = assign_category_labels(\n",
    "    df=df,\n",
    "    category_column=\"name_type_suite\",\n",
    "    categories=[\n",
    "        \"Unaccompanied\",\n",
    "        \"Other_B\",\n",
    "        \"Other_A\",\n",
    "        \"Group of people\",\n",
    "        \"Children\",\n",
    "        \"Spouse, partner\",\n",
    "        \"Family\",\n",
    "    ],\n",
    ")\n",
    "df = df.drop(\"name_type_suite\")"
   ]
  },
  {
   "cell_type": "code",
   "execution_count": 17,
   "id": "aea36a6d",
   "metadata": {},
   "outputs": [],
   "source": [
    "categories_mapping_dict = {\n",
    "    \"Working\": [\"Working\"],\n",
    "    \"Commercial associate\": [\"Commercial associate\", \"Businessman\"],\n",
    "    \"Pensioner\": [\"Pensioner\"],\n",
    "    \"State servant\": [\"State servant\"],\n",
    "    \"Not Earning\": [\"Unemployed\", \"Student\", \"Maternity leave\"],\n",
    "}\n",
    "\n",
    "df = assign_grouped_category_labels(\n",
    "    df=df,\n",
    "    category_column=\"name_income_type\",  # df.columns[col_index],\n",
    "    categories_mapping=categories_mapping_dict,\n",
    ")\n",
    "\n",
    "df = df.drop(\"name_income_type\")"
   ]
  },
  {
   "cell_type": "code",
   "execution_count": 18,
   "id": "c61d0824",
   "metadata": {},
   "outputs": [],
   "source": [
    "for col_name in [\"name_education_type\", \"name_family_status\", \"name_housing_type\"]:\n",
    "    indexer = StringIndexer(\n",
    "        inputCol=col_name,\n",
    "        outputCol=col_name + \"_string_indexed\",\n",
    "        stringOrderType=\"alphabetAsc\",\n",
    "    )\n",
    "    model = indexer.fit(df)\n",
    "    df = model.transform(df)\n",
    "\n",
    "    df = df.drop(col_name)"
   ]
  },
  {
   "cell_type": "code",
   "execution_count": 19,
   "id": "ff733047",
   "metadata": {},
   "outputs": [],
   "source": [
    "df = df.fillna({\"own_car_age\": -1})"
   ]
  },
  {
   "cell_type": "code",
   "execution_count": 20,
   "id": "6308e665",
   "metadata": {},
   "outputs": [],
   "source": [
    "df = assign_category_labels(\n",
    "    df=df,\n",
    "    category_column=\"occupation_type\",\n",
    "    categories=[\n",
    "        \"Managers\",\n",
    "        \"High skill tech staff\",\n",
    "        \"HR staff\",\n",
    "        \"Medicine staff\",\n",
    "        \"Realty agents\",\n",
    "        \"Sales staff\",\n",
    "        \"IT staff\",\n",
    "        \"Accountants\",\n",
    "        \"Private service staff\",\n",
    "        \"Core staff\",\n",
    "        \"Drivers\",\n",
    "        \"Cooking staff\",\n",
    "        \"Security staff\",\n",
    "        \"Waiters/barmen staff\",\n",
    "        \"Cleaning staff\",\n",
    "        \"Secretaries\",\n",
    "        \"Laborers\",\n",
    "        \"Low-skill Laborers\",\n",
    "    ],\n",
    ")\n",
    "\n",
    "df = df.drop(\"occupation_type\")"
   ]
  },
  {
   "cell_type": "code",
   "execution_count": 21,
   "id": "4089a1b7",
   "metadata": {},
   "outputs": [],
   "source": [
    "df = assign_category_labels(\n",
    "    df=df,\n",
    "    category_column=\"weekday_appr_process_start\",\n",
    "    categories=[\n",
    "        \"MONDAY\",\n",
    "        \"TUESDAY\",\n",
    "        \"WEDNESDAY\",\n",
    "        \"THURSDAY\",\n",
    "        \"FRIDAY\",\n",
    "        \"SATURDAY\",\n",
    "        \"SUNDAY\",\n",
    "    ],\n",
    ")\n",
    "\n",
    "df = df.drop(\"weekday_appr_process_start\")"
   ]
  },
  {
   "cell_type": "code",
   "execution_count": 22,
   "id": "662a9e7b",
   "metadata": {},
   "outputs": [],
   "source": [
    "df = assign_category_labels(\n",
    "    df=df,\n",
    "    category_column=\"organization_type\",\n",
    "    categories=[\n",
    "        value[\"organization_type\"]\n",
    "        for value in (\n",
    "            df.groupBy(\"organization_type\")\n",
    "            .agg(F.count(\"organization_type\").alias(\"count\"))\n",
    "            .orderBy(F.col(\"count\").desc())\n",
    "        ).collect()\n",
    "    ],\n",
    ")\n",
    "\n",
    "df = df.drop(\"organization_type\")"
   ]
  },
  {
   "cell_type": "code",
   "execution_count": 23,
   "id": "2578685d",
   "metadata": {},
   "outputs": [],
   "source": [
    "for column_name in [\n",
    "    \"apartments_avg\",\n",
    "    \"basementarea_avg\",\n",
    "    \"years_beginexpluatation_avg\",\n",
    "    \"years_build_avg\",\n",
    "    \"commonarea_avg\",\n",
    "    \"elevators_avg\",\n",
    "    \"entrances_avg\",\n",
    "    \"floorsmax_avg\",\n",
    "    \"floorsmin_avg\",\n",
    "    \"landarea_avg\",\n",
    "    \"livingapartments_avg\",\n",
    "    \"livingarea_avg\",\n",
    "    \"nonlivingapartments_avg\",\n",
    "    \"nonlivingarea_avg\",\n",
    "    \"apartments_mode\",\n",
    "    \"basementarea_mode\",\n",
    "    \"years_beginexpluatation_mode\",\n",
    "    \"years_build_mode\",\n",
    "    \"commonarea_mode\",\n",
    "    \"elevators_mode\",\n",
    "    \"entrances_mode\",\n",
    "    \"floorsmax_mode\",\n",
    "    \"floorsmin_mode\",\n",
    "    \"landarea_mode\",\n",
    "    \"livingapartments_mode\",\n",
    "    \"livingarea_mode\",\n",
    "    \"nonlivingapartments_mode\",\n",
    "    \"nonlivingarea_mode\",\n",
    "    \"apartments_medi\",\n",
    "    \"basementarea_medi\",\n",
    "    \"years_beginexpluatation_medi\",\n",
    "    \"years_build_medi\",\n",
    "    \"commonarea_medi\",\n",
    "    \"elevators_medi\",\n",
    "    \"entrances_medi\",\n",
    "    \"floorsmax_medi\",\n",
    "    \"floorsmin_medi\",\n",
    "    \"landarea_medi\",\n",
    "    \"livingapartments_medi\",\n",
    "    \"livingarea_medi\",\n",
    "    \"nonlivingapartments_medi\",\n",
    "    \"nonlivingarea_medi\",\n",
    "    \"fondkapremont_mode\",\n",
    "    \"housetype_mode\",\n",
    "    \"totalarea_mode\",\n",
    "    \"wallsmaterial_mode\",\n",
    "    \"emergencystate_mode\",\n",
    "    \"ext_source_1\",\n",
    "    \"ext_source_2\",\n",
    "    \"ext_source_3\",\n",
    "    \"obs_30_cnt_social_circle\",\n",
    "    \"def_30_cnt_social_circle\",\n",
    "    \"obs_60_cnt_social_circle\",\n",
    "    \"def_60_cnt_social_circle\",\n",
    "    \"days_last_phone_change\",\n",
    "    \"amt_req_credit_bureau_hour\",\n",
    "    \"amt_req_credit_bureau_day\",\n",
    "    \"amt_req_credit_bureau_week\",\n",
    "    \"amt_req_credit_bureau_mon\",\n",
    "    \"amt_req_credit_bureau_qrt\",\n",
    "    \"amt_req_credit_bureau_year\",\n",
    "]:\n",
    "    df = df.fillna({column_name: -1})"
   ]
  },
  {
   "cell_type": "markdown",
   "id": "f1a333dc",
   "metadata": {},
   "source": [
    "***"
   ]
  },
  {
   "cell_type": "code",
   "execution_count": 24,
   "id": "5fec6e3f",
   "metadata": {},
   "outputs": [
    {
     "name": "stderr",
     "output_type": "stream",
     "text": [
      "[Stage 59:>                                                         (0 + 1) / 1]\r"
     ]
    },
    {
     "name": "stdout",
     "output_type": "stream",
     "text": [
      "+-------------+----------+------+------------+----------------+----------+-----------+---------------+--------------------------+----------+-------------+-----------------+---------------+-----------+----------+--------------+---------------+----------------+----------+----------+---------------+--------------------+---------------------------+-----------------------+--------------------------+--------------------------+---------------------------+----------------------+----------------------+-----------------------+------------+------------+------------+--------------+----------------+---------------------------+---------------+--------------+-------------+-------------+-------------+-------------+------------+--------------------+--------------+-----------------------+-----------------+---------------+-----------------+----------------------------+----------------+---------------+--------------+--------------+--------------+--------------+-------------+---------------------+---------------+------------------------+------------------+---------------+-----------------+----------------------------+----------------+---------------+--------------+--------------+--------------+--------------+-------------+---------------------+---------------+------------------------+------------------+--------------------+--------------+--------------+------------------+-------------------+------------------------+------------------------+------------------------+------------------------+----------------------+---------------+---------------+---------------+---------------+---------------+---------------+---------------+---------------+----------------+----------------+----------------+----------------+----------------+----------------+----------------+----------------+----------------+----------------+----------------+----------------+--------------------------+-------------------------+--------------------------+-------------------------+-------------------------+--------------------------+------------------+--------------------+------------------+------------------------+------------------+----------------+-------------+----------------------+------------------+------------------+----------------------+----------------------+--------------------+---------------------+------------------+---------------------------------+--------------------------+---------------------------+------------------------------+---------------------+------------------------------+----------------------------------+---------------------------------+--------------------------------+---------------------+--------------------------------+-----------------------+\n",
      "|main_split_id|sk_id_curr|target|cnt_children|amt_income_total|amt_credit|amt_annuity|amt_goods_price|region_population_relative|days_birth|days_employed|days_registration|days_id_publish|own_car_age|flag_mobil|flag_emp_phone|flag_work_phone|flag_cont_mobile|flag_phone|flag_email|cnt_fam_members|region_rating_client|region_rating_client_w_city|hour_appr_process_start|reg_region_not_live_region|reg_region_not_work_region|live_region_not_work_region|reg_city_not_live_city|reg_city_not_work_city|live_city_not_work_city|ext_source_1|ext_source_2|ext_source_3|apartments_avg|basementarea_avg|years_beginexpluatation_avg|years_build_avg|commonarea_avg|elevators_avg|entrances_avg|floorsmax_avg|floorsmin_avg|landarea_avg|livingapartments_avg|livingarea_avg|nonlivingapartments_avg|nonlivingarea_avg|apartments_mode|basementarea_mode|years_beginexpluatation_mode|years_build_mode|commonarea_mode|elevators_mode|entrances_mode|floorsmax_mode|floorsmin_mode|landarea_mode|livingapartments_mode|livingarea_mode|nonlivingapartments_mode|nonlivingarea_mode|apartments_medi|basementarea_medi|years_beginexpluatation_medi|years_build_medi|commonarea_medi|elevators_medi|entrances_medi|floorsmax_medi|floorsmin_medi|landarea_medi|livingapartments_medi|livingarea_medi|nonlivingapartments_medi|nonlivingarea_medi|  fondkapremont_mode|housetype_mode|totalarea_mode|wallsmaterial_mode|emergencystate_mode|obs_30_cnt_social_circle|def_30_cnt_social_circle|obs_60_cnt_social_circle|def_60_cnt_social_circle|days_last_phone_change|flag_document_2|flag_document_3|flag_document_4|flag_document_5|flag_document_6|flag_document_7|flag_document_8|flag_document_9|flag_document_10|flag_document_11|flag_document_12|flag_document_13|flag_document_14|flag_document_15|flag_document_16|flag_document_17|flag_document_18|flag_document_19|flag_document_20|flag_document_21|amt_req_credit_bureau_hour|amt_req_credit_bureau_day|amt_req_credit_bureau_week|amt_req_credit_bureau_mon|amt_req_credit_bureau_qrt|amt_req_credit_bureau_year| debt_income_ratio|annuity_income_ratio|credit_goods_ratio|income_per_family_member|phone_availability|mobile_reachable|docs_provided|address_mismatch_count|region_rating_diff|  ext_source_count|social_default_rate_30|social_default_rate_60|employment_age_ratio|income_annuity_buffer|employment_age_gap|name_contract_type_string_indexed|code_gender_string_indexed|flag_own_car_string_indexed|flag_own_realty_string_indexed|name_type_suite_index|name_income_type_grouped_index|name_education_type_string_indexed|name_family_status_string_indexed|name_housing_type_string_indexed|occupation_type_index|weekday_appr_process_start_index|organization_type_index|\n",
      "+-------------+----------+------+------------+----------------+----------+-----------+---------------+--------------------------+----------+-------------+-----------------+---------------+-----------+----------+--------------+---------------+----------------+----------+----------+---------------+--------------------+---------------------------+-----------------------+--------------------------+--------------------------+---------------------------+----------------------+----------------------+-----------------------+------------+------------+------------+--------------+----------------+---------------------------+---------------+--------------+-------------+-------------+-------------+-------------+------------+--------------------+--------------+-----------------------+-----------------+---------------+-----------------+----------------------------+----------------+---------------+--------------+--------------+--------------+--------------+-------------+---------------------+---------------+------------------------+------------------+---------------+-----------------+----------------------------+----------------+---------------+--------------+--------------+--------------+--------------+-------------+---------------------+---------------+------------------------+------------------+--------------------+--------------+--------------+------------------+-------------------+------------------------+------------------------+------------------------+------------------------+----------------------+---------------+---------------+---------------+---------------+---------------+---------------+---------------+---------------+----------------+----------------+----------------+----------------+----------------+----------------+----------------+----------------+----------------+----------------+----------------+----------------+--------------------------+-------------------------+--------------------------+-------------------------+-------------------------+--------------------------+------------------+--------------------+------------------+------------------------+------------------+----------------+-------------+----------------------+------------------+------------------+----------------------+----------------------+--------------------+---------------------+------------------+---------------------------------+--------------------------+---------------------------+------------------------------+---------------------+------------------------------+----------------------------------+---------------------------------+--------------------------------+---------------------+--------------------------------+-----------------------+\n",
      "|           12|    456078|     0|           0|        112500.0|  390960.0|    21339.0|       337500.0|                  0.035792|     -8573|         -322|          -1822.0|          -1196|         -1|         1|             1|              1|               1|         0|         0|              1|                   2|                          2|                     10|                         0|                         0|                          0|                     0|                     0|                      0|        -1.0|  0.26947117|        -1.0|          -1.0|            -1.0|                       -1.0|           -1.0|          -1.0|         -1.0|         -1.0|         -1.0|         -1.0|        -1.0|                -1.0|          -1.0|                   -1.0|             -1.0|           -1.0|             -1.0|                        -1.0|            -1.0|           -1.0|          -1.0|          -1.0|          -1.0|          -1.0|         -1.0|                 -1.0|           -1.0|                    -1.0|              -1.0|           -1.0|             -1.0|                        -1.0|            -1.0|           -1.0|          -1.0|          -1.0|          -1.0|          -1.0|         -1.0|                 -1.0|           -1.0|                    -1.0|              -1.0|                  -1|            -1|          -1.0|                -1|                 -1|                       1|                       0|                       1|                       0|                     0|              0|              1|              0|              0|              0|              0|              0|              0|               0|               0|               0|               0|               0|               0|               0|               0|               0|               0|               0|               0|                        -1|                       -1|                        -1|                       -1|                       -1|                        -1|            3.4752|             0.18968|            1.1584|                112500.0|                 2|               1|            1|                     0|               0.0|0.2694711685180664|                   0.0|                   0.0| 0.03755978070687041|     4.27203711514129|0.9624402192931296|                              0.0|                       0.0|                        0.0|                           1.0|                    0|                             0|                               4.0|                              3.0|                             1.0|                   -1|                               6|                      2|\n",
      "|           12|    456079|     0|           0|        148500.0|  157050.0|     6781.5|       112500.0|                  0.030755|    -21569|        -1091|          -9519.0|          -4776|         -1|         1|             1|              0|               1|         0|         0|              2|                   2|                          2|                     15|                         0|                         0|                          0|                     0|                     0|                      0|   0.5729892|  0.71241915|   0.5797274|          -1.0|            -1.0|                       -1.0|           -1.0|          -1.0|         -1.0|         -1.0|         -1.0|         -1.0|        -1.0|                -1.0|          -1.0|                   -1.0|             -1.0|           -1.0|             -1.0|                        -1.0|            -1.0|           -1.0|          -1.0|          -1.0|          -1.0|          -1.0|         -1.0|                 -1.0|           -1.0|                    -1.0|              -1.0|           -1.0|             -1.0|                        -1.0|            -1.0|           -1.0|          -1.0|          -1.0|          -1.0|          -1.0|         -1.0|                 -1.0|           -1.0|                    -1.0|              -1.0|                  -1|            -1|          -1.0|                -1|                 -1|                       1|                       0|                       1|                       0|                  -242|              0|              1|              0|              0|              0|              0|              0|              0|               0|               0|               0|               0|               0|               0|               0|               0|               0|               0|               0|               0|                         0|                        0|                         0|                        0|                        0|                         6|1.0575757575757576| 0.04566666666666667|             1.396|                 74250.0|                 2|               1|            1|                     0|               0.0|1.8651357889175415|                   0.0|                   0.0| 0.05058185358616533|     20.8978102189781|0.9494181464138347|                              0.0|                       0.0|                        0.0|                           0.0|                    6|                             0|                               1.0|                              1.0|                             1.0|                    0|                               2|                      7|\n",
      "|           12|    456080|     0|           0|        121500.0|  448056.0|    17019.0|       315000.0|                  0.019689|    -18248|        -1084|          -8244.0|          -1765|         -1|         1|             1|              0|               1|         0|         0|              2|                   2|                          2|                     15|                         0|                         0|                          0|                     0|                     0|                      0|        -1.0|  0.75691754|  0.26786894|        0.0619|             0.0|                     0.9742|         0.6464|        0.0062|          0.0|       0.1034|       0.1667|       0.2083|      0.0426|              0.0504|        0.0498|                    0.0|              0.0|          0.063|              0.0|                      0.9742|          0.6602|         0.0063|           0.0|        0.1034|        0.1667|        0.2083|       0.0436|               0.0551|         0.0519|                     0.0|               0.0|         0.0625|              0.0|                      0.9742|          0.6511|         0.0063|           0.0|        0.1034|        0.1667|        0.2083|       0.0433|               0.0513|         0.0507|                     0.0|               0.0|    reg oper account|block of flats|        0.0426|      Stone, brick|                 No|                       1|                       0|                       1|                       0|                  -183|              0|              1|              0|              0|              0|              0|              0|              0|               0|               0|               0|               0|               0|               0|               0|               0|               0|               0|               0|               0|                         0|                        0|                         0|                        2|                        0|                         0|3.6877037037037037| 0.14007407407407407|            1.4224|                 60750.0|                 2|               1|            1|                     0|               0.0|1.0247864723205566|                   0.0|                   0.0| 0.05940377027619465|   6.1390798519301955|0.9405962297238053|                              0.0|                       0.0|                        0.0|                           1.0|                    0|                             0|                               4.0|                              1.0|                             1.0|                   11|                               2|                      2|\n",
      "|           12|    456081|     0|           0|         72000.0|  547344.0|    19791.0|       472500.0|                    0.0228|    -15265|        -2507|          -7889.0|          -3945|         11|         1|             1|              1|               1|         1|         0|              2|                   2|                          2|                     12|                         0|                         0|                          0|                     0|                     0|                      0|  0.51145685|  0.60757226|   0.6058363|          -1.0|            -1.0|                       -1.0|           -1.0|          -1.0|         -1.0|         -1.0|         -1.0|         -1.0|        -1.0|                -1.0|          -1.0|                   -1.0|             -1.0|           -1.0|             -1.0|                        -1.0|            -1.0|           -1.0|          -1.0|          -1.0|          -1.0|          -1.0|         -1.0|                 -1.0|           -1.0|                    -1.0|              -1.0|           -1.0|             -1.0|                        -1.0|            -1.0|           -1.0|          -1.0|          -1.0|          -1.0|          -1.0|         -1.0|                 -1.0|           -1.0|                    -1.0|              -1.0|                  -1|            -1|          -1.0|                -1|                 -1|                       0|                       0|                       0|                       0|                     0|              0|              0|              0|              0|              0|              0|              1|              0|               0|               0|               0|               0|               0|               0|               0|               0|               0|               0|               0|               0|                         0|                        0|                         0|                        0|                        0|                         1|             7.602|            0.274875|            1.1584|                 36000.0|                 3|               1|            1|                     0|               0.0|1.7248653769493103|                  -1.0|                  -1.0| 0.16423190304618407|    2.638017280582083|0.8357680969538159|                              0.0|                       1.0|                        1.0|                           1.0|                    0|                             0|                               4.0|                              1.0|                             1.0|                   10|                               4|                      2|\n",
      "|           12|    456082|     0|           0|        157500.0| 1078200.0|    28570.5|       900000.0|                   0.00702|    -11180|        -1654|           -528.0|          -3770|         12|         1|             1|              0|               1|         1|         0|              1|                   2|                          2|                     13|                         0|                         0|                          0|                     0|                     0|                      0|  0.25592065|  0.57069314|  0.21035023|        0.1021|          0.1078|                     0.9975|         0.9524|          -1.0|         0.18|       0.1552|       0.3333|         -1.0|      0.0158|              0.0908|        0.1193|                 0.0039|           0.0283|         0.0945|           0.0963|                       0.997|          0.9543|           -1.0|        0.1611|        0.1379|        0.3333|          -1.0|       0.0159|               0.0992|         0.1199|                  0.0039|               0.0|         0.1031|           0.1078|                      0.9975|           0.953|           -1.0|          0.18|        0.1552|        0.3333|          -1.0|       0.0161|               0.0923|         0.1215|                  0.0039|            0.0289|reg oper spec acc...|block of flats|        0.1083|             Panel|                 No|                       0|                       0|                       0|                       0|                    -5|              0|              1|              0|              0|              0|              0|              0|              0|               0|               0|               0|               0|               0|               0|               0|               0|               1|               0|               0|               0|                         0|                        0|                         0|                        0|                        0|                         0| 6.845714285714286|              0.1814|             1.198|                157500.0|                 3|               1|            2|                     0|               0.0| 1.036964014172554|                  -1.0|                  -1.0|  0.1479427549194991|    4.512679162072767|0.8520572450805008|                              0.0|                       1.0|                        1.0|                           0.0|                    0|                             3|                               1.0|                              3.0|                             1.0|                    0|                               3|                     17|\n",
      "+-------------+----------+------+------------+----------------+----------+-----------+---------------+--------------------------+----------+-------------+-----------------+---------------+-----------+----------+--------------+---------------+----------------+----------+----------+---------------+--------------------+---------------------------+-----------------------+--------------------------+--------------------------+---------------------------+----------------------+----------------------+-----------------------+------------+------------+------------+--------------+----------------+---------------------------+---------------+--------------+-------------+-------------+-------------+-------------+------------+--------------------+--------------+-----------------------+-----------------+---------------+-----------------+----------------------------+----------------+---------------+--------------+--------------+--------------+--------------+-------------+---------------------+---------------+------------------------+------------------+---------------+-----------------+----------------------------+----------------+---------------+--------------+--------------+--------------+--------------+-------------+---------------------+---------------+------------------------+------------------+--------------------+--------------+--------------+------------------+-------------------+------------------------+------------------------+------------------------+------------------------+----------------------+---------------+---------------+---------------+---------------+---------------+---------------+---------------+---------------+----------------+----------------+----------------+----------------+----------------+----------------+----------------+----------------+----------------+----------------+----------------+----------------+--------------------------+-------------------------+--------------------------+-------------------------+-------------------------+--------------------------+------------------+--------------------+------------------+------------------------+------------------+----------------+-------------+----------------------+------------------+------------------+----------------------+----------------------+--------------------+---------------------+------------------+---------------------------------+--------------------------+---------------------------+------------------------------+---------------------+------------------------------+----------------------------------+---------------------------------+--------------------------------+---------------------+--------------------------------+-----------------------+\n",
      "only showing top 5 rows\n"
     ]
    },
    {
     "name": "stderr",
     "output_type": "stream",
     "text": [
      "                                                                                \r"
     ]
    }
   ],
   "source": [
    "df.show(5)"
   ]
  },
  {
   "cell_type": "markdown",
   "id": "0f0225a4",
   "metadata": {},
   "source": [
    "***"
   ]
  },
  {
   "cell_type": "code",
   "execution_count": 26,
   "id": "5282262e",
   "metadata": {},
   "outputs": [],
   "source": [
    "# df = df.toPandas()\n",
    "# df.to_parquet(\n",
    "#     path=\"notebooks/training_initial_model/initial_processed_data/application_train.parquet\", index=False\n",
    "# )"
   ]
  },
  {
   "cell_type": "code",
   "execution_count": null,
   "id": "776c67df",
   "metadata": {},
   "outputs": [
    {
     "name": "stderr",
     "output_type": "stream",
     "text": [
      "                                                                                \r"
     ]
    }
   ],
   "source": [
    "target_db = \"processed_data_staging\"\n",
    "target_url = f\"jdbc:postgresql://{host}:{port}/{target_db}\"\n",
    "\n",
    "target_properties = {\n",
    "    \"user\": username,\n",
    "    \"password\": password,\n",
    "    \"driver\": \"org.postgresql.Driver\",\n",
    "}\n",
    "\n",
    "df.write.jdbc(\n",
    "    url=target_url,\n",
    "    table=\"application_train\",\n",
    "    mode=\"overwrite\",\n",
    "    properties=target_properties,\n",
    ")"
   ]
  },
  {
   "cell_type": "code",
   "execution_count": null,
   "id": "809b2059",
   "metadata": {},
   "outputs": [],
   "source": []
  },
  {
   "cell_type": "markdown",
   "id": "d1fa72b3",
   "metadata": {},
   "source": [
    "***"
   ]
  },
  {
   "cell_type": "code",
   "execution_count": null,
   "id": "6863ddc1",
   "metadata": {},
   "outputs": [],
   "source": []
  },
  {
   "cell_type": "code",
   "execution_count": null,
   "id": "ddd518f1",
   "metadata": {},
   "outputs": [],
   "source": []
  },
  {
   "cell_type": "code",
   "execution_count": null,
   "id": "5c59edb6",
   "metadata": {},
   "outputs": [],
   "source": []
  },
  {
   "cell_type": "code",
   "execution_count": null,
   "id": "3e1221f3",
   "metadata": {},
   "outputs": [],
   "source": []
  },
  {
   "cell_type": "code",
   "execution_count": null,
   "id": "d4353982",
   "metadata": {},
   "outputs": [],
   "source": []
  }
 ],
 "metadata": {
  "kernelspec": {
   "display_name": "Credit_Risk_MLOps_Project",
   "language": "python",
   "name": "python3"
  },
  "language_info": {
   "codemirror_mode": {
    "name": "ipython",
    "version": 3
   },
   "file_extension": ".py",
   "mimetype": "text/x-python",
   "name": "python",
   "nbconvert_exporter": "python",
   "pygments_lexer": "ipython3",
   "version": "3.13.5"
  }
 },
 "nbformat": 4,
 "nbformat_minor": 5
}
